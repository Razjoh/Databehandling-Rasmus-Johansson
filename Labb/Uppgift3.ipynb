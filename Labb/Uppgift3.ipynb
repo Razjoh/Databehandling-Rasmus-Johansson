{
 "cells": [
  {
   "cell_type": "markdown",
   "metadata": {},
   "source": [
    "# KPIer\n",
    "\n",
    "- Vaccination över tid och påverkan på dödsfall och intensivvård: Minskade dödsfall och svårt sjuka med vaccination?\n",
    "- Jämförelse av fall i olika kommuner: Var det värst i de största städerna?\n",
    "- Intensivvård mot dödsfall: Hur effektiv var vården?\n",
    "- Åldersskillnaden i fall: Var valet att vaccinera äldre först rätt?\n",
    "\n"
   ]
  },
  {
   "cell_type": "markdown",
   "metadata": {},
   "source": [
    "## Explorativ analys\n",
    "\n",
    "Började med en manuell lätt avläsning av de olika excel bladen för att få en idé av vilken data som fanns och vilka KPIer som skulle kunna göra från den.\n",
    "\n",
    "Bladed vaccinationer tidsserie ger en bild av antalet vaccinationer över tid vilket skulle kunna jämnföras med olika coviddata som dödsfall för att få en idé om hur effektivt vaccinet var. \n",
    "\n",
    "Det fanns också olika data från kommuner både kring vaccinationer och fall, möjliga undersökningar som skulle kunna göras är om det var värre i storstäderna mot landsbyggden och om sättet att fördela vacciner var rättvist/effektivt. Intressant sidopunkt att se om det fanns någon kommun som hade många fall men dålig vaccinationsmängd.\n",
    "\n",
    "Jag hittade också olika intensivvårdsdata som skulle kunna jämföras med dödsfallen för att få en bild av hur effektiv intensivvården var, får göra mer dataanalys för att se om det fanns data för avlidna i vården eller om det enbart går att jämnföra dödsfall.\n",
    "\n",
    "En till sak att titta på är åldersmätningarna som fanns och hur distributionen där ser ut, om valet att vaccinera äldre först rätt."
   ]
  },
  {
   "cell_type": "markdown",
   "metadata": {},
   "source": [
    "## KPI 1: Minskade dödsfall och svårt sjuka med vaccination?"
   ]
  },
  {
   "cell_type": "code",
   "execution_count": 1,
   "metadata": {},
   "outputs": [
    {
     "data": {
      "text/html": [
       "<div>\n",
       "<style scoped>\n",
       "    .dataframe tbody tr th:only-of-type {\n",
       "        vertical-align: middle;\n",
       "    }\n",
       "\n",
       "    .dataframe tbody tr th {\n",
       "        vertical-align: top;\n",
       "    }\n",
       "\n",
       "    .dataframe thead th {\n",
       "        text-align: right;\n",
       "    }\n",
       "</style>\n",
       "<table border=\"1\" class=\"dataframe\">\n",
       "  <thead>\n",
       "    <tr style=\"text-align: right;\">\n",
       "      <th></th>\n",
       "      <th>Vecka</th>\n",
       "      <th>År</th>\n",
       "      <th>Region</th>\n",
       "      <th>Antal vaccinationer</th>\n",
       "    </tr>\n",
       "  </thead>\n",
       "  <tbody>\n",
       "    <tr>\n",
       "      <th>0</th>\n",
       "      <td>52</td>\n",
       "      <td>2020</td>\n",
       "      <td>| Sverige |</td>\n",
       "      <td>2478</td>\n",
       "    </tr>\n",
       "    <tr>\n",
       "      <th>1</th>\n",
       "      <td>52</td>\n",
       "      <td>2020</td>\n",
       "      <td>Stockholm</td>\n",
       "      <td>289</td>\n",
       "    </tr>\n",
       "    <tr>\n",
       "      <th>2</th>\n",
       "      <td>52</td>\n",
       "      <td>2020</td>\n",
       "      <td>Uppsala</td>\n",
       "      <td>9</td>\n",
       "    </tr>\n",
       "    <tr>\n",
       "      <th>3</th>\n",
       "      <td>52</td>\n",
       "      <td>2020</td>\n",
       "      <td>Södermanland</td>\n",
       "      <td>116</td>\n",
       "    </tr>\n",
       "    <tr>\n",
       "      <th>4</th>\n",
       "      <td>52</td>\n",
       "      <td>2020</td>\n",
       "      <td>Östergötland</td>\n",
       "      <td>214</td>\n",
       "    </tr>\n",
       "  </tbody>\n",
       "</table>\n",
       "</div>"
      ],
      "text/plain": [
       "   Vecka    År        Region  Antal vaccinationer\n",
       "0     52  2020   | Sverige |                 2478\n",
       "1     52  2020     Stockholm                  289\n",
       "2     52  2020       Uppsala                    9\n",
       "3     52  2020  Södermanland                  116\n",
       "4     52  2020  Östergötland                  214"
      ]
     },
     "execution_count": 1,
     "metadata": {},
     "output_type": "execute_result"
    }
   ],
   "source": [
    "import pandas as pd\n",
    "import matplotlib.pyplot as plt\n",
    "import seaborn as sns\n",
    "import numpy as np\n",
    "import plotly.express as px\n",
    "\n",
    "\n",
    "df_timeframe = pd.read_excel(\"Folkhalsomyndigheten_Covid19_Vaccine.xlsx\", sheet_name= \"Vaccinationer tidsserie\")\n",
    "df_timeframe.head()"
   ]
  },
  {
   "cell_type": "code",
   "execution_count": 2,
   "metadata": {},
   "outputs": [
    {
     "name": "stdout",
     "output_type": "stream",
     "text": [
      "<class 'pandas.core.frame.DataFrame'>\n",
      "RangeIndex: 2134 entries, 0 to 2133\n",
      "Data columns (total 4 columns):\n",
      " #   Column               Non-Null Count  Dtype \n",
      "---  ------               --------------  ----- \n",
      " 0   Vecka                2134 non-null   int64 \n",
      " 1   År                   2134 non-null   int64 \n",
      " 2   Region               2134 non-null   object\n",
      " 3   Antal vaccinationer  2134 non-null   int64 \n",
      "dtypes: int64(3), object(1)\n",
      "memory usage: 66.8+ KB\n"
     ]
    },
    {
     "data": {
      "text/plain": [
       "array(['| Sverige |', 'Stockholm', 'Uppsala', 'Södermanland',\n",
       "       'Östergötland', 'Jönköping', 'Kronoberg', 'Kalmar', 'Gotland',\n",
       "       'Blekinge', 'Skåne', 'Halland', 'Västra Götaland', 'Värmland',\n",
       "       'Örebro', 'Västmanland', 'Dalarna', 'Gävleborg', 'Västernorrland',\n",
       "       'Jämtland', 'Västerbotten', 'Norrbotten'], dtype=object)"
      ]
     },
     "execution_count": 2,
     "metadata": {},
     "output_type": "execute_result"
    }
   ],
   "source": [
    "# Data on number of vaccinations divided into week/year/Region note that region does contain a region representing the whole country\n",
    "df_timeframe.info()\n",
    "df_timeframe.value_counts()\n",
    "df_timeframe[\"Region\"].unique()"
   ]
  },
  {
   "cell_type": "markdown",
   "metadata": {},
   "source": [
    "### Notering\n",
    "Eftersom jag vill jämnföra denna datan men dödsfall i riket och det är per vecka så läser jag in bladed veckodata riket. Jag har redan gjort en dataanalys av detta bladet i uppgift 1 och kommer därför inte göra det här."
   ]
  },
  {
   "cell_type": "code",
   "execution_count": 3,
   "metadata": {},
   "outputs": [
    {
     "data": {
      "text/html": [
       "<div>\n",
       "<style scoped>\n",
       "    .dataframe tbody tr th:only-of-type {\n",
       "        vertical-align: middle;\n",
       "    }\n",
       "\n",
       "    .dataframe tbody tr th {\n",
       "        vertical-align: top;\n",
       "    }\n",
       "\n",
       "    .dataframe thead th {\n",
       "        text-align: right;\n",
       "    }\n",
       "</style>\n",
       "<table border=\"1\" class=\"dataframe\">\n",
       "  <thead>\n",
       "    <tr style=\"text-align: right;\">\n",
       "      <th></th>\n",
       "      <th>år</th>\n",
       "      <th>veckonummer</th>\n",
       "      <th>Antal_fall_vecka</th>\n",
       "      <th>Antal_fall_100000inv_vecka</th>\n",
       "      <th>Antal_fall_100000inv_14dagar</th>\n",
       "      <th>Kum_antal_fall</th>\n",
       "      <th>Kum_fall_100000inv</th>\n",
       "      <th>Antal_nyaintensivvårdade_vecka</th>\n",
       "      <th>Kum_antal_intensivvårdade</th>\n",
       "      <th>Antal_avlidna_vecka</th>\n",
       "      <th>Antal_avlidna_milj_inv_vecka</th>\n",
       "      <th>Kum_antal_avlidna</th>\n",
       "      <th>Kum_antal_avlidna_milj_inv</th>\n",
       "    </tr>\n",
       "  </thead>\n",
       "  <tbody>\n",
       "    <tr>\n",
       "      <th>0</th>\n",
       "      <td>2020</td>\n",
       "      <td>6</td>\n",
       "      <td>1</td>\n",
       "      <td>0</td>\n",
       "      <td>0</td>\n",
       "      <td>1</td>\n",
       "      <td>0</td>\n",
       "      <td>0</td>\n",
       "      <td>0</td>\n",
       "      <td>0</td>\n",
       "      <td>0.0</td>\n",
       "      <td>0</td>\n",
       "      <td>0.0</td>\n",
       "    </tr>\n",
       "    <tr>\n",
       "      <th>1</th>\n",
       "      <td>2020</td>\n",
       "      <td>7</td>\n",
       "      <td>0</td>\n",
       "      <td>0</td>\n",
       "      <td>0</td>\n",
       "      <td>1</td>\n",
       "      <td>0</td>\n",
       "      <td>0</td>\n",
       "      <td>0</td>\n",
       "      <td>0</td>\n",
       "      <td>0.0</td>\n",
       "      <td>0</td>\n",
       "      <td>0.0</td>\n",
       "    </tr>\n",
       "    <tr>\n",
       "      <th>2</th>\n",
       "      <td>2020</td>\n",
       "      <td>8</td>\n",
       "      <td>0</td>\n",
       "      <td>0</td>\n",
       "      <td>0</td>\n",
       "      <td>1</td>\n",
       "      <td>0</td>\n",
       "      <td>0</td>\n",
       "      <td>0</td>\n",
       "      <td>0</td>\n",
       "      <td>0.0</td>\n",
       "      <td>0</td>\n",
       "      <td>0.0</td>\n",
       "    </tr>\n",
       "    <tr>\n",
       "      <th>3</th>\n",
       "      <td>2020</td>\n",
       "      <td>9</td>\n",
       "      <td>13</td>\n",
       "      <td>0</td>\n",
       "      <td>0</td>\n",
       "      <td>14</td>\n",
       "      <td>0</td>\n",
       "      <td>0</td>\n",
       "      <td>0</td>\n",
       "      <td>0</td>\n",
       "      <td>0.0</td>\n",
       "      <td>0</td>\n",
       "      <td>0.0</td>\n",
       "    </tr>\n",
       "    <tr>\n",
       "      <th>4</th>\n",
       "      <td>2020</td>\n",
       "      <td>10</td>\n",
       "      <td>211</td>\n",
       "      <td>2</td>\n",
       "      <td>2</td>\n",
       "      <td>225</td>\n",
       "      <td>2</td>\n",
       "      <td>3</td>\n",
       "      <td>3</td>\n",
       "      <td>0</td>\n",
       "      <td>0.0</td>\n",
       "      <td>0</td>\n",
       "      <td>0.0</td>\n",
       "    </tr>\n",
       "  </tbody>\n",
       "</table>\n",
       "</div>"
      ],
      "text/plain": [
       "     år  veckonummer  Antal_fall_vecka  Antal_fall_100000inv_vecka  \\\n",
       "0  2020            6                 1                           0   \n",
       "1  2020            7                 0                           0   \n",
       "2  2020            8                 0                           0   \n",
       "3  2020            9                13                           0   \n",
       "4  2020           10               211                           2   \n",
       "\n",
       "   Antal_fall_100000inv_14dagar  Kum_antal_fall  Kum_fall_100000inv  \\\n",
       "0                             0               1                   0   \n",
       "1                             0               1                   0   \n",
       "2                             0               1                   0   \n",
       "3                             0              14                   0   \n",
       "4                             2             225                   2   \n",
       "\n",
       "   Antal_nyaintensivvårdade_vecka  Kum_antal_intensivvårdade  \\\n",
       "0                               0                          0   \n",
       "1                               0                          0   \n",
       "2                               0                          0   \n",
       "3                               0                          0   \n",
       "4                               3                          3   \n",
       "\n",
       "   Antal_avlidna_vecka  Antal_avlidna_milj_inv_vecka  Kum_antal_avlidna  \\\n",
       "0                    0                           0.0                  0   \n",
       "1                    0                           0.0                  0   \n",
       "2                    0                           0.0                  0   \n",
       "3                    0                           0.0                  0   \n",
       "4                    0                           0.0                  0   \n",
       "\n",
       "   Kum_antal_avlidna_milj_inv  \n",
       "0                         0.0  \n",
       "1                         0.0  \n",
       "2                         0.0  \n",
       "3                         0.0  \n",
       "4                         0.0  "
      ]
     },
     "execution_count": 3,
     "metadata": {},
     "output_type": "execute_result"
    }
   ],
   "source": [
    "# usefull columns år, veckonummer, Antal_nyaintensivvårdade_vecka, Antal_avlidna_vecka\n",
    "df_cases_country = pd.read_excel(\"Folkhalsomyndigheten_Covid19.xlsx\", sheet_name= \"Veckodata Riket\")\n",
    "df_cases_country.head()"
   ]
  },
  {
   "cell_type": "code",
   "execution_count": 4,
   "metadata": {},
   "outputs": [
    {
     "data": {
      "text/html": [
       "<div>\n",
       "<style scoped>\n",
       "    .dataframe tbody tr th:only-of-type {\n",
       "        vertical-align: middle;\n",
       "    }\n",
       "\n",
       "    .dataframe tbody tr th {\n",
       "        vertical-align: top;\n",
       "    }\n",
       "\n",
       "    .dataframe thead th {\n",
       "        text-align: right;\n",
       "    }\n",
       "</style>\n",
       "<table border=\"1\" class=\"dataframe\">\n",
       "  <thead>\n",
       "    <tr style=\"text-align: right;\">\n",
       "      <th></th>\n",
       "      <th>Vecka</th>\n",
       "      <th>Region</th>\n",
       "      <th>Antal vaccinationer</th>\n",
       "    </tr>\n",
       "  </thead>\n",
       "  <tbody>\n",
       "    <tr>\n",
       "      <th>0</th>\n",
       "      <td>2020v52</td>\n",
       "      <td>| Sverige |</td>\n",
       "      <td>2478</td>\n",
       "    </tr>\n",
       "    <tr>\n",
       "      <th>1</th>\n",
       "      <td>2020v53</td>\n",
       "      <td>| Sverige |</td>\n",
       "      <td>16581</td>\n",
       "    </tr>\n",
       "    <tr>\n",
       "      <th>2</th>\n",
       "      <td>2021v1</td>\n",
       "      <td>| Sverige |</td>\n",
       "      <td>53258</td>\n",
       "    </tr>\n",
       "    <tr>\n",
       "      <th>3</th>\n",
       "      <td>2021v2</td>\n",
       "      <td>| Sverige |</td>\n",
       "      <td>132915</td>\n",
       "    </tr>\n",
       "    <tr>\n",
       "      <th>4</th>\n",
       "      <td>2021v3</td>\n",
       "      <td>| Sverige |</td>\n",
       "      <td>249713</td>\n",
       "    </tr>\n",
       "    <tr>\n",
       "      <th>...</th>\n",
       "      <td>...</td>\n",
       "      <td>...</td>\n",
       "      <td>...</td>\n",
       "    </tr>\n",
       "    <tr>\n",
       "      <th>92</th>\n",
       "      <td>2022v39</td>\n",
       "      <td>| Sverige |</td>\n",
       "      <td>24260220</td>\n",
       "    </tr>\n",
       "    <tr>\n",
       "      <th>93</th>\n",
       "      <td>2022v40</td>\n",
       "      <td>| Sverige |</td>\n",
       "      <td>24469813</td>\n",
       "    </tr>\n",
       "    <tr>\n",
       "      <th>94</th>\n",
       "      <td>2022v41</td>\n",
       "      <td>| Sverige |</td>\n",
       "      <td>24641177</td>\n",
       "    </tr>\n",
       "    <tr>\n",
       "      <th>95</th>\n",
       "      <td>2022v42</td>\n",
       "      <td>| Sverige |</td>\n",
       "      <td>24778109</td>\n",
       "    </tr>\n",
       "    <tr>\n",
       "      <th>96</th>\n",
       "      <td>2022v43</td>\n",
       "      <td>| Sverige |</td>\n",
       "      <td>24884326</td>\n",
       "    </tr>\n",
       "  </tbody>\n",
       "</table>\n",
       "<p>97 rows × 3 columns</p>\n",
       "</div>"
      ],
      "text/plain": [
       "      Vecka       Region  Antal vaccinationer\n",
       "0   2020v52  | Sverige |                 2478\n",
       "1   2020v53  | Sverige |                16581\n",
       "2    2021v1  | Sverige |                53258\n",
       "3    2021v2  | Sverige |               132915\n",
       "4    2021v3  | Sverige |               249713\n",
       "..      ...          ...                  ...\n",
       "92  2022v39  | Sverige |             24260220\n",
       "93  2022v40  | Sverige |             24469813\n",
       "94  2022v41  | Sverige |             24641177\n",
       "95  2022v42  | Sverige |             24778109\n",
       "96  2022v43  | Sverige |             24884326\n",
       "\n",
       "[97 rows x 3 columns]"
      ]
     },
     "execution_count": 4,
     "metadata": {},
     "output_type": "execute_result"
    }
   ],
   "source": [
    "# cleaning up dataframe so that it only has data needed\n",
    "df_timeframe = df_timeframe[df_timeframe[\"Region\"] == \"| Sverige |\"]\n",
    "df_timeframe[\"Vecka\"] = df_timeframe[\"År\"].astype(str) + \"v\" + df_timeframe[\"Vecka\"].astype(str)\n",
    "# could drop \"Region\" aswell here\n",
    "df_timeframe.drop(\"År\", axis = 1, inplace=True)\n",
    "df_timeframe.reset_index(drop=True, inplace= True)\n",
    "df_timeframe"
   ]
  },
  {
   "cell_type": "code",
   "execution_count": 10,
   "metadata": {},
   "outputs": [
    {
     "data": {
      "text/html": [
       "<div>\n",
       "<style scoped>\n",
       "    .dataframe tbody tr th:only-of-type {\n",
       "        vertical-align: middle;\n",
       "    }\n",
       "\n",
       "    .dataframe tbody tr th {\n",
       "        vertical-align: top;\n",
       "    }\n",
       "\n",
       "    .dataframe thead th {\n",
       "        text-align: right;\n",
       "    }\n",
       "</style>\n",
       "<table border=\"1\" class=\"dataframe\">\n",
       "  <thead>\n",
       "    <tr style=\"text-align: right;\">\n",
       "      <th></th>\n",
       "      <th>Antal_nyaintensivvårdade_vecka</th>\n",
       "      <th>Antal_avlidna_vecka</th>\n",
       "      <th>Vecka</th>\n",
       "    </tr>\n",
       "  </thead>\n",
       "  <tbody>\n",
       "    <tr>\n",
       "      <th>0</th>\n",
       "      <td>0</td>\n",
       "      <td>0</td>\n",
       "      <td>2020v6</td>\n",
       "    </tr>\n",
       "    <tr>\n",
       "      <th>1</th>\n",
       "      <td>0</td>\n",
       "      <td>0</td>\n",
       "      <td>2020v7</td>\n",
       "    </tr>\n",
       "    <tr>\n",
       "      <th>2</th>\n",
       "      <td>0</td>\n",
       "      <td>0</td>\n",
       "      <td>2020v8</td>\n",
       "    </tr>\n",
       "    <tr>\n",
       "      <th>3</th>\n",
       "      <td>0</td>\n",
       "      <td>0</td>\n",
       "      <td>2020v9</td>\n",
       "    </tr>\n",
       "    <tr>\n",
       "      <th>4</th>\n",
       "      <td>3</td>\n",
       "      <td>0</td>\n",
       "      <td>2020v10</td>\n",
       "    </tr>\n",
       "    <tr>\n",
       "      <th>...</th>\n",
       "      <td>...</td>\n",
       "      <td>...</td>\n",
       "      <td>...</td>\n",
       "    </tr>\n",
       "    <tr>\n",
       "      <th>138</th>\n",
       "      <td>17</td>\n",
       "      <td>94</td>\n",
       "      <td>2022v39</td>\n",
       "    </tr>\n",
       "    <tr>\n",
       "      <th>139</th>\n",
       "      <td>20</td>\n",
       "      <td>98</td>\n",
       "      <td>2022v40</td>\n",
       "    </tr>\n",
       "    <tr>\n",
       "      <th>140</th>\n",
       "      <td>15</td>\n",
       "      <td>94</td>\n",
       "      <td>2022v41</td>\n",
       "    </tr>\n",
       "    <tr>\n",
       "      <th>141</th>\n",
       "      <td>20</td>\n",
       "      <td>70</td>\n",
       "      <td>2022v42</td>\n",
       "    </tr>\n",
       "    <tr>\n",
       "      <th>142</th>\n",
       "      <td>14</td>\n",
       "      <td>37</td>\n",
       "      <td>2022v43</td>\n",
       "    </tr>\n",
       "  </tbody>\n",
       "</table>\n",
       "<p>143 rows × 3 columns</p>\n",
       "</div>"
      ],
      "text/plain": [
       "     Antal_nyaintensivvårdade_vecka  Antal_avlidna_vecka    Vecka\n",
       "0                                 0                    0   2020v6\n",
       "1                                 0                    0   2020v7\n",
       "2                                 0                    0   2020v8\n",
       "3                                 0                    0   2020v9\n",
       "4                                 3                    0  2020v10\n",
       "..                              ...                  ...      ...\n",
       "138                              17                   94  2022v39\n",
       "139                              20                   98  2022v40\n",
       "140                              15                   94  2022v41\n",
       "141                              20                   70  2022v42\n",
       "142                              14                   37  2022v43\n",
       "\n",
       "[143 rows x 3 columns]"
      ]
     },
     "execution_count": 10,
     "metadata": {},
     "output_type": "execute_result"
    }
   ],
   "source": [
    "# create \"vecka\" column in dataframe that matches the other dataframes column called \"vecka\", also drops any data that wont be needed for KPI\n",
    "df_cases_country[\"Vecka\"] = df_cases_country[\"år\"].astype(str) + \"v\" + df_cases_country[\"veckonummer\"].astype(str)\n",
    "df_cases_country.drop(df_cases_country.columns.difference([\"Vecka\", \"Antal_nyaintensivvårdade_vecka\", \"Antal_avlidna_vecka\"]), axis = 1, inplace=True)\n",
    "df_cases_country"
   ]
  },
  {
   "cell_type": "code",
   "execution_count": 13,
   "metadata": {},
   "outputs": [
    {
     "data": {
      "text/html": [
       "<div>\n",
       "<style scoped>\n",
       "    .dataframe tbody tr th:only-of-type {\n",
       "        vertical-align: middle;\n",
       "    }\n",
       "\n",
       "    .dataframe tbody tr th {\n",
       "        vertical-align: top;\n",
       "    }\n",
       "\n",
       "    .dataframe thead th {\n",
       "        text-align: right;\n",
       "    }\n",
       "</style>\n",
       "<table border=\"1\" class=\"dataframe\">\n",
       "  <thead>\n",
       "    <tr style=\"text-align: right;\">\n",
       "      <th></th>\n",
       "      <th>Vecka</th>\n",
       "      <th>Region</th>\n",
       "      <th>Antal vaccinationer</th>\n",
       "      <th>Antal_nyaintensivvårdade_vecka</th>\n",
       "      <th>Antal_avlidna_vecka</th>\n",
       "    </tr>\n",
       "  </thead>\n",
       "  <tbody>\n",
       "    <tr>\n",
       "      <th>0</th>\n",
       "      <td>2020v52</td>\n",
       "      <td>| Sverige |</td>\n",
       "      <td>2478</td>\n",
       "      <td>206</td>\n",
       "      <td>643</td>\n",
       "    </tr>\n",
       "    <tr>\n",
       "      <th>1</th>\n",
       "      <td>2020v53</td>\n",
       "      <td>| Sverige |</td>\n",
       "      <td>16581</td>\n",
       "      <td>234</td>\n",
       "      <td>663</td>\n",
       "    </tr>\n",
       "    <tr>\n",
       "      <th>2</th>\n",
       "      <td>2021v1</td>\n",
       "      <td>| Sverige |</td>\n",
       "      <td>53258</td>\n",
       "      <td>185</td>\n",
       "      <td>644</td>\n",
       "    </tr>\n",
       "    <tr>\n",
       "      <th>3</th>\n",
       "      <td>2021v2</td>\n",
       "      <td>| Sverige |</td>\n",
       "      <td>132915</td>\n",
       "      <td>153</td>\n",
       "      <td>598</td>\n",
       "    </tr>\n",
       "    <tr>\n",
       "      <th>4</th>\n",
       "      <td>2021v3</td>\n",
       "      <td>| Sverige |</td>\n",
       "      <td>249713</td>\n",
       "      <td>125</td>\n",
       "      <td>513</td>\n",
       "    </tr>\n",
       "    <tr>\n",
       "      <th>...</th>\n",
       "      <td>...</td>\n",
       "      <td>...</td>\n",
       "      <td>...</td>\n",
       "      <td>...</td>\n",
       "      <td>...</td>\n",
       "    </tr>\n",
       "    <tr>\n",
       "      <th>92</th>\n",
       "      <td>2022v39</td>\n",
       "      <td>| Sverige |</td>\n",
       "      <td>24260220</td>\n",
       "      <td>17</td>\n",
       "      <td>94</td>\n",
       "    </tr>\n",
       "    <tr>\n",
       "      <th>93</th>\n",
       "      <td>2022v40</td>\n",
       "      <td>| Sverige |</td>\n",
       "      <td>24469813</td>\n",
       "      <td>20</td>\n",
       "      <td>98</td>\n",
       "    </tr>\n",
       "    <tr>\n",
       "      <th>94</th>\n",
       "      <td>2022v41</td>\n",
       "      <td>| Sverige |</td>\n",
       "      <td>24641177</td>\n",
       "      <td>15</td>\n",
       "      <td>94</td>\n",
       "    </tr>\n",
       "    <tr>\n",
       "      <th>95</th>\n",
       "      <td>2022v42</td>\n",
       "      <td>| Sverige |</td>\n",
       "      <td>24778109</td>\n",
       "      <td>20</td>\n",
       "      <td>70</td>\n",
       "    </tr>\n",
       "    <tr>\n",
       "      <th>96</th>\n",
       "      <td>2022v43</td>\n",
       "      <td>| Sverige |</td>\n",
       "      <td>24884326</td>\n",
       "      <td>14</td>\n",
       "      <td>37</td>\n",
       "    </tr>\n",
       "  </tbody>\n",
       "</table>\n",
       "<p>97 rows × 5 columns</p>\n",
       "</div>"
      ],
      "text/plain": [
       "      Vecka       Region  Antal vaccinationer  Antal_nyaintensivvårdade_vecka  \\\n",
       "0   2020v52  | Sverige |                 2478                             206   \n",
       "1   2020v53  | Sverige |                16581                             234   \n",
       "2    2021v1  | Sverige |                53258                             185   \n",
       "3    2021v2  | Sverige |               132915                             153   \n",
       "4    2021v3  | Sverige |               249713                             125   \n",
       "..      ...          ...                  ...                             ...   \n",
       "92  2022v39  | Sverige |             24260220                              17   \n",
       "93  2022v40  | Sverige |             24469813                              20   \n",
       "94  2022v41  | Sverige |             24641177                              15   \n",
       "95  2022v42  | Sverige |             24778109                              20   \n",
       "96  2022v43  | Sverige |             24884326                              14   \n",
       "\n",
       "    Antal_avlidna_vecka  \n",
       "0                   643  \n",
       "1                   663  \n",
       "2                   644  \n",
       "3                   598  \n",
       "4                   513  \n",
       "..                  ...  \n",
       "92                   94  \n",
       "93                   98  \n",
       "94                   94  \n",
       "95                   70  \n",
       "96                   37  \n",
       "\n",
       "[97 rows x 5 columns]"
      ]
     },
     "execution_count": 13,
     "metadata": {},
     "output_type": "execute_result"
    }
   ],
   "source": [
    "df = df_timeframe.join(df_cases_country.set_index(\"Vecka\"), on = \"Vecka\")\n",
    "df"
   ]
  },
  {
   "cell_type": "code",
   "execution_count": 17,
   "metadata": {},
   "outputs": [
    {
     "data": {
      "application/vnd.plotly.v1+json": {
       "config": {
        "plotlyServerURL": "https://plot.ly"
       },
       "data": [
        {
         "hovertemplate": "variable=Antal vaccinationer<br>Vecka=%{x}<br>value=%{y}<extra></extra>",
         "legendgroup": "Antal vaccinationer",
         "line": {
          "color": "#636efa",
          "dash": "solid"
         },
         "marker": {
          "symbol": "circle"
         },
         "mode": "lines",
         "name": "Antal vaccinationer",
         "orientation": "v",
         "showlegend": true,
         "type": "scatter",
         "x": [
          "2020v52",
          "2020v53",
          "2021v1",
          "2021v2",
          "2021v3",
          "2021v4",
          "2021v5",
          "2021v6",
          "2021v7",
          "2021v8",
          "2021v9",
          "2021v10",
          "2021v11",
          "2021v12",
          "2021v13",
          "2021v14",
          "2021v15",
          "2021v16",
          "2021v17",
          "2021v18",
          "2021v19",
          "2021v20",
          "2021v21",
          "2021v22",
          "2021v23",
          "2021v24",
          "2021v25",
          "2021v26",
          "2021v27",
          "2021v28",
          "2021v29",
          "2021v30",
          "2021v31",
          "2021v32",
          "2021v33",
          "2021v34",
          "2021v35",
          "2021v36",
          "2021v37",
          "2021v38",
          "2021v39",
          "2021v40",
          "2021v41",
          "2021v42",
          "2021v43",
          "2021v44",
          "2021v45",
          "2021v46",
          "2021v47",
          "2021v48",
          "2021v49",
          "2021v50",
          "2021v51",
          "2021v52",
          "2022v1",
          "2022v2",
          "2022v3",
          "2022v4",
          "2022v5",
          "2022v6",
          "2022v7",
          "2022v8",
          "2022v9",
          "2022v10",
          "2022v11",
          "2022v12",
          "2022v13",
          "2022v14",
          "2022v15",
          "2022v16",
          "2022v17",
          "2022v18",
          "2022v19",
          "2022v20",
          "2022v21",
          "2022v22",
          "2022v23",
          "2022v24",
          "2022v25",
          "2022v26",
          "2022v27",
          "2022v28",
          "2022v29",
          "2022v30",
          "2022v31",
          "2022v32",
          "2022v33",
          "2022v34",
          "2022v35",
          "2022v36",
          "2022v37",
          "2022v38",
          "2022v39",
          "2022v40",
          "2022v41",
          "2022v42",
          "2022v43"
         ],
         "xaxis": "x",
         "y": [
          2478,
          16581,
          53258,
          132915,
          249713,
          341294,
          441804,
          560277,
          715466,
          872579,
          1063191,
          1285119,
          1460211,
          1659107,
          1925740,
          2272973,
          2749327,
          3191143,
          3591974,
          4051759,
          4478591,
          4934532,
          5420507,
          6006988,
          6689428,
          7463983,
          8102813,
          8837529,
          9435891,
          9947292,
          10392464,
          10792447,
          11197319,
          11669597,
          12193938,
          12670802,
          13045383,
          13330863,
          13570566,
          13755697,
          13911414,
          14057550,
          14264357,
          14465658,
          14668798,
          14799436,
          15113941,
          15518775,
          15946494,
          16380538,
          16848925,
          17386583,
          17616119,
          17767320,
          18002788,
          18475717,
          19023097,
          19491083,
          19881289,
          20179002,
          20379636,
          20545073,
          20686930,
          20820749,
          20991918,
          21108967,
          21201701,
          21406125,
          21595456,
          21811687,
          22034019,
          22200561,
          22330884,
          22435712,
          22505399,
          22567445,
          22612181,
          22653194,
          22679135,
          22705792,
          22730569,
          22759122,
          22780006,
          22799424,
          22817386,
          22833964,
          22852425,
          22880025,
          23050990,
          23371659,
          23683669,
          23990604,
          24260220,
          24469813,
          24641177,
          24778109,
          24884326
         ],
         "yaxis": "y"
        },
        {
         "hovertemplate": "variable=Antal_nyaintensivvårdade_vecka<br>Vecka=%{x}<br>value=%{y}<extra></extra>",
         "legendgroup": "Antal_nyaintensivvårdade_vecka",
         "line": {
          "color": "#EF553B",
          "dash": "solid"
         },
         "marker": {
          "symbol": "circle"
         },
         "mode": "lines",
         "name": "Antal_nyaintensivvårdade_vecka",
         "orientation": "v",
         "showlegend": true,
         "type": "scatter",
         "x": [
          "2020v52",
          "2020v53",
          "2021v1",
          "2021v2",
          "2021v3",
          "2021v4",
          "2021v5",
          "2021v6",
          "2021v7",
          "2021v8",
          "2021v9",
          "2021v10",
          "2021v11",
          "2021v12",
          "2021v13",
          "2021v14",
          "2021v15",
          "2021v16",
          "2021v17",
          "2021v18",
          "2021v19",
          "2021v20",
          "2021v21",
          "2021v22",
          "2021v23",
          "2021v24",
          "2021v25",
          "2021v26",
          "2021v27",
          "2021v28",
          "2021v29",
          "2021v30",
          "2021v31",
          "2021v32",
          "2021v33",
          "2021v34",
          "2021v35",
          "2021v36",
          "2021v37",
          "2021v38",
          "2021v39",
          "2021v40",
          "2021v41",
          "2021v42",
          "2021v43",
          "2021v44",
          "2021v45",
          "2021v46",
          "2021v47",
          "2021v48",
          "2021v49",
          "2021v50",
          "2021v51",
          "2021v52",
          "2022v1",
          "2022v2",
          "2022v3",
          "2022v4",
          "2022v5",
          "2022v6",
          "2022v7",
          "2022v8",
          "2022v9",
          "2022v10",
          "2022v11",
          "2022v12",
          "2022v13",
          "2022v14",
          "2022v15",
          "2022v16",
          "2022v17",
          "2022v18",
          "2022v19",
          "2022v20",
          "2022v21",
          "2022v22",
          "2022v23",
          "2022v24",
          "2022v25",
          "2022v26",
          "2022v27",
          "2022v28",
          "2022v29",
          "2022v30",
          "2022v31",
          "2022v32",
          "2022v33",
          "2022v34",
          "2022v35",
          "2022v36",
          "2022v37",
          "2022v38",
          "2022v39",
          "2022v40",
          "2022v41",
          "2022v42",
          "2022v43"
         ],
         "xaxis": "x",
         "y": [
          206,
          234,
          185,
          153,
          125,
          109,
          105,
          105,
          109,
          133,
          135,
          149,
          166,
          176,
          219,
          250,
          246,
          211,
          206,
          181,
          118,
          87,
          60,
          29,
          32,
          11,
          14,
          4,
          7,
          10,
          6,
          13,
          19,
          22,
          24,
          36,
          47,
          29,
          24,
          21,
          17,
          15,
          14,
          15,
          17,
          17,
          22,
          13,
          36,
          32,
          47,
          66,
          56,
          81,
          76,
          93,
          84,
          98,
          90,
          85,
          63,
          58,
          39,
          43,
          24,
          24,
          23,
          30,
          25,
          20,
          14,
          10,
          11,
          5,
          3,
          9,
          8,
          7,
          14,
          9,
          9,
          19,
          28,
          13,
          23,
          27,
          29,
          13,
          27,
          15,
          13,
          23,
          17,
          20,
          15,
          20,
          14
         ],
         "yaxis": "y"
        },
        {
         "hovertemplate": "variable=Antal_avlidna_vecka<br>Vecka=%{x}<br>value=%{y}<extra></extra>",
         "legendgroup": "Antal_avlidna_vecka",
         "line": {
          "color": "#00cc96",
          "dash": "solid"
         },
         "marker": {
          "symbol": "circle"
         },
         "mode": "lines",
         "name": "Antal_avlidna_vecka",
         "orientation": "v",
         "showlegend": true,
         "type": "scatter",
         "x": [
          "2020v52",
          "2020v53",
          "2021v1",
          "2021v2",
          "2021v3",
          "2021v4",
          "2021v5",
          "2021v6",
          "2021v7",
          "2021v8",
          "2021v9",
          "2021v10",
          "2021v11",
          "2021v12",
          "2021v13",
          "2021v14",
          "2021v15",
          "2021v16",
          "2021v17",
          "2021v18",
          "2021v19",
          "2021v20",
          "2021v21",
          "2021v22",
          "2021v23",
          "2021v24",
          "2021v25",
          "2021v26",
          "2021v27",
          "2021v28",
          "2021v29",
          "2021v30",
          "2021v31",
          "2021v32",
          "2021v33",
          "2021v34",
          "2021v35",
          "2021v36",
          "2021v37",
          "2021v38",
          "2021v39",
          "2021v40",
          "2021v41",
          "2021v42",
          "2021v43",
          "2021v44",
          "2021v45",
          "2021v46",
          "2021v47",
          "2021v48",
          "2021v49",
          "2021v50",
          "2021v51",
          "2021v52",
          "2022v1",
          "2022v2",
          "2022v3",
          "2022v4",
          "2022v5",
          "2022v6",
          "2022v7",
          "2022v8",
          "2022v9",
          "2022v10",
          "2022v11",
          "2022v12",
          "2022v13",
          "2022v14",
          "2022v15",
          "2022v16",
          "2022v17",
          "2022v18",
          "2022v19",
          "2022v20",
          "2022v21",
          "2022v22",
          "2022v23",
          "2022v24",
          "2022v25",
          "2022v26",
          "2022v27",
          "2022v28",
          "2022v29",
          "2022v30",
          "2022v31",
          "2022v32",
          "2022v33",
          "2022v34",
          "2022v35",
          "2022v36",
          "2022v37",
          "2022v38",
          "2022v39",
          "2022v40",
          "2022v41",
          "2022v42",
          "2022v43"
         ],
         "xaxis": "x",
         "y": [
          643,
          663,
          644,
          598,
          513,
          389,
          269,
          205,
          172,
          146,
          129,
          141,
          127,
          126,
          142,
          133,
          141,
          131,
          115,
          107,
          111,
          70,
          47,
          39,
          22,
          17,
          9,
          8,
          3,
          2,
          3,
          4,
          7,
          7,
          11,
          20,
          25,
          49,
          51,
          43,
          39,
          49,
          32,
          23,
          30,
          33,
          31,
          30,
          15,
          29,
          38,
          49,
          44,
          70,
          130,
          172,
          243,
          301,
          359,
          329,
          361,
          319,
          273,
          204,
          195,
          157,
          122,
          120,
          71,
          70,
          51,
          52,
          42,
          41,
          26,
          23,
          28,
          22,
          36,
          42,
          59,
          62,
          114,
          95,
          110,
          120,
          134,
          85,
          96,
          85,
          100,
          89,
          94,
          98,
          94,
          70,
          37
         ],
         "yaxis": "y"
        }
       ],
       "layout": {
        "legend": {
         "title": {
          "text": "variable"
         },
         "tracegroupgap": 0
        },
        "margin": {
         "t": 60
        },
        "template": {
         "data": {
          "bar": [
           {
            "error_x": {
             "color": "#2a3f5f"
            },
            "error_y": {
             "color": "#2a3f5f"
            },
            "marker": {
             "line": {
              "color": "#E5ECF6",
              "width": 0.5
             },
             "pattern": {
              "fillmode": "overlay",
              "size": 10,
              "solidity": 0.2
             }
            },
            "type": "bar"
           }
          ],
          "barpolar": [
           {
            "marker": {
             "line": {
              "color": "#E5ECF6",
              "width": 0.5
             },
             "pattern": {
              "fillmode": "overlay",
              "size": 10,
              "solidity": 0.2
             }
            },
            "type": "barpolar"
           }
          ],
          "carpet": [
           {
            "aaxis": {
             "endlinecolor": "#2a3f5f",
             "gridcolor": "white",
             "linecolor": "white",
             "minorgridcolor": "white",
             "startlinecolor": "#2a3f5f"
            },
            "baxis": {
             "endlinecolor": "#2a3f5f",
             "gridcolor": "white",
             "linecolor": "white",
             "minorgridcolor": "white",
             "startlinecolor": "#2a3f5f"
            },
            "type": "carpet"
           }
          ],
          "choropleth": [
           {
            "colorbar": {
             "outlinewidth": 0,
             "ticks": ""
            },
            "type": "choropleth"
           }
          ],
          "contour": [
           {
            "colorbar": {
             "outlinewidth": 0,
             "ticks": ""
            },
            "colorscale": [
             [
              0,
              "#0d0887"
             ],
             [
              0.1111111111111111,
              "#46039f"
             ],
             [
              0.2222222222222222,
              "#7201a8"
             ],
             [
              0.3333333333333333,
              "#9c179e"
             ],
             [
              0.4444444444444444,
              "#bd3786"
             ],
             [
              0.5555555555555556,
              "#d8576b"
             ],
             [
              0.6666666666666666,
              "#ed7953"
             ],
             [
              0.7777777777777778,
              "#fb9f3a"
             ],
             [
              0.8888888888888888,
              "#fdca26"
             ],
             [
              1,
              "#f0f921"
             ]
            ],
            "type": "contour"
           }
          ],
          "contourcarpet": [
           {
            "colorbar": {
             "outlinewidth": 0,
             "ticks": ""
            },
            "type": "contourcarpet"
           }
          ],
          "heatmap": [
           {
            "colorbar": {
             "outlinewidth": 0,
             "ticks": ""
            },
            "colorscale": [
             [
              0,
              "#0d0887"
             ],
             [
              0.1111111111111111,
              "#46039f"
             ],
             [
              0.2222222222222222,
              "#7201a8"
             ],
             [
              0.3333333333333333,
              "#9c179e"
             ],
             [
              0.4444444444444444,
              "#bd3786"
             ],
             [
              0.5555555555555556,
              "#d8576b"
             ],
             [
              0.6666666666666666,
              "#ed7953"
             ],
             [
              0.7777777777777778,
              "#fb9f3a"
             ],
             [
              0.8888888888888888,
              "#fdca26"
             ],
             [
              1,
              "#f0f921"
             ]
            ],
            "type": "heatmap"
           }
          ],
          "heatmapgl": [
           {
            "colorbar": {
             "outlinewidth": 0,
             "ticks": ""
            },
            "colorscale": [
             [
              0,
              "#0d0887"
             ],
             [
              0.1111111111111111,
              "#46039f"
             ],
             [
              0.2222222222222222,
              "#7201a8"
             ],
             [
              0.3333333333333333,
              "#9c179e"
             ],
             [
              0.4444444444444444,
              "#bd3786"
             ],
             [
              0.5555555555555556,
              "#d8576b"
             ],
             [
              0.6666666666666666,
              "#ed7953"
             ],
             [
              0.7777777777777778,
              "#fb9f3a"
             ],
             [
              0.8888888888888888,
              "#fdca26"
             ],
             [
              1,
              "#f0f921"
             ]
            ],
            "type": "heatmapgl"
           }
          ],
          "histogram": [
           {
            "marker": {
             "pattern": {
              "fillmode": "overlay",
              "size": 10,
              "solidity": 0.2
             }
            },
            "type": "histogram"
           }
          ],
          "histogram2d": [
           {
            "colorbar": {
             "outlinewidth": 0,
             "ticks": ""
            },
            "colorscale": [
             [
              0,
              "#0d0887"
             ],
             [
              0.1111111111111111,
              "#46039f"
             ],
             [
              0.2222222222222222,
              "#7201a8"
             ],
             [
              0.3333333333333333,
              "#9c179e"
             ],
             [
              0.4444444444444444,
              "#bd3786"
             ],
             [
              0.5555555555555556,
              "#d8576b"
             ],
             [
              0.6666666666666666,
              "#ed7953"
             ],
             [
              0.7777777777777778,
              "#fb9f3a"
             ],
             [
              0.8888888888888888,
              "#fdca26"
             ],
             [
              1,
              "#f0f921"
             ]
            ],
            "type": "histogram2d"
           }
          ],
          "histogram2dcontour": [
           {
            "colorbar": {
             "outlinewidth": 0,
             "ticks": ""
            },
            "colorscale": [
             [
              0,
              "#0d0887"
             ],
             [
              0.1111111111111111,
              "#46039f"
             ],
             [
              0.2222222222222222,
              "#7201a8"
             ],
             [
              0.3333333333333333,
              "#9c179e"
             ],
             [
              0.4444444444444444,
              "#bd3786"
             ],
             [
              0.5555555555555556,
              "#d8576b"
             ],
             [
              0.6666666666666666,
              "#ed7953"
             ],
             [
              0.7777777777777778,
              "#fb9f3a"
             ],
             [
              0.8888888888888888,
              "#fdca26"
             ],
             [
              1,
              "#f0f921"
             ]
            ],
            "type": "histogram2dcontour"
           }
          ],
          "mesh3d": [
           {
            "colorbar": {
             "outlinewidth": 0,
             "ticks": ""
            },
            "type": "mesh3d"
           }
          ],
          "parcoords": [
           {
            "line": {
             "colorbar": {
              "outlinewidth": 0,
              "ticks": ""
             }
            },
            "type": "parcoords"
           }
          ],
          "pie": [
           {
            "automargin": true,
            "type": "pie"
           }
          ],
          "scatter": [
           {
            "fillpattern": {
             "fillmode": "overlay",
             "size": 10,
             "solidity": 0.2
            },
            "type": "scatter"
           }
          ],
          "scatter3d": [
           {
            "line": {
             "colorbar": {
              "outlinewidth": 0,
              "ticks": ""
             }
            },
            "marker": {
             "colorbar": {
              "outlinewidth": 0,
              "ticks": ""
             }
            },
            "type": "scatter3d"
           }
          ],
          "scattercarpet": [
           {
            "marker": {
             "colorbar": {
              "outlinewidth": 0,
              "ticks": ""
             }
            },
            "type": "scattercarpet"
           }
          ],
          "scattergeo": [
           {
            "marker": {
             "colorbar": {
              "outlinewidth": 0,
              "ticks": ""
             }
            },
            "type": "scattergeo"
           }
          ],
          "scattergl": [
           {
            "marker": {
             "colorbar": {
              "outlinewidth": 0,
              "ticks": ""
             }
            },
            "type": "scattergl"
           }
          ],
          "scattermapbox": [
           {
            "marker": {
             "colorbar": {
              "outlinewidth": 0,
              "ticks": ""
             }
            },
            "type": "scattermapbox"
           }
          ],
          "scatterpolar": [
           {
            "marker": {
             "colorbar": {
              "outlinewidth": 0,
              "ticks": ""
             }
            },
            "type": "scatterpolar"
           }
          ],
          "scatterpolargl": [
           {
            "marker": {
             "colorbar": {
              "outlinewidth": 0,
              "ticks": ""
             }
            },
            "type": "scatterpolargl"
           }
          ],
          "scatterternary": [
           {
            "marker": {
             "colorbar": {
              "outlinewidth": 0,
              "ticks": ""
             }
            },
            "type": "scatterternary"
           }
          ],
          "surface": [
           {
            "colorbar": {
             "outlinewidth": 0,
             "ticks": ""
            },
            "colorscale": [
             [
              0,
              "#0d0887"
             ],
             [
              0.1111111111111111,
              "#46039f"
             ],
             [
              0.2222222222222222,
              "#7201a8"
             ],
             [
              0.3333333333333333,
              "#9c179e"
             ],
             [
              0.4444444444444444,
              "#bd3786"
             ],
             [
              0.5555555555555556,
              "#d8576b"
             ],
             [
              0.6666666666666666,
              "#ed7953"
             ],
             [
              0.7777777777777778,
              "#fb9f3a"
             ],
             [
              0.8888888888888888,
              "#fdca26"
             ],
             [
              1,
              "#f0f921"
             ]
            ],
            "type": "surface"
           }
          ],
          "table": [
           {
            "cells": {
             "fill": {
              "color": "#EBF0F8"
             },
             "line": {
              "color": "white"
             }
            },
            "header": {
             "fill": {
              "color": "#C8D4E3"
             },
             "line": {
              "color": "white"
             }
            },
            "type": "table"
           }
          ]
         },
         "layout": {
          "annotationdefaults": {
           "arrowcolor": "#2a3f5f",
           "arrowhead": 0,
           "arrowwidth": 1
          },
          "autotypenumbers": "strict",
          "coloraxis": {
           "colorbar": {
            "outlinewidth": 0,
            "ticks": ""
           }
          },
          "colorscale": {
           "diverging": [
            [
             0,
             "#8e0152"
            ],
            [
             0.1,
             "#c51b7d"
            ],
            [
             0.2,
             "#de77ae"
            ],
            [
             0.3,
             "#f1b6da"
            ],
            [
             0.4,
             "#fde0ef"
            ],
            [
             0.5,
             "#f7f7f7"
            ],
            [
             0.6,
             "#e6f5d0"
            ],
            [
             0.7,
             "#b8e186"
            ],
            [
             0.8,
             "#7fbc41"
            ],
            [
             0.9,
             "#4d9221"
            ],
            [
             1,
             "#276419"
            ]
           ],
           "sequential": [
            [
             0,
             "#0d0887"
            ],
            [
             0.1111111111111111,
             "#46039f"
            ],
            [
             0.2222222222222222,
             "#7201a8"
            ],
            [
             0.3333333333333333,
             "#9c179e"
            ],
            [
             0.4444444444444444,
             "#bd3786"
            ],
            [
             0.5555555555555556,
             "#d8576b"
            ],
            [
             0.6666666666666666,
             "#ed7953"
            ],
            [
             0.7777777777777778,
             "#fb9f3a"
            ],
            [
             0.8888888888888888,
             "#fdca26"
            ],
            [
             1,
             "#f0f921"
            ]
           ],
           "sequentialminus": [
            [
             0,
             "#0d0887"
            ],
            [
             0.1111111111111111,
             "#46039f"
            ],
            [
             0.2222222222222222,
             "#7201a8"
            ],
            [
             0.3333333333333333,
             "#9c179e"
            ],
            [
             0.4444444444444444,
             "#bd3786"
            ],
            [
             0.5555555555555556,
             "#d8576b"
            ],
            [
             0.6666666666666666,
             "#ed7953"
            ],
            [
             0.7777777777777778,
             "#fb9f3a"
            ],
            [
             0.8888888888888888,
             "#fdca26"
            ],
            [
             1,
             "#f0f921"
            ]
           ]
          },
          "colorway": [
           "#636efa",
           "#EF553B",
           "#00cc96",
           "#ab63fa",
           "#FFA15A",
           "#19d3f3",
           "#FF6692",
           "#B6E880",
           "#FF97FF",
           "#FECB52"
          ],
          "font": {
           "color": "#2a3f5f"
          },
          "geo": {
           "bgcolor": "white",
           "lakecolor": "white",
           "landcolor": "#E5ECF6",
           "showlakes": true,
           "showland": true,
           "subunitcolor": "white"
          },
          "hoverlabel": {
           "align": "left"
          },
          "hovermode": "closest",
          "mapbox": {
           "style": "light"
          },
          "paper_bgcolor": "white",
          "plot_bgcolor": "#E5ECF6",
          "polar": {
           "angularaxis": {
            "gridcolor": "white",
            "linecolor": "white",
            "ticks": ""
           },
           "bgcolor": "#E5ECF6",
           "radialaxis": {
            "gridcolor": "white",
            "linecolor": "white",
            "ticks": ""
           }
          },
          "scene": {
           "xaxis": {
            "backgroundcolor": "#E5ECF6",
            "gridcolor": "white",
            "gridwidth": 2,
            "linecolor": "white",
            "showbackground": true,
            "ticks": "",
            "zerolinecolor": "white"
           },
           "yaxis": {
            "backgroundcolor": "#E5ECF6",
            "gridcolor": "white",
            "gridwidth": 2,
            "linecolor": "white",
            "showbackground": true,
            "ticks": "",
            "zerolinecolor": "white"
           },
           "zaxis": {
            "backgroundcolor": "#E5ECF6",
            "gridcolor": "white",
            "gridwidth": 2,
            "linecolor": "white",
            "showbackground": true,
            "ticks": "",
            "zerolinecolor": "white"
           }
          },
          "shapedefaults": {
           "line": {
            "color": "#2a3f5f"
           }
          },
          "ternary": {
           "aaxis": {
            "gridcolor": "white",
            "linecolor": "white",
            "ticks": ""
           },
           "baxis": {
            "gridcolor": "white",
            "linecolor": "white",
            "ticks": ""
           },
           "bgcolor": "#E5ECF6",
           "caxis": {
            "gridcolor": "white",
            "linecolor": "white",
            "ticks": ""
           }
          },
          "title": {
           "x": 0.05
          },
          "xaxis": {
           "automargin": true,
           "gridcolor": "white",
           "linecolor": "white",
           "ticks": "",
           "title": {
            "standoff": 15
           },
           "zerolinecolor": "white",
           "zerolinewidth": 2
          },
          "yaxis": {
           "automargin": true,
           "gridcolor": "white",
           "linecolor": "white",
           "ticks": "",
           "title": {
            "standoff": 15
           },
           "zerolinecolor": "white",
           "zerolinewidth": 2
          }
         }
        },
        "xaxis": {
         "anchor": "y",
         "domain": [
          0,
          1
         ],
         "title": {
          "text": "Vecka"
         }
        },
        "yaxis": {
         "anchor": "x",
         "domain": [
          0,
          1
         ],
         "title": {
          "text": "value"
         },
         "type": "log"
        }
       }
      }
     },
     "metadata": {},
     "output_type": "display_data"
    }
   ],
   "source": [
    "fig = px.line(df, x= \"Vecka\", y=[\"Antal vaccinationer\", \"Antal_nyaintensivvårdade_vecka\", \"Antal_avlidna_vecka\"], log_y=True)\n",
    "fig.show()"
   ]
  },
  {
   "cell_type": "markdown",
   "metadata": {},
   "source": [
    "#### Noteringar från denna data\n",
    "\n",
    "Från starten av vaccinationen år 2020 vecka 52 till utplaningen av vaccinationskurvan när de flesta hade vaccinerats år 2021 vecka 27 så finns det en tydlig minskning i antalet dödsfall och intensivvårds fall vilket tyder på att vaccinet hade en effekt mot covid.\n",
    "Det går även att dra slutsatser kring hur långvarig vaccineffekten är då det kommer en ny våg av dödsfall efter full vaccination. "
   ]
  },
  {
   "cell_type": "markdown",
   "metadata": {},
   "source": [
    "## KPI 2: Var det värst i de största städerna?\n",
    "\n",
    "- vilka kommuner har varit bäst/sämst"
   ]
  },
  {
   "cell_type": "code",
   "execution_count": 19,
   "metadata": {},
   "outputs": [
    {
     "data": {
      "text/html": [
       "<div>\n",
       "<style scoped>\n",
       "    .dataframe tbody tr th:only-of-type {\n",
       "        vertical-align: middle;\n",
       "    }\n",
       "\n",
       "    .dataframe tbody tr th {\n",
       "        vertical-align: top;\n",
       "    }\n",
       "\n",
       "    .dataframe thead th {\n",
       "        text-align: right;\n",
       "    }\n",
       "</style>\n",
       "<table border=\"1\" class=\"dataframe\">\n",
       "  <thead>\n",
       "    <tr style=\"text-align: right;\">\n",
       "      <th></th>\n",
       "      <th>KnKod</th>\n",
       "      <th>KnNamn</th>\n",
       "      <th>Antal_dos1</th>\n",
       "      <th>Antal_dos2</th>\n",
       "      <th>Andel_dos1</th>\n",
       "      <th>Andel_dos2</th>\n",
       "    </tr>\n",
       "  </thead>\n",
       "  <tbody>\n",
       "    <tr>\n",
       "      <th>0</th>\n",
       "      <td>114</td>\n",
       "      <td>Upplands Väsby</td>\n",
       "      <td>33512</td>\n",
       "      <td>32223</td>\n",
       "      <td>0.808629</td>\n",
       "      <td>0.777526</td>\n",
       "    </tr>\n",
       "    <tr>\n",
       "      <th>1</th>\n",
       "      <td>115</td>\n",
       "      <td>Vallentuna</td>\n",
       "      <td>25412</td>\n",
       "      <td>24731</td>\n",
       "      <td>0.864001</td>\n",
       "      <td>0.840847</td>\n",
       "    </tr>\n",
       "    <tr>\n",
       "      <th>2</th>\n",
       "      <td>117</td>\n",
       "      <td>Österåker</td>\n",
       "      <td>36303</td>\n",
       "      <td>35248</td>\n",
       "      <td>0.871558</td>\n",
       "      <td>0.846230</td>\n",
       "    </tr>\n",
       "    <tr>\n",
       "      <th>3</th>\n",
       "      <td>120</td>\n",
       "      <td>Värmdö</td>\n",
       "      <td>34603</td>\n",
       "      <td>33533</td>\n",
       "      <td>0.870713</td>\n",
       "      <td>0.843789</td>\n",
       "    </tr>\n",
       "    <tr>\n",
       "      <th>4</th>\n",
       "      <td>123</td>\n",
       "      <td>Järfälla</td>\n",
       "      <td>57929</td>\n",
       "      <td>55504</td>\n",
       "      <td>0.806462</td>\n",
       "      <td>0.772703</td>\n",
       "    </tr>\n",
       "  </tbody>\n",
       "</table>\n",
       "</div>"
      ],
      "text/plain": [
       "   KnKod          KnNamn  Antal_dos1  Antal_dos2  Andel_dos1  Andel_dos2\n",
       "0    114  Upplands Väsby       33512       32223    0.808629    0.777526\n",
       "1    115      Vallentuna       25412       24731    0.864001    0.840847\n",
       "2    117       Österåker       36303       35248    0.871558    0.846230\n",
       "3    120          Värmdö       34603       33533    0.870713    0.843789\n",
       "4    123        Järfälla       57929       55504    0.806462    0.772703"
      ]
     },
     "execution_count": 19,
     "metadata": {},
     "output_type": "execute_result"
    }
   ],
   "source": [
    "\n",
    "df_vaccine_city = pd.read_excel(\"Folkhalsomyndigheten_Covid19_Vaccine.xlsx\", sheet_name= \"Vaccinerade kommun\")\n",
    "df_vaccine_city.head()"
   ]
  },
  {
   "cell_type": "code",
   "execution_count": 22,
   "metadata": {},
   "outputs": [
    {
     "name": "stdout",
     "output_type": "stream",
     "text": [
      "<class 'pandas.core.frame.DataFrame'>\n",
      "RangeIndex: 290 entries, 0 to 289\n",
      "Data columns (total 6 columns):\n",
      " #   Column      Non-Null Count  Dtype  \n",
      "---  ------      --------------  -----  \n",
      " 0   KnKod       290 non-null    int64  \n",
      " 1   KnNamn      290 non-null    object \n",
      " 2   Antal_dos1  290 non-null    int64  \n",
      " 3   Antal_dos2  290 non-null    int64  \n",
      " 4   Andel_dos1  290 non-null    float64\n",
      " 5   Andel_dos2  290 non-null    float64\n",
      "dtypes: float64(2), int64(3), object(1)\n",
      "memory usage: 13.7+ KB\n"
     ]
    },
    {
     "data": {
      "text/plain": [
       "array(['Upplands Väsby', 'Vallentuna', 'Österåker', 'Värmdö', 'Järfälla',\n",
       "       'Ekerö', 'Huddinge', 'Botkyrka', 'Salem', 'Haninge', 'Tyresö',\n",
       "       'Upplands-Bro', 'Nykvarn', 'Täby', 'Danderyd', 'Sollentuna',\n",
       "       'Stockholm', 'Södertälje', 'Nacka', 'Sundbyberg', 'Solna',\n",
       "       'Lidingö', 'Vaxholm', 'Norrtälje', 'Sigtuna', 'Nynäshamn', 'Håbo',\n",
       "       'Älvkarleby', 'Knivsta', 'Heby', 'Tierp', 'Uppsala', 'Enköping',\n",
       "       'Östhammar', 'Vingåker', 'Gnesta', 'Nyköping', 'Oxelösund', 'Flen',\n",
       "       'Katrineholm', 'Eskilstuna', 'Strängnäs', 'Trosa', 'Ödeshög',\n",
       "       'Ydre', 'Kinda', 'Boxholm', 'Åtvidaberg', 'Finspång',\n",
       "       'Valdemarsvik', 'Linköping', 'Norrköping', 'Söderköping', 'Motala',\n",
       "       'Vadstena', 'Mjölby', 'Aneby', 'Gnosjö', 'Mullsjö', 'Habo',\n",
       "       'Gislaved', 'Vaggeryd', 'Jönköping', 'Nässjö', 'Värnamo', 'Sävsjö',\n",
       "       'Vetlanda', 'Eksjö', 'Tranås', 'Uppvidinge', 'Lessebo', 'Tingsryd',\n",
       "       'Alvesta', 'Älmhult', 'Markaryd', 'Växjö', 'Ljungby', 'Högsby',\n",
       "       'Torsås', 'Mörbylånga', 'Hultsfred', 'Mönsterås', 'Emmaboda',\n",
       "       'Kalmar', 'Nybro', 'Oskarshamn', 'Västervik', 'Vimmerby',\n",
       "       'Borgholm', 'Gotland', 'Olofström', 'Karlskrona', 'Ronneby',\n",
       "       'Karlshamn', 'Sölvesborg', 'Svalöv', 'Staffanstorp', 'Burlöv',\n",
       "       'Vellinge', 'Östra Göinge', 'Örkelljunga', 'Bjuv', 'Kävlinge',\n",
       "       'Lomma', 'Svedala', 'Skurup', 'Sjöbo', 'Hörby', 'Höör',\n",
       "       'Tomelilla', 'Bromölla', 'Osby', 'Perstorp', 'Klippan', 'Åstorp',\n",
       "       'Båstad', 'Malmö', 'Lund', 'Landskrona', 'Helsingborg', 'Höganäs',\n",
       "       'Eslöv', 'Ystad', 'Trelleborg', 'Kristianstad', 'Simrishamn',\n",
       "       'Ängelholm', 'Hässleholm', 'Hylte', 'Halmstad', 'Laholm',\n",
       "       'Falkenberg', 'Varberg', 'Kungsbacka', 'Härryda', 'Partille',\n",
       "       'Öckerö', 'Stenungsund', 'Tjörn', 'Orust', 'Sotenäs', 'Munkedal',\n",
       "       'Tanum', 'Dals-Ed', 'Färgelanda', 'Ale', 'Lerum', 'Vårgårda',\n",
       "       'Bollebygd', 'Grästorp', 'Essunga', 'Karlsborg', 'Gullspång',\n",
       "       'Tranemo', 'Bengtsfors', 'Mellerud', 'Lilla Edet', 'Mark',\n",
       "       'Svenljunga', 'Herrljunga', 'Vara', 'Götene', 'Tibro', 'Töreboda',\n",
       "       'Göteborg', 'Mölndal', 'Kungälv', 'Lysekil', 'Uddevalla',\n",
       "       'Strömstad', 'Vänersborg', 'Trollhättan', 'Alingsås', 'Borås',\n",
       "       'Ulricehamn', 'Åmål', 'Mariestad', 'Lidköping', 'Skara', 'Skövde',\n",
       "       'Hjo', 'Tidaholm', 'Falköping', 'Kil', 'Eda', 'Torsby', 'Storfors',\n",
       "       'Hammarö', 'Munkfors', 'Forshaga', 'Grums', 'Årjäng', 'Sunne',\n",
       "       'Karlstad', 'Kristinehamn', 'Filipstad', 'Hagfors', 'Arvika',\n",
       "       'Säffle', 'Lekeberg', 'Laxå', 'Hallsberg', 'Degerfors',\n",
       "       'Hällefors', 'Ljusnarsberg', 'Örebro', 'Kumla', 'Askersund',\n",
       "       'Karlskoga', 'Nora', 'Lindesberg', 'Skinnskatteberg', 'Surahammar',\n",
       "       'Kungsör', 'Hallstahammar', 'Norberg', 'Västerås', 'Sala',\n",
       "       'Fagersta', 'Köping', 'Arboga', 'Vansbro', 'Malung-Sälen',\n",
       "       'Gagnef', 'Leksand', 'Rättvik', 'Orsa', 'Älvdalen', 'Smedjebacken',\n",
       "       'Mora', 'Falun', 'Borlänge', 'Säter', 'Hedemora', 'Avesta',\n",
       "       'Ludvika', 'Ockelbo', 'Hofors', 'Ovanåker', 'Nordanstig',\n",
       "       'Ljusdal', 'Gävle', 'Sandviken', 'Söderhamn', 'Bollnäs',\n",
       "       'Hudiksvall', 'Ånge', 'Timrå', 'Härnösand', 'Sundsvall',\n",
       "       'Kramfors', 'Sollefteå', 'Örnsköldsvik', 'Ragunda', 'Bräcke',\n",
       "       'Krokom', 'Strömsund', 'Åre', 'Berg', 'Härjedalen', 'Östersund',\n",
       "       'Nordmaling', 'Bjurholm', 'Vindeln', 'Robertsfors', 'Norsjö',\n",
       "       'Malå', 'Storuman', 'Sorsele', 'Dorotea', 'Vännäs', 'Vilhelmina',\n",
       "       'Åsele', 'Umeå', 'Lycksele', 'Skellefteå', 'Arvidsjaur',\n",
       "       'Arjeplog', 'Jokkmokk', 'Överkalix', 'Kalix', 'Övertorneå',\n",
       "       'Pajala', 'Gällivare', 'Älvsbyn', 'Luleå', 'Piteå', 'Boden',\n",
       "       'Haparanda', 'Kiruna'], dtype=object)"
      ]
     },
     "execution_count": 22,
     "metadata": {},
     "output_type": "execute_result"
    }
   ],
   "source": [
    "df_vaccine_city.info()\n",
    "df_vaccine_city[\"KnNamn\"].unique()"
   ]
  },
  {
   "cell_type": "code",
   "execution_count": 55,
   "metadata": {},
   "outputs": [
    {
     "data": {
      "text/html": [
       "<div>\n",
       "<style scoped>\n",
       "    .dataframe tbody tr th:only-of-type {\n",
       "        vertical-align: middle;\n",
       "    }\n",
       "\n",
       "    .dataframe tbody tr th {\n",
       "        vertical-align: top;\n",
       "    }\n",
       "\n",
       "    .dataframe thead th {\n",
       "        text-align: right;\n",
       "    }\n",
       "</style>\n",
       "<table border=\"1\" class=\"dataframe\">\n",
       "  <thead>\n",
       "    <tr style=\"text-align: right;\">\n",
       "      <th></th>\n",
       "      <th>år</th>\n",
       "      <th>veckonummer</th>\n",
       "      <th>KnKod</th>\n",
       "      <th>KnNamn</th>\n",
       "      <th>Stadsdel</th>\n",
       "      <th>Kommun_stadsdel</th>\n",
       "      <th>tot_antal_fall_per10000inv</th>\n",
       "      <th>antal_fall_per10000_inv</th>\n",
       "      <th>tot_antal_fall</th>\n",
       "      <th>nya_fall_vecka</th>\n",
       "    </tr>\n",
       "  </thead>\n",
       "  <tbody>\n",
       "    <tr>\n",
       "      <th>0</th>\n",
       "      <td>2020</td>\n",
       "      <td>1</td>\n",
       "      <td>1440</td>\n",
       "      <td>Ale</td>\n",
       "      <td>NaN</td>\n",
       "      <td>Ale</td>\n",
       "      <td>0.0</td>\n",
       "      <td>0.0</td>\n",
       "      <td>0</td>\n",
       "      <td>0</td>\n",
       "    </tr>\n",
       "    <tr>\n",
       "      <th>1</th>\n",
       "      <td>2020</td>\n",
       "      <td>2</td>\n",
       "      <td>1440</td>\n",
       "      <td>Ale</td>\n",
       "      <td>NaN</td>\n",
       "      <td>Ale</td>\n",
       "      <td>0.0</td>\n",
       "      <td>0.0</td>\n",
       "      <td>0</td>\n",
       "      <td>0</td>\n",
       "    </tr>\n",
       "    <tr>\n",
       "      <th>2</th>\n",
       "      <td>2020</td>\n",
       "      <td>3</td>\n",
       "      <td>1440</td>\n",
       "      <td>Ale</td>\n",
       "      <td>NaN</td>\n",
       "      <td>Ale</td>\n",
       "      <td>0.0</td>\n",
       "      <td>0.0</td>\n",
       "      <td>0</td>\n",
       "      <td>0</td>\n",
       "    </tr>\n",
       "    <tr>\n",
       "      <th>3</th>\n",
       "      <td>2020</td>\n",
       "      <td>4</td>\n",
       "      <td>1440</td>\n",
       "      <td>Ale</td>\n",
       "      <td>NaN</td>\n",
       "      <td>Ale</td>\n",
       "      <td>0.0</td>\n",
       "      <td>0.0</td>\n",
       "      <td>0</td>\n",
       "      <td>0</td>\n",
       "    </tr>\n",
       "    <tr>\n",
       "      <th>4</th>\n",
       "      <td>2020</td>\n",
       "      <td>5</td>\n",
       "      <td>1440</td>\n",
       "      <td>Ale</td>\n",
       "      <td>NaN</td>\n",
       "      <td>Ale</td>\n",
       "      <td>0.0</td>\n",
       "      <td>0.0</td>\n",
       "      <td>0</td>\n",
       "      <td>0</td>\n",
       "    </tr>\n",
       "  </tbody>\n",
       "</table>\n",
       "</div>"
      ],
      "text/plain": [
       "     år  veckonummer KnKod KnNamn Stadsdel Kommun_stadsdel  \\\n",
       "0  2020            1  1440    Ale      NaN             Ale   \n",
       "1  2020            2  1440    Ale      NaN             Ale   \n",
       "2  2020            3  1440    Ale      NaN             Ale   \n",
       "3  2020            4  1440    Ale      NaN             Ale   \n",
       "4  2020            5  1440    Ale      NaN             Ale   \n",
       "\n",
       "   tot_antal_fall_per10000inv  antal_fall_per10000_inv tot_antal_fall  \\\n",
       "0                         0.0                      0.0              0   \n",
       "1                         0.0                      0.0              0   \n",
       "2                         0.0                      0.0              0   \n",
       "3                         0.0                      0.0              0   \n",
       "4                         0.0                      0.0              0   \n",
       "\n",
       "  nya_fall_vecka  \n",
       "0              0  \n",
       "1              0  \n",
       "2              0  \n",
       "3              0  \n",
       "4              0  "
      ]
     },
     "execution_count": 55,
     "metadata": {},
     "output_type": "execute_result"
    }
   ],
   "source": [
    "df_data_city = pd.read_excel(\"Folkhalsomyndigheten_Covid19.xlsx\", sheet_name= \"Veckodata Kommun_stadsdel\")\n",
    "df_data_city.head()"
   ]
  },
  {
   "cell_type": "code",
   "execution_count": 31,
   "metadata": {},
   "outputs": [
    {
     "data": {
      "text/plain": [
       "array([nan, 'Angered', 'Askim-Frölunda-Högsbo', 'Centrum', 'Lundby',\n",
       "       'Majorna-Linné', 'Norra Hisingen', 'Västra Göteborg',\n",
       "       'Västra Hisingen', 'Örgryte-Härlanda', 'Östra Göteborg', 'Fosie',\n",
       "       'Husie', 'Hyllie', 'Kirseberg', 'Limhamn-Bunkeflo', 'Oxie',\n",
       "       'Rosengård', 'Södra Innerstaden', 'Västra Innerstaden', 'Okänd',\n",
       "       'Bromma', 'Enskede Årsta Vantör', 'Farsta', 'Hägersten Älvsjö',\n",
       "       'Hässelby Vällingby', 'Kungsholmen', 'Norrmalm', 'Rinkeby Kista',\n",
       "       'Skarpnäck', 'Skärholmen', 'Spånga Tensta', 'Södermalm',\n",
       "       'Östermalm'], dtype=object)"
      ]
     },
     "execution_count": 31,
     "metadata": {},
     "output_type": "execute_result"
    }
   ],
   "source": [
    "df_data_city[\"Stadsdel\"].unique()"
   ]
  },
  {
   "cell_type": "markdown",
   "metadata": {},
   "source": [
    "två saker jag noterar här är att det finns kommunkoder för de olika kommunerna vilket är något som skulle kunna användas för sortering. Det andra är att i den ena datan är större kommuner indelade i stadsdelar. Beroende på hur datan ska användas så kan det slås ihop för att få data för hela städer eller ha separat för att få mer exakta mätpunkter."
   ]
  },
  {
   "cell_type": "code",
   "execution_count": 60,
   "metadata": {},
   "outputs": [
    {
     "name": "stderr",
     "output_type": "stream",
     "text": [
      "C:\\Users\\Rasmus\\AppData\\Local\\Temp\\ipykernel_10372\\1360930345.py:2: FutureWarning:\n",
      "\n",
      "The default value of numeric_only in DataFrameGroupBy.sum is deprecated. In a future version, numeric_only will default to False. Either specify numeric_only or select only columns which should be valid for the function.\n",
      "\n"
     ]
    },
    {
     "data": {
      "text/html": [
       "<div>\n",
       "<style scoped>\n",
       "    .dataframe tbody tr th:only-of-type {\n",
       "        vertical-align: middle;\n",
       "    }\n",
       "\n",
       "    .dataframe tbody tr th {\n",
       "        vertical-align: top;\n",
       "    }\n",
       "\n",
       "    .dataframe thead th {\n",
       "        text-align: right;\n",
       "    }\n",
       "</style>\n",
       "<table border=\"1\" class=\"dataframe\">\n",
       "  <thead>\n",
       "    <tr style=\"text-align: right;\">\n",
       "      <th></th>\n",
       "      <th>KnNamn</th>\n",
       "      <th>år</th>\n",
       "      <th>veckonummer</th>\n",
       "      <th>tot_antal_fall_per10000inv</th>\n",
       "      <th>antal_fall_per10000_inv</th>\n",
       "    </tr>\n",
       "  </thead>\n",
       "  <tbody>\n",
       "    <tr>\n",
       "      <th>0</th>\n",
       "      <td>Ale</td>\n",
       "      <td>299098</td>\n",
       "      <td>3755</td>\n",
       "      <td>187053.0</td>\n",
       "      <td>2905.0</td>\n",
       "    </tr>\n",
       "    <tr>\n",
       "      <th>1</th>\n",
       "      <td>Alingsås</td>\n",
       "      <td>299098</td>\n",
       "      <td>3755</td>\n",
       "      <td>176845.0</td>\n",
       "      <td>2941.0</td>\n",
       "    </tr>\n",
       "    <tr>\n",
       "      <th>2</th>\n",
       "      <td>Alvesta</td>\n",
       "      <td>299098</td>\n",
       "      <td>3755</td>\n",
       "      <td>147060.0</td>\n",
       "      <td>2315.0</td>\n",
       "    </tr>\n",
       "    <tr>\n",
       "      <th>3</th>\n",
       "      <td>Aneby</td>\n",
       "      <td>299098</td>\n",
       "      <td>3755</td>\n",
       "      <td>131147.0</td>\n",
       "      <td>2026.0</td>\n",
       "    </tr>\n",
       "    <tr>\n",
       "      <th>4</th>\n",
       "      <td>Arboga</td>\n",
       "      <td>299098</td>\n",
       "      <td>3755</td>\n",
       "      <td>151230.0</td>\n",
       "      <td>2549.0</td>\n",
       "    </tr>\n",
       "    <tr>\n",
       "      <th>...</th>\n",
       "      <td>...</td>\n",
       "      <td>...</td>\n",
       "      <td>...</td>\n",
       "      <td>...</td>\n",
       "      <td>...</td>\n",
       "    </tr>\n",
       "    <tr>\n",
       "      <th>286</th>\n",
       "      <td>Österåker</td>\n",
       "      <td>299098</td>\n",
       "      <td>3755</td>\n",
       "      <td>151763.0</td>\n",
       "      <td>2492.0</td>\n",
       "    </tr>\n",
       "    <tr>\n",
       "      <th>287</th>\n",
       "      <td>Östhammar</td>\n",
       "      <td>299098</td>\n",
       "      <td>3755</td>\n",
       "      <td>116538.0</td>\n",
       "      <td>1851.0</td>\n",
       "    </tr>\n",
       "    <tr>\n",
       "      <th>288</th>\n",
       "      <td>Östra Göinge</td>\n",
       "      <td>299098</td>\n",
       "      <td>3755</td>\n",
       "      <td>121361.0</td>\n",
       "      <td>1797.0</td>\n",
       "    </tr>\n",
       "    <tr>\n",
       "      <th>289</th>\n",
       "      <td>Överkalix</td>\n",
       "      <td>299098</td>\n",
       "      <td>3755</td>\n",
       "      <td>120371.0</td>\n",
       "      <td>1803.0</td>\n",
       "    </tr>\n",
       "    <tr>\n",
       "      <th>290</th>\n",
       "      <td>Övertorneå</td>\n",
       "      <td>299098</td>\n",
       "      <td>3755</td>\n",
       "      <td>73889.0</td>\n",
       "      <td>1121.0</td>\n",
       "    </tr>\n",
       "  </tbody>\n",
       "</table>\n",
       "<p>291 rows × 5 columns</p>\n",
       "</div>"
      ],
      "text/plain": [
       "           KnNamn      år  veckonummer  tot_antal_fall_per10000inv  \\\n",
       "0             Ale  299098         3755                    187053.0   \n",
       "1        Alingsås  299098         3755                    176845.0   \n",
       "2         Alvesta  299098         3755                    147060.0   \n",
       "3           Aneby  299098         3755                    131147.0   \n",
       "4          Arboga  299098         3755                    151230.0   \n",
       "..            ...     ...          ...                         ...   \n",
       "286     Österåker  299098         3755                    151763.0   \n",
       "287     Östhammar  299098         3755                    116538.0   \n",
       "288  Östra Göinge  299098         3755                    121361.0   \n",
       "289     Överkalix  299098         3755                    120371.0   \n",
       "290    Övertorneå  299098         3755                     73889.0   \n",
       "\n",
       "     antal_fall_per10000_inv  \n",
       "0                     2905.0  \n",
       "1                     2941.0  \n",
       "2                     2315.0  \n",
       "3                     2026.0  \n",
       "4                     2549.0  \n",
       "..                       ...  \n",
       "286                   2492.0  \n",
       "287                   1851.0  \n",
       "288                   1797.0  \n",
       "289                   1803.0  \n",
       "290                   1121.0  \n",
       "\n",
       "[291 rows x 5 columns]"
      ]
     },
     "execution_count": 60,
     "metadata": {},
     "output_type": "execute_result"
    }
   ],
   "source": [
    "# dataset 1 contains total vaccine data so need to combine dataset 2 so that it shows total amount instead of weekly count.\n",
    "df_data_city.groupby(\"KnNamn\").sum().reset_index()"
   ]
  },
  {
   "cell_type": "code",
   "execution_count": null,
   "metadata": {},
   "outputs": [],
   "source": []
  }
 ],
 "metadata": {
  "kernelspec": {
   "display_name": "Python 3.9.13 ('Databehandling-Rasmus-Johansson-WFlJ2LV8')",
   "language": "python",
   "name": "python3"
  },
  "language_info": {
   "codemirror_mode": {
    "name": "ipython",
    "version": 3
   },
   "file_extension": ".py",
   "mimetype": "text/x-python",
   "name": "python",
   "nbconvert_exporter": "python",
   "pygments_lexer": "ipython3",
   "version": "3.9.13"
  },
  "orig_nbformat": 4,
  "vscode": {
   "interpreter": {
    "hash": "565a4fb94d27978a249d0ec763122eb60501a54d6fc07465494bdbc40fd8eb13"
   }
  }
 },
 "nbformat": 4,
 "nbformat_minor": 2
}
