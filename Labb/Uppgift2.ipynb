{
 "cells": [
  {
   "cell_type": "markdown",
   "metadata": {},
   "source": [
    "# Uppgift 2 - uppvärmning vaccindata"
   ]
  },
  {
   "cell_type": "code",
   "execution_count": 2,
   "metadata": {},
   "outputs": [
    {
     "data": {
      "text/html": [
       "<div>\n",
       "<style scoped>\n",
       "    .dataframe tbody tr th:only-of-type {\n",
       "        vertical-align: middle;\n",
       "    }\n",
       "\n",
       "    .dataframe tbody tr th {\n",
       "        vertical-align: top;\n",
       "    }\n",
       "\n",
       "    .dataframe thead th {\n",
       "        text-align: right;\n",
       "    }\n",
       "</style>\n",
       "<table border=\"1\" class=\"dataframe\">\n",
       "  <thead>\n",
       "    <tr style=\"text-align: right;\">\n",
       "      <th></th>\n",
       "      <th>Län</th>\n",
       "      <th>Län_namn</th>\n",
       "      <th>Kommun</th>\n",
       "      <th>Kommun_namn</th>\n",
       "      <th>Ålder</th>\n",
       "      <th>Befolkning</th>\n",
       "      <th>Antal minst 1 dos</th>\n",
       "      <th>Antal minst 2 doser</th>\n",
       "      <th>Antal 3 doser</th>\n",
       "      <th>Antal 4 doser</th>\n",
       "      <th>Andel minst 1 dos</th>\n",
       "      <th>Andel minst 2 doser</th>\n",
       "      <th>Andel 3 doser</th>\n",
       "      <th>Andel 4 doser</th>\n",
       "    </tr>\n",
       "  </thead>\n",
       "  <tbody>\n",
       "    <tr>\n",
       "      <th>0</th>\n",
       "      <td>1</td>\n",
       "      <td>Stockholms län</td>\n",
       "      <td>114</td>\n",
       "      <td>Upplands Väsby</td>\n",
       "      <td>12-15</td>\n",
       "      <td>2422</td>\n",
       "      <td>1206</td>\n",
       "      <td>1046</td>\n",
       "      <td>NaN</td>\n",
       "      <td>NaN</td>\n",
       "      <td>0.497936</td>\n",
       "      <td>0.431874</td>\n",
       "      <td>NaN</td>\n",
       "      <td>NaN</td>\n",
       "    </tr>\n",
       "    <tr>\n",
       "      <th>1</th>\n",
       "      <td>1</td>\n",
       "      <td>Stockholms län</td>\n",
       "      <td>114</td>\n",
       "      <td>Upplands Väsby</td>\n",
       "      <td>16-17</td>\n",
       "      <td>1203</td>\n",
       "      <td>836</td>\n",
       "      <td>753</td>\n",
       "      <td>NaN</td>\n",
       "      <td>NaN</td>\n",
       "      <td>0.694929</td>\n",
       "      <td>0.625935</td>\n",
       "      <td>NaN</td>\n",
       "      <td>NaN</td>\n",
       "    </tr>\n",
       "    <tr>\n",
       "      <th>2</th>\n",
       "      <td>1</td>\n",
       "      <td>Stockholms län</td>\n",
       "      <td>114</td>\n",
       "      <td>Upplands Väsby</td>\n",
       "      <td>18-29</td>\n",
       "      <td>6692</td>\n",
       "      <td>4883</td>\n",
       "      <td>4464</td>\n",
       "      <td>1957.0</td>\n",
       "      <td>NaN</td>\n",
       "      <td>0.729677</td>\n",
       "      <td>0.667065</td>\n",
       "      <td>0.292439</td>\n",
       "      <td>NaN</td>\n",
       "    </tr>\n",
       "    <tr>\n",
       "      <th>3</th>\n",
       "      <td>1</td>\n",
       "      <td>Stockholms län</td>\n",
       "      <td>114</td>\n",
       "      <td>Upplands Väsby</td>\n",
       "      <td>30-39</td>\n",
       "      <td>7332</td>\n",
       "      <td>5550</td>\n",
       "      <td>5249</td>\n",
       "      <td>2881.0</td>\n",
       "      <td>NaN</td>\n",
       "      <td>0.756956</td>\n",
       "      <td>0.715903</td>\n",
       "      <td>0.392935</td>\n",
       "      <td>NaN</td>\n",
       "    </tr>\n",
       "    <tr>\n",
       "      <th>4</th>\n",
       "      <td>1</td>\n",
       "      <td>Stockholms län</td>\n",
       "      <td>114</td>\n",
       "      <td>Upplands Väsby</td>\n",
       "      <td>40-49</td>\n",
       "      <td>6946</td>\n",
       "      <td>5587</td>\n",
       "      <td>5425</td>\n",
       "      <td>3720.0</td>\n",
       "      <td>NaN</td>\n",
       "      <td>0.804348</td>\n",
       "      <td>0.781025</td>\n",
       "      <td>0.535560</td>\n",
       "      <td>NaN</td>\n",
       "    </tr>\n",
       "  </tbody>\n",
       "</table>\n",
       "</div>"
      ],
      "text/plain": [
       "   Län        Län_namn  Kommun     Kommun_namn  Ålder  Befolkning  \\\n",
       "0    1  Stockholms län     114  Upplands Väsby  12-15        2422   \n",
       "1    1  Stockholms län     114  Upplands Väsby  16-17        1203   \n",
       "2    1  Stockholms län     114  Upplands Väsby  18-29        6692   \n",
       "3    1  Stockholms län     114  Upplands Väsby  30-39        7332   \n",
       "4    1  Stockholms län     114  Upplands Väsby  40-49        6946   \n",
       "\n",
       "   Antal minst 1 dos  Antal minst 2 doser  Antal 3 doser  Antal 4 doser  \\\n",
       "0               1206                 1046            NaN            NaN   \n",
       "1                836                  753            NaN            NaN   \n",
       "2               4883                 4464         1957.0            NaN   \n",
       "3               5550                 5249         2881.0            NaN   \n",
       "4               5587                 5425         3720.0            NaN   \n",
       "\n",
       "   Andel minst 1 dos  Andel minst 2 doser  Andel 3 doser  Andel 4 doser  \n",
       "0           0.497936             0.431874            NaN            NaN  \n",
       "1           0.694929             0.625935            NaN            NaN  \n",
       "2           0.729677             0.667065       0.292439            NaN  \n",
       "3           0.756956             0.715903       0.392935            NaN  \n",
       "4           0.804348             0.781025       0.535560            NaN  "
      ]
     },
     "execution_count": 2,
     "metadata": {},
     "output_type": "execute_result"
    }
   ],
   "source": [
    "import pandas as pd\n",
    "import matplotlib.pyplot as plt\n",
    "import numpy as np\n",
    "import plotly.express as px\n",
    "\n",
    "\n",
    "df = pd.read_excel(\"Folkhalsomyndigheten_Covid19_Vaccine.xlsx\", sheet_name= \"Vaccinerade kommun och ålder\")\n",
    "df.head()"
   ]
  },
  {
   "cell_type": "code",
   "execution_count": 3,
   "metadata": {},
   "outputs": [
    {
     "name": "stdout",
     "output_type": "stream",
     "text": [
      "<class 'pandas.core.frame.DataFrame'>\n",
      "RangeIndex: 2900 entries, 0 to 2899\n",
      "Data columns (total 14 columns):\n",
      " #   Column               Non-Null Count  Dtype  \n",
      "---  ------               --------------  -----  \n",
      " 0   Län                  2900 non-null   int64  \n",
      " 1   Län_namn             2900 non-null   object \n",
      " 2   Kommun               2900 non-null   int64  \n",
      " 3   Kommun_namn          2900 non-null   object \n",
      " 4   Ålder                2900 non-null   object \n",
      " 5   Befolkning           2900 non-null   int64  \n",
      " 6   Antal minst 1 dos    2900 non-null   int64  \n",
      " 7   Antal minst 2 doser  2900 non-null   int64  \n",
      " 8   Antal 3 doser        2320 non-null   float64\n",
      " 9   Antal 4 doser        870 non-null    float64\n",
      " 10  Andel minst 1 dos    2900 non-null   float64\n",
      " 11  Andel minst 2 doser  2900 non-null   float64\n",
      " 12  Andel 3 doser        2320 non-null   float64\n",
      " 13  Andel 4 doser        870 non-null    float64\n",
      "dtypes: float64(6), int64(5), object(3)\n",
      "memory usage: 317.3+ KB\n"
     ]
    }
   ],
   "source": [
    "# explored the data set with info, describe, index, etc\n",
    "df.info()"
   ]
  },
  {
   "cell_type": "code",
   "execution_count": 4,
   "metadata": {},
   "outputs": [
    {
     "name": "stdout",
     "output_type": "stream",
     "text": [
      "countys in data: ['Stockholms län' 'Uppsala län' 'Södermanlands län' 'Östergötlands län'\n",
      " 'Jönköpings län' 'Kronobergs län' 'Kalmar län' 'Gotlands län'\n",
      " 'Blekinge län' 'Skåne län' 'Hallands län' 'Västra Götalands län'\n",
      " 'Värmlands län' 'Örebro län' 'Västmanlands län' 'Dalarnas län'\n",
      " 'Gävleborgs län' 'Västernorrlands län' 'Jämtlands län'\n",
      " 'Västerbottens län' 'Norrbottens län'] \n",
      "Total: 21\n"
     ]
    }
   ],
   "source": [
    "county_name = df[\"Län_namn\"].unique()\n",
    "print(f\"countys in data: {county_name} \\nTotal: {len(county_name)}\")"
   ]
  },
  {
   "cell_type": "code",
   "execution_count": 5,
   "metadata": {},
   "outputs": [
    {
     "name": "stdout",
     "output_type": "stream",
     "text": [
      "countys in data: ['Upplands Väsby' 'Vallentuna' 'Österåker' 'Värmdö' 'Järfälla' 'Ekerö'\n",
      " 'Huddinge' 'Botkyrka' 'Salem' 'Haninge' 'Tyresö' 'Upplands-Bro' 'Nykvarn'\n",
      " 'Täby' 'Danderyd' 'Sollentuna' 'Stockholm' 'Södertälje' 'Nacka'\n",
      " 'Sundbyberg' 'Solna' 'Lidingö' 'Vaxholm' 'Norrtälje' 'Sigtuna'\n",
      " 'Nynäshamn' 'Håbo' 'Älvkarleby' 'Knivsta' 'Heby' 'Tierp' 'Uppsala'\n",
      " 'Enköping' 'Östhammar' 'Vingåker' 'Gnesta' 'Nyköping' 'Oxelösund' 'Flen'\n",
      " 'Katrineholm' 'Eskilstuna' 'Strängnäs' 'Trosa' 'Ödeshög' 'Ydre' 'Kinda'\n",
      " 'Boxholm' 'Åtvidaberg' 'Finspång' 'Valdemarsvik' 'Linköping' 'Norrköping'\n",
      " 'Söderköping' 'Motala' 'Vadstena' 'Mjölby' 'Aneby' 'Gnosjö' 'Mullsjö'\n",
      " 'Habo' 'Gislaved' 'Vaggeryd' 'Jönköping' 'Nässjö' 'Värnamo' 'Sävsjö'\n",
      " 'Vetlanda' 'Eksjö' 'Tranås' 'Uppvidinge' 'Lessebo' 'Tingsryd' 'Alvesta'\n",
      " 'Älmhult' 'Markaryd' 'Växjö' 'Ljungby' 'Högsby' 'Torsås' 'Mörbylånga'\n",
      " 'Hultsfred' 'Mönsterås' 'Emmaboda' 'Kalmar' 'Nybro' 'Oskarshamn'\n",
      " 'Västervik' 'Vimmerby' 'Borgholm' 'Gotland' 'Olofström' 'Karlskrona'\n",
      " 'Ronneby' 'Karlshamn' 'Sölvesborg' 'Svalöv' 'Staffanstorp' 'Burlöv'\n",
      " 'Vellinge' 'Östra Göinge' 'Örkelljunga' 'Bjuv' 'Kävlinge' 'Lomma'\n",
      " 'Svedala' 'Skurup' 'Sjöbo' 'Hörby' 'Höör' 'Tomelilla' 'Bromölla' 'Osby'\n",
      " 'Perstorp' 'Klippan' 'Åstorp' 'Båstad' 'Malmö' 'Lund' 'Landskrona'\n",
      " 'Helsingborg' 'Höganäs' 'Eslöv' 'Ystad' 'Trelleborg' 'Kristianstad'\n",
      " 'Simrishamn' 'Ängelholm' 'Hässleholm' 'Hylte' 'Halmstad' 'Laholm'\n",
      " 'Falkenberg' 'Varberg' 'Kungsbacka' 'Härryda' 'Partille' 'Öckerö'\n",
      " 'Stenungsund' 'Tjörn' 'Orust' 'Sotenäs' 'Munkedal' 'Tanum' 'Dals-Ed'\n",
      " 'Färgelanda' 'Ale' 'Lerum' 'Vårgårda' 'Bollebygd' 'Grästorp' 'Essunga'\n",
      " 'Karlsborg' 'Gullspång' 'Tranemo' 'Bengtsfors' 'Mellerud' 'Lilla Edet'\n",
      " 'Mark' 'Svenljunga' 'Herrljunga' 'Vara' 'Götene' 'Tibro' 'Töreboda'\n",
      " 'Göteborg' 'Mölndal' 'Kungälv' 'Lysekil' 'Uddevalla' 'Strömstad'\n",
      " 'Vänersborg' 'Trollhättan' 'Alingsås' 'Borås' 'Ulricehamn' 'Åmål'\n",
      " 'Mariestad' 'Lidköping' 'Skara' 'Skövde' 'Hjo' 'Tidaholm' 'Falköping'\n",
      " 'Kil' 'Eda' 'Torsby' 'Storfors' 'Hammarö' 'Munkfors' 'Forshaga' 'Grums'\n",
      " 'Årjäng' 'Sunne' 'Karlstad' 'Kristinehamn' 'Filipstad' 'Hagfors' 'Arvika'\n",
      " 'Säffle' 'Lekeberg' 'Laxå' 'Hallsberg' 'Degerfors' 'Hällefors'\n",
      " 'Ljusnarsberg' 'Örebro' 'Kumla' 'Askersund' 'Karlskoga' 'Nora'\n",
      " 'Lindesberg' 'Skinnskatteberg' 'Surahammar' 'Kungsör' 'Hallstahammar'\n",
      " 'Norberg' 'Västerås' 'Sala' 'Fagersta' 'Köping' 'Arboga' 'Vansbro'\n",
      " 'Malung-Sälen' 'Gagnef' 'Leksand' 'Rättvik' 'Orsa' 'Älvdalen'\n",
      " 'Smedjebacken' 'Mora' 'Falun' 'Borlänge' 'Säter' 'Hedemora' 'Avesta'\n",
      " 'Ludvika' 'Ockelbo' 'Hofors' 'Ovanåker' 'Nordanstig' 'Ljusdal' 'Gävle'\n",
      " 'Sandviken' 'Söderhamn' 'Bollnäs' 'Hudiksvall' 'Ånge' 'Timrå' 'Härnösand'\n",
      " 'Sundsvall' 'Kramfors' 'Sollefteå' 'Örnsköldsvik' 'Ragunda' 'Bräcke'\n",
      " 'Krokom' 'Strömsund' 'Åre' 'Berg' 'Härjedalen' 'Östersund' 'Nordmaling'\n",
      " 'Bjurholm' 'Vindeln' 'Robertsfors' 'Norsjö' 'Malå' 'Storuman' 'Sorsele'\n",
      " 'Dorotea' 'Vännäs' 'Vilhelmina' 'Åsele' 'Umeå' 'Lycksele' 'Skellefteå'\n",
      " 'Arvidsjaur' 'Arjeplog' 'Jokkmokk' 'Överkalix' 'Kalix' 'Övertorneå'\n",
      " 'Pajala' 'Gällivare' 'Älvsbyn' 'Luleå' 'Piteå' 'Boden' 'Haparanda'\n",
      " 'Kiruna'] \n",
      "Total: 290\n"
     ]
    }
   ],
   "source": [
    "city_name = df[\"Kommun_namn\"].unique()\n",
    "print(f\"countys in data: {city_name} \\nTotal: {len(city_name)}\")"
   ]
  },
  {
   "cell_type": "code",
   "execution_count": 6,
   "metadata": {},
   "outputs": [
    {
     "data": {
      "text/plain": [
       "9092790"
      ]
     },
     "execution_count": 6,
     "metadata": {},
     "output_type": "execute_result"
    }
   ],
   "source": [
    "population_tot = df[\"Befolkning\"].sum()\n",
    "population_tot"
   ]
  },
  {
   "cell_type": "code",
   "execution_count": 7,
   "metadata": {},
   "outputs": [
    {
     "data": {
      "text/plain": [
       "array(['12-15', '16-17', '18-29', '30-39', '40-49', '50-59', '60-69',\n",
       "       '70-79', '80-89', '90 eller äldre'], dtype=object)"
      ]
     },
     "execution_count": 7,
     "metadata": {},
     "output_type": "execute_result"
    }
   ],
   "source": [
    "df[\"Ålder\"].unique()"
   ]
  },
  {
   "cell_type": "code",
   "execution_count": 8,
   "metadata": {},
   "outputs": [
    {
     "data": {
      "text/plain": [
       "745370"
      ]
     },
     "execution_count": 8,
     "metadata": {},
     "output_type": "execute_result"
    }
   ],
   "source": [
    "under15 = df[df[\"Ålder\"] == \"12-15\"]\n",
    "under18 = df[df[\"Ålder\"] == \"16-17\"]\n",
    "population_12_to_17 = under15[\"Befolkning\"].sum() + under18[\"Befolkning\"].sum()\n",
    "population_12_to_17"
   ]
  },
  {
   "cell_type": "code",
   "execution_count": 9,
   "metadata": {},
   "outputs": [
    {
     "name": "stdout",
     "output_type": "stream",
     "text": [
      "there are 2165400 number of minors in sweden\n"
     ]
    }
   ],
   "source": [
    "# Data is from 2022 according to scb swedens population at the time is equal to 10 512 820\n",
    "population = 10512820\n",
    "# The data only contains people who are 12 and up meaning that the difference between the data population and real population are kids below 12\n",
    "under12 = population - population_tot\n",
    "# According to the data the population under 18 in sweden is \n",
    "population_kids = under12 + population_12_to_17\n",
    "print(f\"there are {population_kids} number of minors in sweden\")"
   ]
  },
  {
   "cell_type": "code",
   "execution_count": 10,
   "metadata": {},
   "outputs": [
    {
     "data": {
      "text/plain": [
       "1420030"
      ]
     },
     "execution_count": 10,
     "metadata": {},
     "output_type": "execute_result"
    }
   ],
   "source": [
    "under12"
   ]
  },
  {
   "cell_type": "code",
   "execution_count": 38,
   "metadata": {},
   "outputs": [
    {
     "data": {
      "text/html": [
       "<div>\n",
       "<style scoped>\n",
       "    .dataframe tbody tr th:only-of-type {\n",
       "        vertical-align: middle;\n",
       "    }\n",
       "\n",
       "    .dataframe tbody tr th {\n",
       "        vertical-align: top;\n",
       "    }\n",
       "\n",
       "    .dataframe thead th {\n",
       "        text-align: right;\n",
       "    }\n",
       "</style>\n",
       "<table border=\"1\" class=\"dataframe\">\n",
       "  <thead>\n",
       "    <tr style=\"text-align: right;\">\n",
       "      <th></th>\n",
       "      <th>Ålder</th>\n",
       "      <th>Befolkning</th>\n",
       "    </tr>\n",
       "  </thead>\n",
       "  <tbody>\n",
       "    <tr>\n",
       "      <th>0</th>\n",
       "      <td>11 eller yngre</td>\n",
       "      <td>1420030</td>\n",
       "    </tr>\n",
       "    <tr>\n",
       "      <th>1</th>\n",
       "      <td>12-15</td>\n",
       "      <td>503831</td>\n",
       "    </tr>\n",
       "    <tr>\n",
       "      <th>2</th>\n",
       "      <td>16-17</td>\n",
       "      <td>241539</td>\n",
       "    </tr>\n",
       "    <tr>\n",
       "      <th>3</th>\n",
       "      <td>18-29</td>\n",
       "      <td>1475950</td>\n",
       "    </tr>\n",
       "    <tr>\n",
       "      <th>4</th>\n",
       "      <td>30-39</td>\n",
       "      <td>1467590</td>\n",
       "    </tr>\n",
       "    <tr>\n",
       "      <th>5</th>\n",
       "      <td>40-49</td>\n",
       "      <td>1298156</td>\n",
       "    </tr>\n",
       "    <tr>\n",
       "      <th>6</th>\n",
       "      <td>50-59</td>\n",
       "      <td>1339798</td>\n",
       "    </tr>\n",
       "    <tr>\n",
       "      <th>7</th>\n",
       "      <td>60-69</td>\n",
       "      <td>1121922</td>\n",
       "    </tr>\n",
       "    <tr>\n",
       "      <th>8</th>\n",
       "      <td>70-79</td>\n",
       "      <td>1033113</td>\n",
       "    </tr>\n",
       "    <tr>\n",
       "      <th>9</th>\n",
       "      <td>80-89</td>\n",
       "      <td>496750</td>\n",
       "    </tr>\n",
       "    <tr>\n",
       "      <th>10</th>\n",
       "      <td>90 eller äldre</td>\n",
       "      <td>114141</td>\n",
       "    </tr>\n",
       "  </tbody>\n",
       "</table>\n",
       "</div>"
      ],
      "text/plain": [
       "             Ålder Befolkning\n",
       "0   11 eller yngre    1420030\n",
       "1            12-15     503831\n",
       "2            16-17     241539\n",
       "3            18-29    1475950\n",
       "4            30-39    1467590\n",
       "5            40-49    1298156\n",
       "6            50-59    1339798\n",
       "7            60-69    1121922\n",
       "8            70-79    1033113\n",
       "9            80-89     496750\n",
       "10  90 eller äldre     114141"
      ]
     },
     "execution_count": 38,
     "metadata": {},
     "output_type": "execute_result"
    }
   ],
   "source": [
    "# combining agegroups and population of every agegroup\n",
    "age = df.groupby(\"Ålder\").sum(\"Befolkning\").reset_index()\n",
    "# did this as i only wanted the age and population for this assignment.\n",
    "# if wanting to use age to find other things such as doses per agegroup dont do next step\n",
    "age.drop(age.columns.difference([\"Ålder\", \"Befolkning\"]), axis = 1, inplace = True)\n",
    "# adds new row with the calculated population under 12 years of age then changes order so that the rows are in order of age\n",
    "new_row = pd.Series({\"Ålder\": \"11 eller yngre\", \"Befolkning\": under12})\n",
    "age = pd.concat([age,new_row.to_frame().T], ignore_index= True)\n",
    "age = age.sort_values(\"Ålder\").reset_index(drop=True)\n",
    "age"
   ]
  },
  {
   "cell_type": "code",
   "execution_count": 42,
   "metadata": {},
   "outputs": [
    {
     "data": {
      "application/vnd.plotly.v1+json": {
       "config": {
        "plotlyServerURL": "https://plot.ly"
       },
       "data": [
        {
         "domain": {
          "x": [
           0,
           1
          ],
          "y": [
           0,
           1
          ]
         },
         "hovertemplate": "Ålder=%{label}<br>Befolkning=%{value}<extra></extra>",
         "labels": [
          "11 eller yngre",
          "12-15",
          "16-17",
          "18-29",
          "30-39",
          "40-49",
          "50-59",
          "60-69",
          "70-79",
          "80-89",
          "90 eller äldre"
         ],
         "legendgroup": "",
         "name": "",
         "showlegend": true,
         "type": "pie",
         "values": [
          1420030,
          503831,
          241539,
          1475950,
          1467590,
          1298156,
          1339798,
          1121922,
          1033113,
          496750,
          114141
         ]
        }
       ],
       "layout": {
        "legend": {
         "tracegroupgap": 0
        },
        "template": {
         "data": {
          "bar": [
           {
            "error_x": {
             "color": "#2a3f5f"
            },
            "error_y": {
             "color": "#2a3f5f"
            },
            "marker": {
             "line": {
              "color": "#E5ECF6",
              "width": 0.5
             },
             "pattern": {
              "fillmode": "overlay",
              "size": 10,
              "solidity": 0.2
             }
            },
            "type": "bar"
           }
          ],
          "barpolar": [
           {
            "marker": {
             "line": {
              "color": "#E5ECF6",
              "width": 0.5
             },
             "pattern": {
              "fillmode": "overlay",
              "size": 10,
              "solidity": 0.2
             }
            },
            "type": "barpolar"
           }
          ],
          "carpet": [
           {
            "aaxis": {
             "endlinecolor": "#2a3f5f",
             "gridcolor": "white",
             "linecolor": "white",
             "minorgridcolor": "white",
             "startlinecolor": "#2a3f5f"
            },
            "baxis": {
             "endlinecolor": "#2a3f5f",
             "gridcolor": "white",
             "linecolor": "white",
             "minorgridcolor": "white",
             "startlinecolor": "#2a3f5f"
            },
            "type": "carpet"
           }
          ],
          "choropleth": [
           {
            "colorbar": {
             "outlinewidth": 0,
             "ticks": ""
            },
            "type": "choropleth"
           }
          ],
          "contour": [
           {
            "colorbar": {
             "outlinewidth": 0,
             "ticks": ""
            },
            "colorscale": [
             [
              0,
              "#0d0887"
             ],
             [
              0.1111111111111111,
              "#46039f"
             ],
             [
              0.2222222222222222,
              "#7201a8"
             ],
             [
              0.3333333333333333,
              "#9c179e"
             ],
             [
              0.4444444444444444,
              "#bd3786"
             ],
             [
              0.5555555555555556,
              "#d8576b"
             ],
             [
              0.6666666666666666,
              "#ed7953"
             ],
             [
              0.7777777777777778,
              "#fb9f3a"
             ],
             [
              0.8888888888888888,
              "#fdca26"
             ],
             [
              1,
              "#f0f921"
             ]
            ],
            "type": "contour"
           }
          ],
          "contourcarpet": [
           {
            "colorbar": {
             "outlinewidth": 0,
             "ticks": ""
            },
            "type": "contourcarpet"
           }
          ],
          "heatmap": [
           {
            "colorbar": {
             "outlinewidth": 0,
             "ticks": ""
            },
            "colorscale": [
             [
              0,
              "#0d0887"
             ],
             [
              0.1111111111111111,
              "#46039f"
             ],
             [
              0.2222222222222222,
              "#7201a8"
             ],
             [
              0.3333333333333333,
              "#9c179e"
             ],
             [
              0.4444444444444444,
              "#bd3786"
             ],
             [
              0.5555555555555556,
              "#d8576b"
             ],
             [
              0.6666666666666666,
              "#ed7953"
             ],
             [
              0.7777777777777778,
              "#fb9f3a"
             ],
             [
              0.8888888888888888,
              "#fdca26"
             ],
             [
              1,
              "#f0f921"
             ]
            ],
            "type": "heatmap"
           }
          ],
          "heatmapgl": [
           {
            "colorbar": {
             "outlinewidth": 0,
             "ticks": ""
            },
            "colorscale": [
             [
              0,
              "#0d0887"
             ],
             [
              0.1111111111111111,
              "#46039f"
             ],
             [
              0.2222222222222222,
              "#7201a8"
             ],
             [
              0.3333333333333333,
              "#9c179e"
             ],
             [
              0.4444444444444444,
              "#bd3786"
             ],
             [
              0.5555555555555556,
              "#d8576b"
             ],
             [
              0.6666666666666666,
              "#ed7953"
             ],
             [
              0.7777777777777778,
              "#fb9f3a"
             ],
             [
              0.8888888888888888,
              "#fdca26"
             ],
             [
              1,
              "#f0f921"
             ]
            ],
            "type": "heatmapgl"
           }
          ],
          "histogram": [
           {
            "marker": {
             "pattern": {
              "fillmode": "overlay",
              "size": 10,
              "solidity": 0.2
             }
            },
            "type": "histogram"
           }
          ],
          "histogram2d": [
           {
            "colorbar": {
             "outlinewidth": 0,
             "ticks": ""
            },
            "colorscale": [
             [
              0,
              "#0d0887"
             ],
             [
              0.1111111111111111,
              "#46039f"
             ],
             [
              0.2222222222222222,
              "#7201a8"
             ],
             [
              0.3333333333333333,
              "#9c179e"
             ],
             [
              0.4444444444444444,
              "#bd3786"
             ],
             [
              0.5555555555555556,
              "#d8576b"
             ],
             [
              0.6666666666666666,
              "#ed7953"
             ],
             [
              0.7777777777777778,
              "#fb9f3a"
             ],
             [
              0.8888888888888888,
              "#fdca26"
             ],
             [
              1,
              "#f0f921"
             ]
            ],
            "type": "histogram2d"
           }
          ],
          "histogram2dcontour": [
           {
            "colorbar": {
             "outlinewidth": 0,
             "ticks": ""
            },
            "colorscale": [
             [
              0,
              "#0d0887"
             ],
             [
              0.1111111111111111,
              "#46039f"
             ],
             [
              0.2222222222222222,
              "#7201a8"
             ],
             [
              0.3333333333333333,
              "#9c179e"
             ],
             [
              0.4444444444444444,
              "#bd3786"
             ],
             [
              0.5555555555555556,
              "#d8576b"
             ],
             [
              0.6666666666666666,
              "#ed7953"
             ],
             [
              0.7777777777777778,
              "#fb9f3a"
             ],
             [
              0.8888888888888888,
              "#fdca26"
             ],
             [
              1,
              "#f0f921"
             ]
            ],
            "type": "histogram2dcontour"
           }
          ],
          "mesh3d": [
           {
            "colorbar": {
             "outlinewidth": 0,
             "ticks": ""
            },
            "type": "mesh3d"
           }
          ],
          "parcoords": [
           {
            "line": {
             "colorbar": {
              "outlinewidth": 0,
              "ticks": ""
             }
            },
            "type": "parcoords"
           }
          ],
          "pie": [
           {
            "automargin": true,
            "type": "pie"
           }
          ],
          "scatter": [
           {
            "fillpattern": {
             "fillmode": "overlay",
             "size": 10,
             "solidity": 0.2
            },
            "type": "scatter"
           }
          ],
          "scatter3d": [
           {
            "line": {
             "colorbar": {
              "outlinewidth": 0,
              "ticks": ""
             }
            },
            "marker": {
             "colorbar": {
              "outlinewidth": 0,
              "ticks": ""
             }
            },
            "type": "scatter3d"
           }
          ],
          "scattercarpet": [
           {
            "marker": {
             "colorbar": {
              "outlinewidth": 0,
              "ticks": ""
             }
            },
            "type": "scattercarpet"
           }
          ],
          "scattergeo": [
           {
            "marker": {
             "colorbar": {
              "outlinewidth": 0,
              "ticks": ""
             }
            },
            "type": "scattergeo"
           }
          ],
          "scattergl": [
           {
            "marker": {
             "colorbar": {
              "outlinewidth": 0,
              "ticks": ""
             }
            },
            "type": "scattergl"
           }
          ],
          "scattermapbox": [
           {
            "marker": {
             "colorbar": {
              "outlinewidth": 0,
              "ticks": ""
             }
            },
            "type": "scattermapbox"
           }
          ],
          "scatterpolar": [
           {
            "marker": {
             "colorbar": {
              "outlinewidth": 0,
              "ticks": ""
             }
            },
            "type": "scatterpolar"
           }
          ],
          "scatterpolargl": [
           {
            "marker": {
             "colorbar": {
              "outlinewidth": 0,
              "ticks": ""
             }
            },
            "type": "scatterpolargl"
           }
          ],
          "scatterternary": [
           {
            "marker": {
             "colorbar": {
              "outlinewidth": 0,
              "ticks": ""
             }
            },
            "type": "scatterternary"
           }
          ],
          "surface": [
           {
            "colorbar": {
             "outlinewidth": 0,
             "ticks": ""
            },
            "colorscale": [
             [
              0,
              "#0d0887"
             ],
             [
              0.1111111111111111,
              "#46039f"
             ],
             [
              0.2222222222222222,
              "#7201a8"
             ],
             [
              0.3333333333333333,
              "#9c179e"
             ],
             [
              0.4444444444444444,
              "#bd3786"
             ],
             [
              0.5555555555555556,
              "#d8576b"
             ],
             [
              0.6666666666666666,
              "#ed7953"
             ],
             [
              0.7777777777777778,
              "#fb9f3a"
             ],
             [
              0.8888888888888888,
              "#fdca26"
             ],
             [
              1,
              "#f0f921"
             ]
            ],
            "type": "surface"
           }
          ],
          "table": [
           {
            "cells": {
             "fill": {
              "color": "#EBF0F8"
             },
             "line": {
              "color": "white"
             }
            },
            "header": {
             "fill": {
              "color": "#C8D4E3"
             },
             "line": {
              "color": "white"
             }
            },
            "type": "table"
           }
          ]
         },
         "layout": {
          "annotationdefaults": {
           "arrowcolor": "#2a3f5f",
           "arrowhead": 0,
           "arrowwidth": 1
          },
          "autotypenumbers": "strict",
          "coloraxis": {
           "colorbar": {
            "outlinewidth": 0,
            "ticks": ""
           }
          },
          "colorscale": {
           "diverging": [
            [
             0,
             "#8e0152"
            ],
            [
             0.1,
             "#c51b7d"
            ],
            [
             0.2,
             "#de77ae"
            ],
            [
             0.3,
             "#f1b6da"
            ],
            [
             0.4,
             "#fde0ef"
            ],
            [
             0.5,
             "#f7f7f7"
            ],
            [
             0.6,
             "#e6f5d0"
            ],
            [
             0.7,
             "#b8e186"
            ],
            [
             0.8,
             "#7fbc41"
            ],
            [
             0.9,
             "#4d9221"
            ],
            [
             1,
             "#276419"
            ]
           ],
           "sequential": [
            [
             0,
             "#0d0887"
            ],
            [
             0.1111111111111111,
             "#46039f"
            ],
            [
             0.2222222222222222,
             "#7201a8"
            ],
            [
             0.3333333333333333,
             "#9c179e"
            ],
            [
             0.4444444444444444,
             "#bd3786"
            ],
            [
             0.5555555555555556,
             "#d8576b"
            ],
            [
             0.6666666666666666,
             "#ed7953"
            ],
            [
             0.7777777777777778,
             "#fb9f3a"
            ],
            [
             0.8888888888888888,
             "#fdca26"
            ],
            [
             1,
             "#f0f921"
            ]
           ],
           "sequentialminus": [
            [
             0,
             "#0d0887"
            ],
            [
             0.1111111111111111,
             "#46039f"
            ],
            [
             0.2222222222222222,
             "#7201a8"
            ],
            [
             0.3333333333333333,
             "#9c179e"
            ],
            [
             0.4444444444444444,
             "#bd3786"
            ],
            [
             0.5555555555555556,
             "#d8576b"
            ],
            [
             0.6666666666666666,
             "#ed7953"
            ],
            [
             0.7777777777777778,
             "#fb9f3a"
            ],
            [
             0.8888888888888888,
             "#fdca26"
            ],
            [
             1,
             "#f0f921"
            ]
           ]
          },
          "colorway": [
           "#636efa",
           "#EF553B",
           "#00cc96",
           "#ab63fa",
           "#FFA15A",
           "#19d3f3",
           "#FF6692",
           "#B6E880",
           "#FF97FF",
           "#FECB52"
          ],
          "font": {
           "color": "#2a3f5f"
          },
          "geo": {
           "bgcolor": "white",
           "lakecolor": "white",
           "landcolor": "#E5ECF6",
           "showlakes": true,
           "showland": true,
           "subunitcolor": "white"
          },
          "hoverlabel": {
           "align": "left"
          },
          "hovermode": "closest",
          "mapbox": {
           "style": "light"
          },
          "paper_bgcolor": "white",
          "plot_bgcolor": "#E5ECF6",
          "polar": {
           "angularaxis": {
            "gridcolor": "white",
            "linecolor": "white",
            "ticks": ""
           },
           "bgcolor": "#E5ECF6",
           "radialaxis": {
            "gridcolor": "white",
            "linecolor": "white",
            "ticks": ""
           }
          },
          "scene": {
           "xaxis": {
            "backgroundcolor": "#E5ECF6",
            "gridcolor": "white",
            "gridwidth": 2,
            "linecolor": "white",
            "showbackground": true,
            "ticks": "",
            "zerolinecolor": "white"
           },
           "yaxis": {
            "backgroundcolor": "#E5ECF6",
            "gridcolor": "white",
            "gridwidth": 2,
            "linecolor": "white",
            "showbackground": true,
            "ticks": "",
            "zerolinecolor": "white"
           },
           "zaxis": {
            "backgroundcolor": "#E5ECF6",
            "gridcolor": "white",
            "gridwidth": 2,
            "linecolor": "white",
            "showbackground": true,
            "ticks": "",
            "zerolinecolor": "white"
           }
          },
          "shapedefaults": {
           "line": {
            "color": "#2a3f5f"
           }
          },
          "ternary": {
           "aaxis": {
            "gridcolor": "white",
            "linecolor": "white",
            "ticks": ""
           },
           "baxis": {
            "gridcolor": "white",
            "linecolor": "white",
            "ticks": ""
           },
           "bgcolor": "#E5ECF6",
           "caxis": {
            "gridcolor": "white",
            "linecolor": "white",
            "ticks": ""
           }
          },
          "title": {
           "x": 0.05
          },
          "xaxis": {
           "automargin": true,
           "gridcolor": "white",
           "linecolor": "white",
           "ticks": "",
           "title": {
            "standoff": 15
           },
           "zerolinecolor": "white",
           "zerolinewidth": 2
          },
          "yaxis": {
           "automargin": true,
           "gridcolor": "white",
           "linecolor": "white",
           "ticks": "",
           "title": {
            "standoff": 15
           },
           "zerolinecolor": "white",
           "zerolinewidth": 2
          }
         }
        },
        "title": {
         "text": "Befolkning per åldersgrupp"
        }
       }
      }
     },
     "metadata": {},
     "output_type": "display_data"
    }
   ],
   "source": [
    "# graph showing population per agegroup\n",
    "# used bar graph at first but swapped to pie to make it easier to see percentage of total population\n",
    "fig = px.pie(age, names = \"Ålder\", values = \"Befolkning\", title = \"Befolkning per åldersgrupp\")\n",
    "fig.show()\n",
    "fig.write_html(\"Visualiseringar/Befolkning per åldersgrupp.html\")"
   ]
  },
  {
   "cell_type": "code",
   "execution_count": 134,
   "metadata": {},
   "outputs": [
    {
     "data": {
      "text/html": [
       "<div>\n",
       "<style scoped>\n",
       "    .dataframe tbody tr th:only-of-type {\n",
       "        vertical-align: middle;\n",
       "    }\n",
       "\n",
       "    .dataframe tbody tr th {\n",
       "        vertical-align: top;\n",
       "    }\n",
       "\n",
       "    .dataframe thead th {\n",
       "        text-align: right;\n",
       "    }\n",
       "</style>\n",
       "<table border=\"1\" class=\"dataframe\">\n",
       "  <thead>\n",
       "    <tr style=\"text-align: right;\">\n",
       "      <th></th>\n",
       "      <th>Län</th>\n",
       "      <th>Kommun</th>\n",
       "      <th>Befolkning</th>\n",
       "      <th>Antal minst 1 dos</th>\n",
       "      <th>Antal minst 2 doser</th>\n",
       "      <th>Antal 3 doser</th>\n",
       "      <th>Antal 4 doser</th>\n",
       "      <th>Andel minst 1 dos</th>\n",
       "      <th>Andel minst 2 doser</th>\n",
       "      <th>Andel 3 doser</th>\n",
       "      <th>Andel 4 doser</th>\n",
       "    </tr>\n",
       "    <tr>\n",
       "      <th>Län_namn</th>\n",
       "      <th></th>\n",
       "      <th></th>\n",
       "      <th></th>\n",
       "      <th></th>\n",
       "      <th></th>\n",
       "      <th></th>\n",
       "      <th></th>\n",
       "      <th></th>\n",
       "      <th></th>\n",
       "      <th></th>\n",
       "      <th></th>\n",
       "    </tr>\n",
       "  </thead>\n",
       "  <tbody>\n",
       "    <tr>\n",
       "      <th>Blekinge län</th>\n",
       "      <td>500</td>\n",
       "      <td>53860</td>\n",
       "      <td>139327</td>\n",
       "      <td>122498</td>\n",
       "      <td>120736</td>\n",
       "      <td>92316.0</td>\n",
       "      <td>25131.0</td>\n",
       "      <td>87.921221</td>\n",
       "      <td>86.656571</td>\n",
       "      <td>66.258514</td>\n",
       "      <td>18.037423</td>\n",
       "    </tr>\n",
       "    <tr>\n",
       "      <th>Dalarnas län</th>\n",
       "      <td>3000</td>\n",
       "      <td>308210</td>\n",
       "      <td>252075</td>\n",
       "      <td>221409</td>\n",
       "      <td>217994</td>\n",
       "      <td>164370.0</td>\n",
       "      <td>49093.0</td>\n",
       "      <td>87.834573</td>\n",
       "      <td>86.479818</td>\n",
       "      <td>65.206784</td>\n",
       "      <td>19.475553</td>\n",
       "    </tr>\n",
       "    <tr>\n",
       "      <th>Gotlands län</th>\n",
       "      <td>90</td>\n",
       "      <td>9800</td>\n",
       "      <td>53924</td>\n",
       "      <td>48776</td>\n",
       "      <td>47925</td>\n",
       "      <td>37454.0</td>\n",
       "      <td>10900.0</td>\n",
       "      <td>90.453230</td>\n",
       "      <td>88.875083</td>\n",
       "      <td>69.457014</td>\n",
       "      <td>20.213634</td>\n",
       "    </tr>\n",
       "    <tr>\n",
       "      <th>Gävleborgs län</th>\n",
       "      <td>2100</td>\n",
       "      <td>215290</td>\n",
       "      <td>252216</td>\n",
       "      <td>220378</td>\n",
       "      <td>215269</td>\n",
       "      <td>159715.0</td>\n",
       "      <td>45765.0</td>\n",
       "      <td>87.376693</td>\n",
       "      <td>85.351048</td>\n",
       "      <td>63.324690</td>\n",
       "      <td>18.145161</td>\n",
       "    </tr>\n",
       "    <tr>\n",
       "      <th>Hallands län</th>\n",
       "      <td>780</td>\n",
       "      <td>82250</td>\n",
       "      <td>295663</td>\n",
       "      <td>259131</td>\n",
       "      <td>255335</td>\n",
       "      <td>192065.0</td>\n",
       "      <td>50704.0</td>\n",
       "      <td>87.644041</td>\n",
       "      <td>86.360147</td>\n",
       "      <td>64.960783</td>\n",
       "      <td>17.149254</td>\n",
       "    </tr>\n",
       "    <tr>\n",
       "      <th>Jämtlands län</th>\n",
       "      <td>1840</td>\n",
       "      <td>186180</td>\n",
       "      <td>115398</td>\n",
       "      <td>102225</td>\n",
       "      <td>100514</td>\n",
       "      <td>73356.0</td>\n",
       "      <td>20026.0</td>\n",
       "      <td>88.584724</td>\n",
       "      <td>87.102029</td>\n",
       "      <td>63.567826</td>\n",
       "      <td>17.353854</td>\n",
       "    </tr>\n",
       "    <tr>\n",
       "      <th>Jönköpings län</th>\n",
       "      <td>780</td>\n",
       "      <td>86200</td>\n",
       "      <td>317355</td>\n",
       "      <td>274951</td>\n",
       "      <td>270262</td>\n",
       "      <td>199548.0</td>\n",
       "      <td>51516.0</td>\n",
       "      <td>86.638307</td>\n",
       "      <td>85.160782</td>\n",
       "      <td>62.878480</td>\n",
       "      <td>16.232925</td>\n",
       "    </tr>\n",
       "    <tr>\n",
       "      <th>Kalmar län</th>\n",
       "      <td>960</td>\n",
       "      <td>103730</td>\n",
       "      <td>216763</td>\n",
       "      <td>190910</td>\n",
       "      <td>188515</td>\n",
       "      <td>147252.0</td>\n",
       "      <td>42503.0</td>\n",
       "      <td>88.073149</td>\n",
       "      <td>86.968256</td>\n",
       "      <td>67.932258</td>\n",
       "      <td>19.608051</td>\n",
       "    </tr>\n",
       "    <tr>\n",
       "      <th>Kronobergs län</th>\n",
       "      <td>560</td>\n",
       "      <td>61410</td>\n",
       "      <td>175503</td>\n",
       "      <td>149136</td>\n",
       "      <td>146491</td>\n",
       "      <td>103847.0</td>\n",
       "      <td>27808.0</td>\n",
       "      <td>84.976325</td>\n",
       "      <td>83.469228</td>\n",
       "      <td>59.171068</td>\n",
       "      <td>15.844743</td>\n",
       "    </tr>\n",
       "    <tr>\n",
       "      <th>Norrbottens län</th>\n",
       "      <td>3500</td>\n",
       "      <td>355800</td>\n",
       "      <td>220199</td>\n",
       "      <td>198469</td>\n",
       "      <td>195881</td>\n",
       "      <td>149411.0</td>\n",
       "      <td>40524.0</td>\n",
       "      <td>90.131654</td>\n",
       "      <td>88.956353</td>\n",
       "      <td>67.852715</td>\n",
       "      <td>18.403353</td>\n",
       "    </tr>\n",
       "    <tr>\n",
       "      <th>Skåne län</th>\n",
       "      <td>3960</td>\n",
       "      <td>418840</td>\n",
       "      <td>1215047</td>\n",
       "      <td>1007893</td>\n",
       "      <td>985531</td>\n",
       "      <td>685887.0</td>\n",
       "      <td>168292.0</td>\n",
       "      <td>82.950948</td>\n",
       "      <td>81.110525</td>\n",
       "      <td>56.449421</td>\n",
       "      <td>13.850658</td>\n",
       "    </tr>\n",
       "    <tr>\n",
       "      <th>Stockholms län</th>\n",
       "      <td>260</td>\n",
       "      <td>39870</td>\n",
       "      <td>2094721</td>\n",
       "      <td>1741560</td>\n",
       "      <td>1678530</td>\n",
       "      <td>1193900.0</td>\n",
       "      <td>237049.0</td>\n",
       "      <td>83.140428</td>\n",
       "      <td>80.131435</td>\n",
       "      <td>56.995657</td>\n",
       "      <td>11.316495</td>\n",
       "    </tr>\n",
       "    <tr>\n",
       "      <th>Södermanlands län</th>\n",
       "      <td>360</td>\n",
       "      <td>42730</td>\n",
       "      <td>261596</td>\n",
       "      <td>227120</td>\n",
       "      <td>221345</td>\n",
       "      <td>160546.0</td>\n",
       "      <td>45572.0</td>\n",
       "      <td>86.820899</td>\n",
       "      <td>84.613297</td>\n",
       "      <td>61.371734</td>\n",
       "      <td>17.420756</td>\n",
       "    </tr>\n",
       "    <tr>\n",
       "      <th>Uppsala län</th>\n",
       "      <td>240</td>\n",
       "      <td>27880</td>\n",
       "      <td>343478</td>\n",
       "      <td>307564</td>\n",
       "      <td>300836</td>\n",
       "      <td>225885.0</td>\n",
       "      <td>50928.0</td>\n",
       "      <td>89.544017</td>\n",
       "      <td>87.585231</td>\n",
       "      <td>65.764037</td>\n",
       "      <td>14.827151</td>\n",
       "    </tr>\n",
       "    <tr>\n",
       "      <th>Värmlands län</th>\n",
       "      <td>2720</td>\n",
       "      <td>282180</td>\n",
       "      <td>248314</td>\n",
       "      <td>225287</td>\n",
       "      <td>222685</td>\n",
       "      <td>172027.0</td>\n",
       "      <td>48181.0</td>\n",
       "      <td>90.726661</td>\n",
       "      <td>89.678794</td>\n",
       "      <td>69.278011</td>\n",
       "      <td>19.403256</td>\n",
       "    </tr>\n",
       "    <tr>\n",
       "      <th>Västerbottens län</th>\n",
       "      <td>3600</td>\n",
       "      <td>365480</td>\n",
       "      <td>239604</td>\n",
       "      <td>219942</td>\n",
       "      <td>216494</td>\n",
       "      <td>162315.0</td>\n",
       "      <td>40946.0</td>\n",
       "      <td>91.793960</td>\n",
       "      <td>90.354919</td>\n",
       "      <td>67.743026</td>\n",
       "      <td>17.089030</td>\n",
       "    </tr>\n",
       "    <tr>\n",
       "      <th>Västernorrlands län</th>\n",
       "      <td>1540</td>\n",
       "      <td>159320</td>\n",
       "      <td>214317</td>\n",
       "      <td>191008</td>\n",
       "      <td>187776</td>\n",
       "      <td>142147.0</td>\n",
       "      <td>38929.0</td>\n",
       "      <td>89.124055</td>\n",
       "      <td>87.616008</td>\n",
       "      <td>66.325583</td>\n",
       "      <td>18.164215</td>\n",
       "    </tr>\n",
       "    <tr>\n",
       "      <th>Västmanlands län</th>\n",
       "      <td>1900</td>\n",
       "      <td>196040</td>\n",
       "      <td>242630</td>\n",
       "      <td>208940</td>\n",
       "      <td>203848</td>\n",
       "      <td>148783.0</td>\n",
       "      <td>40547.0</td>\n",
       "      <td>86.114660</td>\n",
       "      <td>84.015991</td>\n",
       "      <td>61.320941</td>\n",
       "      <td>16.711454</td>\n",
       "    </tr>\n",
       "    <tr>\n",
       "      <th>Västra Götalands län</th>\n",
       "      <td>6860</td>\n",
       "      <td>716040</td>\n",
       "      <td>1519483</td>\n",
       "      <td>1299444</td>\n",
       "      <td>1266850</td>\n",
       "      <td>883528.0</td>\n",
       "      <td>214334.0</td>\n",
       "      <td>85.518824</td>\n",
       "      <td>83.373753</td>\n",
       "      <td>58.146620</td>\n",
       "      <td>14.105719</td>\n",
       "    </tr>\n",
       "    <tr>\n",
       "      <th>Örebro län</th>\n",
       "      <td>2160</td>\n",
       "      <td>224190</td>\n",
       "      <td>266544</td>\n",
       "      <td>233493</td>\n",
       "      <td>229870</td>\n",
       "      <td>171440.0</td>\n",
       "      <td>44305.0</td>\n",
       "      <td>87.600171</td>\n",
       "      <td>86.240921</td>\n",
       "      <td>64.319587</td>\n",
       "      <td>16.622021</td>\n",
       "    </tr>\n",
       "    <tr>\n",
       "      <th>Östergötlands län</th>\n",
       "      <td>650</td>\n",
       "      <td>72760</td>\n",
       "      <td>408633</td>\n",
       "      <td>360974</td>\n",
       "      <td>355898</td>\n",
       "      <td>269526.0</td>\n",
       "      <td>66358.0</td>\n",
       "      <td>88.336967</td>\n",
       "      <td>87.094777</td>\n",
       "      <td>65.957962</td>\n",
       "      <td>16.239021</td>\n",
       "    </tr>\n",
       "  </tbody>\n",
       "</table>\n",
       "</div>"
      ],
      "text/plain": [
       "                       Län  Kommun  Befolkning  Antal minst 1 dos  \\\n",
       "Län_namn                                                            \n",
       "Blekinge län           500   53860      139327             122498   \n",
       "Dalarnas län          3000  308210      252075             221409   \n",
       "Gotlands län            90    9800       53924              48776   \n",
       "Gävleborgs län        2100  215290      252216             220378   \n",
       "Hallands län           780   82250      295663             259131   \n",
       "Jämtlands län         1840  186180      115398             102225   \n",
       "Jönköpings län         780   86200      317355             274951   \n",
       "Kalmar län             960  103730      216763             190910   \n",
       "Kronobergs län         560   61410      175503             149136   \n",
       "Norrbottens län       3500  355800      220199             198469   \n",
       "Skåne län             3960  418840     1215047            1007893   \n",
       "Stockholms län         260   39870     2094721            1741560   \n",
       "Södermanlands län      360   42730      261596             227120   \n",
       "Uppsala län            240   27880      343478             307564   \n",
       "Värmlands län         2720  282180      248314             225287   \n",
       "Västerbottens län     3600  365480      239604             219942   \n",
       "Västernorrlands län   1540  159320      214317             191008   \n",
       "Västmanlands län      1900  196040      242630             208940   \n",
       "Västra Götalands län  6860  716040     1519483            1299444   \n",
       "Örebro län            2160  224190      266544             233493   \n",
       "Östergötlands län      650   72760      408633             360974   \n",
       "\n",
       "                      Antal minst 2 doser  Antal 3 doser  Antal 4 doser  \\\n",
       "Län_namn                                                                  \n",
       "Blekinge län                       120736        92316.0        25131.0   \n",
       "Dalarnas län                       217994       164370.0        49093.0   \n",
       "Gotlands län                        47925        37454.0        10900.0   \n",
       "Gävleborgs län                     215269       159715.0        45765.0   \n",
       "Hallands län                       255335       192065.0        50704.0   \n",
       "Jämtlands län                      100514        73356.0        20026.0   \n",
       "Jönköpings län                     270262       199548.0        51516.0   \n",
       "Kalmar län                         188515       147252.0        42503.0   \n",
       "Kronobergs län                     146491       103847.0        27808.0   \n",
       "Norrbottens län                    195881       149411.0        40524.0   \n",
       "Skåne län                          985531       685887.0       168292.0   \n",
       "Stockholms län                    1678530      1193900.0       237049.0   \n",
       "Södermanlands län                  221345       160546.0        45572.0   \n",
       "Uppsala län                        300836       225885.0        50928.0   \n",
       "Värmlands län                      222685       172027.0        48181.0   \n",
       "Västerbottens län                  216494       162315.0        40946.0   \n",
       "Västernorrlands län                187776       142147.0        38929.0   \n",
       "Västmanlands län                   203848       148783.0        40547.0   \n",
       "Västra Götalands län              1266850       883528.0       214334.0   \n",
       "Örebro län                         229870       171440.0        44305.0   \n",
       "Östergötlands län                  355898       269526.0        66358.0   \n",
       "\n",
       "                      Andel minst 1 dos  Andel minst 2 doser  Andel 3 doser  \\\n",
       "Län_namn                                                                      \n",
       "Blekinge län                  87.921221            86.656571      66.258514   \n",
       "Dalarnas län                  87.834573            86.479818      65.206784   \n",
       "Gotlands län                  90.453230            88.875083      69.457014   \n",
       "Gävleborgs län                87.376693            85.351048      63.324690   \n",
       "Hallands län                  87.644041            86.360147      64.960783   \n",
       "Jämtlands län                 88.584724            87.102029      63.567826   \n",
       "Jönköpings län                86.638307            85.160782      62.878480   \n",
       "Kalmar län                    88.073149            86.968256      67.932258   \n",
       "Kronobergs län                84.976325            83.469228      59.171068   \n",
       "Norrbottens län               90.131654            88.956353      67.852715   \n",
       "Skåne län                     82.950948            81.110525      56.449421   \n",
       "Stockholms län                83.140428            80.131435      56.995657   \n",
       "Södermanlands län             86.820899            84.613297      61.371734   \n",
       "Uppsala län                   89.544017            87.585231      65.764037   \n",
       "Värmlands län                 90.726661            89.678794      69.278011   \n",
       "Västerbottens län             91.793960            90.354919      67.743026   \n",
       "Västernorrlands län           89.124055            87.616008      66.325583   \n",
       "Västmanlands län              86.114660            84.015991      61.320941   \n",
       "Västra Götalands län          85.518824            83.373753      58.146620   \n",
       "Örebro län                    87.600171            86.240921      64.319587   \n",
       "Östergötlands län             88.336967            87.094777      65.957962   \n",
       "\n",
       "                      Andel 4 doser  \n",
       "Län_namn                             \n",
       "Blekinge län              18.037423  \n",
       "Dalarnas län              19.475553  \n",
       "Gotlands län              20.213634  \n",
       "Gävleborgs län            18.145161  \n",
       "Hallands län              17.149254  \n",
       "Jämtlands län             17.353854  \n",
       "Jönköpings län            16.232925  \n",
       "Kalmar län                19.608051  \n",
       "Kronobergs län            15.844743  \n",
       "Norrbottens län           18.403353  \n",
       "Skåne län                 13.850658  \n",
       "Stockholms län            11.316495  \n",
       "Södermanlands län         17.420756  \n",
       "Uppsala län               14.827151  \n",
       "Värmlands län             19.403256  \n",
       "Västerbottens län         17.089030  \n",
       "Västernorrlands län       18.164215  \n",
       "Västmanlands län          16.711454  \n",
       "Västra Götalands län      14.105719  \n",
       "Örebro län                16.622021  \n",
       "Östergötlands län         16.239021  "
      ]
     },
     "execution_count": 134,
     "metadata": {},
     "output_type": "execute_result"
    }
   ],
   "source": [
    "# groups data by \"Län\" and summarizes all columns (Note that \"Andel doser\" will be wrong since you cant summarize percentages)\n",
    "# made the choice to not reset_index() as it was easier to use this way\n",
    "data_by_county = df.groupby(\"Län_namn\").sum(numeric_only=True)\n",
    "# calculates dosage per county based on sum of dosages and total population. Times 100 to get it in percentage\n",
    "dose1 = data_by_county[\"Antal minst 1 dos\"] / data_by_county[\"Befolkning\"] * 100\n",
    "dose2 = data_by_county[\"Antal minst 2 doser\"] / data_by_county[\"Befolkning\"] * 100\n",
    "dose3 = data_by_county[\"Antal 3 doser\"] / data_by_county[\"Befolkning\"] * 100\n",
    "dose4 = data_by_county[\"Antal 4 doser\"] / data_by_county[\"Befolkning\"] * 100\n",
    "# replaces columns with wrong summarized data with the new calculated one\n",
    "data_by_county[\"Andel minst 1 dos\"] = dose1\n",
    "data_by_county[\"Andel minst 2 doser\"] = dose2\n",
    "data_by_county[\"Andel 3 doser\"] = dose3\n",
    "data_by_county[\"Andel 4 doser\"] = dose4\n",
    "data_by_county\n"
   ]
  },
  {
   "cell_type": "code",
   "execution_count": 139,
   "metadata": {},
   "outputs": [
    {
     "data": {
      "application/vnd.plotly.v1+json": {
       "config": {
        "plotlyServerURL": "https://plot.ly"
       },
       "data": [
        {
         "alignmentgroup": "True",
         "hovertemplate": "variable=Andel minst 1 dos<br>Län_namn=%{x}<br>Procent av befolkning=%{y}<extra></extra>",
         "legendgroup": "Andel minst 1 dos",
         "marker": {
          "color": "#636efa",
          "pattern": {
           "shape": ""
          }
         },
         "name": "Andel minst 1 dos",
         "offsetgroup": "Andel minst 1 dos",
         "orientation": "v",
         "showlegend": true,
         "textposition": "auto",
         "type": "bar",
         "x": [
          "Blekinge län",
          "Dalarnas län",
          "Gotlands län",
          "Gävleborgs län",
          "Hallands län",
          "Jämtlands län",
          "Jönköpings län",
          "Kalmar län",
          "Kronobergs län",
          "Norrbottens län",
          "Skåne län",
          "Stockholms län",
          "Södermanlands län",
          "Uppsala län",
          "Värmlands län",
          "Västerbottens län",
          "Västernorrlands län",
          "Västmanlands län",
          "Västra Götalands län",
          "Örebro län",
          "Östergötlands län"
         ],
         "xaxis": "x",
         "y": [
          87.92122129953276,
          87.83457304373698,
          90.45323047251688,
          87.37669299330733,
          87.64404068145151,
          88.58472417199604,
          86.63830725843299,
          88.07314901528397,
          84.97632519102237,
          90.13165364057058,
          82.9509475765135,
          83.14042777057183,
          86.82089940213153,
          89.54401737520307,
          90.7266605990802,
          91.79396003405618,
          89.12405455470169,
          86.11466018217038,
          85.51882449491043,
          87.60017107869619,
          88.33696740106647
         ],
         "yaxis": "y"
        },
        {
         "alignmentgroup": "True",
         "hovertemplate": "variable=Andel minst 2 doser<br>Län_namn=%{x}<br>Procent av befolkning=%{y}<extra></extra>",
         "legendgroup": "Andel minst 2 doser",
         "marker": {
          "color": "#EF553B",
          "pattern": {
           "shape": ""
          }
         },
         "name": "Andel minst 2 doser",
         "offsetgroup": "Andel minst 2 doser",
         "orientation": "v",
         "showlegend": true,
         "textposition": "auto",
         "type": "bar",
         "x": [
          "Blekinge län",
          "Dalarnas län",
          "Gotlands län",
          "Gävleborgs län",
          "Hallands län",
          "Jämtlands län",
          "Jönköpings län",
          "Kalmar län",
          "Kronobergs län",
          "Norrbottens län",
          "Skåne län",
          "Stockholms län",
          "Södermanlands län",
          "Uppsala län",
          "Värmlands län",
          "Västerbottens län",
          "Västernorrlands län",
          "Västmanlands län",
          "Västra Götalands län",
          "Örebro län",
          "Östergötlands län"
         ],
         "xaxis": "x",
         "y": [
          86.65657051397073,
          86.47981751462859,
          88.87508345078258,
          85.35104830779966,
          86.36014651816426,
          87.10202949791157,
          85.16078208945818,
          86.96825565248682,
          83.46922844623738,
          88.9563531169533,
          81.11052494265654,
          80.13143516487399,
          84.61329683940122,
          87.58523107739069,
          89.67879378528798,
          90.35491894960018,
          87.61600806282283,
          84.0159914272761,
          83.37375278301896,
          86.24092082357885,
          87.09477697591727
         ],
         "yaxis": "y"
        },
        {
         "alignmentgroup": "True",
         "hovertemplate": "variable=Andel 3 doser<br>Län_namn=%{x}<br>Procent av befolkning=%{y}<extra></extra>",
         "legendgroup": "Andel 3 doser",
         "marker": {
          "color": "#00cc96",
          "pattern": {
           "shape": ""
          }
         },
         "name": "Andel 3 doser",
         "offsetgroup": "Andel 3 doser",
         "orientation": "v",
         "showlegend": true,
         "textposition": "auto",
         "type": "bar",
         "x": [
          "Blekinge län",
          "Dalarnas län",
          "Gotlands län",
          "Gävleborgs län",
          "Hallands län",
          "Jämtlands län",
          "Jönköpings län",
          "Kalmar län",
          "Kronobergs län",
          "Norrbottens län",
          "Skåne län",
          "Stockholms län",
          "Södermanlands län",
          "Uppsala län",
          "Värmlands län",
          "Västerbottens län",
          "Västernorrlands län",
          "Västmanlands län",
          "Västra Götalands län",
          "Örebro län",
          "Östergötlands län"
         ],
         "xaxis": "x",
         "y": [
          66.25851414298735,
          65.20678369532877,
          69.45701357466064,
          63.324689948298285,
          64.96078305367936,
          63.56782613216867,
          62.87847993571868,
          67.93225781152688,
          59.17106830082677,
          67.85271504411918,
          56.44942129810616,
          56.995657178211324,
          61.37173351274484,
          65.76403728914224,
          69.278010905547,
          67.74302599288826,
          66.32558313152947,
          61.32094135102831,
          58.14661960680048,
          64.31958701002462,
          65.95796227911109
         ],
         "yaxis": "y"
        }
       ],
       "layout": {
        "barmode": "group",
        "legend": {
         "title": {
          "text": "variable"
         },
         "tracegroupgap": 0
        },
        "template": {
         "data": {
          "bar": [
           {
            "error_x": {
             "color": "#2a3f5f"
            },
            "error_y": {
             "color": "#2a3f5f"
            },
            "marker": {
             "line": {
              "color": "#E5ECF6",
              "width": 0.5
             },
             "pattern": {
              "fillmode": "overlay",
              "size": 10,
              "solidity": 0.2
             }
            },
            "type": "bar"
           }
          ],
          "barpolar": [
           {
            "marker": {
             "line": {
              "color": "#E5ECF6",
              "width": 0.5
             },
             "pattern": {
              "fillmode": "overlay",
              "size": 10,
              "solidity": 0.2
             }
            },
            "type": "barpolar"
           }
          ],
          "carpet": [
           {
            "aaxis": {
             "endlinecolor": "#2a3f5f",
             "gridcolor": "white",
             "linecolor": "white",
             "minorgridcolor": "white",
             "startlinecolor": "#2a3f5f"
            },
            "baxis": {
             "endlinecolor": "#2a3f5f",
             "gridcolor": "white",
             "linecolor": "white",
             "minorgridcolor": "white",
             "startlinecolor": "#2a3f5f"
            },
            "type": "carpet"
           }
          ],
          "choropleth": [
           {
            "colorbar": {
             "outlinewidth": 0,
             "ticks": ""
            },
            "type": "choropleth"
           }
          ],
          "contour": [
           {
            "colorbar": {
             "outlinewidth": 0,
             "ticks": ""
            },
            "colorscale": [
             [
              0,
              "#0d0887"
             ],
             [
              0.1111111111111111,
              "#46039f"
             ],
             [
              0.2222222222222222,
              "#7201a8"
             ],
             [
              0.3333333333333333,
              "#9c179e"
             ],
             [
              0.4444444444444444,
              "#bd3786"
             ],
             [
              0.5555555555555556,
              "#d8576b"
             ],
             [
              0.6666666666666666,
              "#ed7953"
             ],
             [
              0.7777777777777778,
              "#fb9f3a"
             ],
             [
              0.8888888888888888,
              "#fdca26"
             ],
             [
              1,
              "#f0f921"
             ]
            ],
            "type": "contour"
           }
          ],
          "contourcarpet": [
           {
            "colorbar": {
             "outlinewidth": 0,
             "ticks": ""
            },
            "type": "contourcarpet"
           }
          ],
          "heatmap": [
           {
            "colorbar": {
             "outlinewidth": 0,
             "ticks": ""
            },
            "colorscale": [
             [
              0,
              "#0d0887"
             ],
             [
              0.1111111111111111,
              "#46039f"
             ],
             [
              0.2222222222222222,
              "#7201a8"
             ],
             [
              0.3333333333333333,
              "#9c179e"
             ],
             [
              0.4444444444444444,
              "#bd3786"
             ],
             [
              0.5555555555555556,
              "#d8576b"
             ],
             [
              0.6666666666666666,
              "#ed7953"
             ],
             [
              0.7777777777777778,
              "#fb9f3a"
             ],
             [
              0.8888888888888888,
              "#fdca26"
             ],
             [
              1,
              "#f0f921"
             ]
            ],
            "type": "heatmap"
           }
          ],
          "heatmapgl": [
           {
            "colorbar": {
             "outlinewidth": 0,
             "ticks": ""
            },
            "colorscale": [
             [
              0,
              "#0d0887"
             ],
             [
              0.1111111111111111,
              "#46039f"
             ],
             [
              0.2222222222222222,
              "#7201a8"
             ],
             [
              0.3333333333333333,
              "#9c179e"
             ],
             [
              0.4444444444444444,
              "#bd3786"
             ],
             [
              0.5555555555555556,
              "#d8576b"
             ],
             [
              0.6666666666666666,
              "#ed7953"
             ],
             [
              0.7777777777777778,
              "#fb9f3a"
             ],
             [
              0.8888888888888888,
              "#fdca26"
             ],
             [
              1,
              "#f0f921"
             ]
            ],
            "type": "heatmapgl"
           }
          ],
          "histogram": [
           {
            "marker": {
             "pattern": {
              "fillmode": "overlay",
              "size": 10,
              "solidity": 0.2
             }
            },
            "type": "histogram"
           }
          ],
          "histogram2d": [
           {
            "colorbar": {
             "outlinewidth": 0,
             "ticks": ""
            },
            "colorscale": [
             [
              0,
              "#0d0887"
             ],
             [
              0.1111111111111111,
              "#46039f"
             ],
             [
              0.2222222222222222,
              "#7201a8"
             ],
             [
              0.3333333333333333,
              "#9c179e"
             ],
             [
              0.4444444444444444,
              "#bd3786"
             ],
             [
              0.5555555555555556,
              "#d8576b"
             ],
             [
              0.6666666666666666,
              "#ed7953"
             ],
             [
              0.7777777777777778,
              "#fb9f3a"
             ],
             [
              0.8888888888888888,
              "#fdca26"
             ],
             [
              1,
              "#f0f921"
             ]
            ],
            "type": "histogram2d"
           }
          ],
          "histogram2dcontour": [
           {
            "colorbar": {
             "outlinewidth": 0,
             "ticks": ""
            },
            "colorscale": [
             [
              0,
              "#0d0887"
             ],
             [
              0.1111111111111111,
              "#46039f"
             ],
             [
              0.2222222222222222,
              "#7201a8"
             ],
             [
              0.3333333333333333,
              "#9c179e"
             ],
             [
              0.4444444444444444,
              "#bd3786"
             ],
             [
              0.5555555555555556,
              "#d8576b"
             ],
             [
              0.6666666666666666,
              "#ed7953"
             ],
             [
              0.7777777777777778,
              "#fb9f3a"
             ],
             [
              0.8888888888888888,
              "#fdca26"
             ],
             [
              1,
              "#f0f921"
             ]
            ],
            "type": "histogram2dcontour"
           }
          ],
          "mesh3d": [
           {
            "colorbar": {
             "outlinewidth": 0,
             "ticks": ""
            },
            "type": "mesh3d"
           }
          ],
          "parcoords": [
           {
            "line": {
             "colorbar": {
              "outlinewidth": 0,
              "ticks": ""
             }
            },
            "type": "parcoords"
           }
          ],
          "pie": [
           {
            "automargin": true,
            "type": "pie"
           }
          ],
          "scatter": [
           {
            "fillpattern": {
             "fillmode": "overlay",
             "size": 10,
             "solidity": 0.2
            },
            "type": "scatter"
           }
          ],
          "scatter3d": [
           {
            "line": {
             "colorbar": {
              "outlinewidth": 0,
              "ticks": ""
             }
            },
            "marker": {
             "colorbar": {
              "outlinewidth": 0,
              "ticks": ""
             }
            },
            "type": "scatter3d"
           }
          ],
          "scattercarpet": [
           {
            "marker": {
             "colorbar": {
              "outlinewidth": 0,
              "ticks": ""
             }
            },
            "type": "scattercarpet"
           }
          ],
          "scattergeo": [
           {
            "marker": {
             "colorbar": {
              "outlinewidth": 0,
              "ticks": ""
             }
            },
            "type": "scattergeo"
           }
          ],
          "scattergl": [
           {
            "marker": {
             "colorbar": {
              "outlinewidth": 0,
              "ticks": ""
             }
            },
            "type": "scattergl"
           }
          ],
          "scattermapbox": [
           {
            "marker": {
             "colorbar": {
              "outlinewidth": 0,
              "ticks": ""
             }
            },
            "type": "scattermapbox"
           }
          ],
          "scatterpolar": [
           {
            "marker": {
             "colorbar": {
              "outlinewidth": 0,
              "ticks": ""
             }
            },
            "type": "scatterpolar"
           }
          ],
          "scatterpolargl": [
           {
            "marker": {
             "colorbar": {
              "outlinewidth": 0,
              "ticks": ""
             }
            },
            "type": "scatterpolargl"
           }
          ],
          "scatterternary": [
           {
            "marker": {
             "colorbar": {
              "outlinewidth": 0,
              "ticks": ""
             }
            },
            "type": "scatterternary"
           }
          ],
          "surface": [
           {
            "colorbar": {
             "outlinewidth": 0,
             "ticks": ""
            },
            "colorscale": [
             [
              0,
              "#0d0887"
             ],
             [
              0.1111111111111111,
              "#46039f"
             ],
             [
              0.2222222222222222,
              "#7201a8"
             ],
             [
              0.3333333333333333,
              "#9c179e"
             ],
             [
              0.4444444444444444,
              "#bd3786"
             ],
             [
              0.5555555555555556,
              "#d8576b"
             ],
             [
              0.6666666666666666,
              "#ed7953"
             ],
             [
              0.7777777777777778,
              "#fb9f3a"
             ],
             [
              0.8888888888888888,
              "#fdca26"
             ],
             [
              1,
              "#f0f921"
             ]
            ],
            "type": "surface"
           }
          ],
          "table": [
           {
            "cells": {
             "fill": {
              "color": "#EBF0F8"
             },
             "line": {
              "color": "white"
             }
            },
            "header": {
             "fill": {
              "color": "#C8D4E3"
             },
             "line": {
              "color": "white"
             }
            },
            "type": "table"
           }
          ]
         },
         "layout": {
          "annotationdefaults": {
           "arrowcolor": "#2a3f5f",
           "arrowhead": 0,
           "arrowwidth": 1
          },
          "autotypenumbers": "strict",
          "coloraxis": {
           "colorbar": {
            "outlinewidth": 0,
            "ticks": ""
           }
          },
          "colorscale": {
           "diverging": [
            [
             0,
             "#8e0152"
            ],
            [
             0.1,
             "#c51b7d"
            ],
            [
             0.2,
             "#de77ae"
            ],
            [
             0.3,
             "#f1b6da"
            ],
            [
             0.4,
             "#fde0ef"
            ],
            [
             0.5,
             "#f7f7f7"
            ],
            [
             0.6,
             "#e6f5d0"
            ],
            [
             0.7,
             "#b8e186"
            ],
            [
             0.8,
             "#7fbc41"
            ],
            [
             0.9,
             "#4d9221"
            ],
            [
             1,
             "#276419"
            ]
           ],
           "sequential": [
            [
             0,
             "#0d0887"
            ],
            [
             0.1111111111111111,
             "#46039f"
            ],
            [
             0.2222222222222222,
             "#7201a8"
            ],
            [
             0.3333333333333333,
             "#9c179e"
            ],
            [
             0.4444444444444444,
             "#bd3786"
            ],
            [
             0.5555555555555556,
             "#d8576b"
            ],
            [
             0.6666666666666666,
             "#ed7953"
            ],
            [
             0.7777777777777778,
             "#fb9f3a"
            ],
            [
             0.8888888888888888,
             "#fdca26"
            ],
            [
             1,
             "#f0f921"
            ]
           ],
           "sequentialminus": [
            [
             0,
             "#0d0887"
            ],
            [
             0.1111111111111111,
             "#46039f"
            ],
            [
             0.2222222222222222,
             "#7201a8"
            ],
            [
             0.3333333333333333,
             "#9c179e"
            ],
            [
             0.4444444444444444,
             "#bd3786"
            ],
            [
             0.5555555555555556,
             "#d8576b"
            ],
            [
             0.6666666666666666,
             "#ed7953"
            ],
            [
             0.7777777777777778,
             "#fb9f3a"
            ],
            [
             0.8888888888888888,
             "#fdca26"
            ],
            [
             1,
             "#f0f921"
            ]
           ]
          },
          "colorway": [
           "#636efa",
           "#EF553B",
           "#00cc96",
           "#ab63fa",
           "#FFA15A",
           "#19d3f3",
           "#FF6692",
           "#B6E880",
           "#FF97FF",
           "#FECB52"
          ],
          "font": {
           "color": "#2a3f5f"
          },
          "geo": {
           "bgcolor": "white",
           "lakecolor": "white",
           "landcolor": "#E5ECF6",
           "showlakes": true,
           "showland": true,
           "subunitcolor": "white"
          },
          "hoverlabel": {
           "align": "left"
          },
          "hovermode": "closest",
          "mapbox": {
           "style": "light"
          },
          "paper_bgcolor": "white",
          "plot_bgcolor": "#E5ECF6",
          "polar": {
           "angularaxis": {
            "gridcolor": "white",
            "linecolor": "white",
            "ticks": ""
           },
           "bgcolor": "#E5ECF6",
           "radialaxis": {
            "gridcolor": "white",
            "linecolor": "white",
            "ticks": ""
           }
          },
          "scene": {
           "xaxis": {
            "backgroundcolor": "#E5ECF6",
            "gridcolor": "white",
            "gridwidth": 2,
            "linecolor": "white",
            "showbackground": true,
            "ticks": "",
            "zerolinecolor": "white"
           },
           "yaxis": {
            "backgroundcolor": "#E5ECF6",
            "gridcolor": "white",
            "gridwidth": 2,
            "linecolor": "white",
            "showbackground": true,
            "ticks": "",
            "zerolinecolor": "white"
           },
           "zaxis": {
            "backgroundcolor": "#E5ECF6",
            "gridcolor": "white",
            "gridwidth": 2,
            "linecolor": "white",
            "showbackground": true,
            "ticks": "",
            "zerolinecolor": "white"
           }
          },
          "shapedefaults": {
           "line": {
            "color": "#2a3f5f"
           }
          },
          "ternary": {
           "aaxis": {
            "gridcolor": "white",
            "linecolor": "white",
            "ticks": ""
           },
           "baxis": {
            "gridcolor": "white",
            "linecolor": "white",
            "ticks": ""
           },
           "bgcolor": "#E5ECF6",
           "caxis": {
            "gridcolor": "white",
            "linecolor": "white",
            "ticks": ""
           }
          },
          "title": {
           "x": 0.05
          },
          "xaxis": {
           "automargin": true,
           "gridcolor": "white",
           "linecolor": "white",
           "ticks": "",
           "title": {
            "standoff": 15
           },
           "zerolinecolor": "white",
           "zerolinewidth": 2
          },
          "yaxis": {
           "automargin": true,
           "gridcolor": "white",
           "linecolor": "white",
           "ticks": "",
           "title": {
            "standoff": 15
           },
           "zerolinecolor": "white",
           "zerolinewidth": 2
          }
         }
        },
        "title": {
         "text": "Vaccin doseringar i % per län"
        },
        "xaxis": {
         "anchor": "y",
         "domain": [
          0,
          1
         ],
         "title": {
          "text": "Län_namn"
         }
        },
        "yaxis": {
         "anchor": "x",
         "domain": [
          0,
          1
         ],
         "range": [
          0,
          100
         ],
         "title": {
          "text": "Procent av befolkning"
         }
        }
       }
      }
     },
     "metadata": {},
     "output_type": "display_data"
    }
   ],
   "source": [
    "# graph showing percentages of dosages in different countys\n",
    "fig = px.bar(\n",
    "    data_by_county,\n",
    "    y=[\"Andel minst 1 dos\", \"Andel minst 2 doser\", \"Andel 3 doser\"],\n",
    "    barmode=\"group\",\n",
    "    title=\"Vaccin doseringar i % per län\",\n",
    "    labels={\"value\":\"Procent av befolkning\"}\n",
    ")\n",
    "fig.update_layout(yaxis_range=[0,100])\n",
    "fig.show()\n",
    "fig.write_html(\"Visualiseringar/Vaccin_dosering_per_län.html\")\n"
   ]
  },
  {
   "cell_type": "code",
   "execution_count": 141,
   "metadata": {},
   "outputs": [
    {
     "data": {
      "application/vnd.plotly.v1+json": {
       "config": {
        "plotlyServerURL": "https://plot.ly"
       },
       "data": [
        {
         "alignmentgroup": "True",
         "hovertemplate": "variable=Andel minst 1 dos<br>Län=%{x}<br>Procent av befolkning=%{y}<extra></extra>",
         "legendgroup": "Andel minst 1 dos",
         "marker": {
          "color": "#636efa",
          "pattern": {
           "shape": ""
          }
         },
         "name": "Andel minst 1 dos",
         "offsetgroup": "Andel minst 1 dos",
         "orientation": "v",
         "showlegend": true,
         "textposition": "auto",
         "type": "bar",
         "x": [
          "Stockholms län",
          "Västra Götalands län"
         ],
         "xaxis": "x",
         "y": [
          83.14042777057183,
          85.51882449491043
         ],
         "yaxis": "y"
        },
        {
         "alignmentgroup": "True",
         "hovertemplate": "variable=Andel minst 2 doser<br>Län=%{x}<br>Procent av befolkning=%{y}<extra></extra>",
         "legendgroup": "Andel minst 2 doser",
         "marker": {
          "color": "#EF553B",
          "pattern": {
           "shape": ""
          }
         },
         "name": "Andel minst 2 doser",
         "offsetgroup": "Andel minst 2 doser",
         "orientation": "v",
         "showlegend": true,
         "textposition": "auto",
         "type": "bar",
         "x": [
          "Stockholms län",
          "Västra Götalands län"
         ],
         "xaxis": "x",
         "y": [
          80.13143516487399,
          83.37375278301896
         ],
         "yaxis": "y"
        },
        {
         "alignmentgroup": "True",
         "hovertemplate": "variable=Andel 3 doser<br>Län=%{x}<br>Procent av befolkning=%{y}<extra></extra>",
         "legendgroup": "Andel 3 doser",
         "marker": {
          "color": "#00cc96",
          "pattern": {
           "shape": ""
          }
         },
         "name": "Andel 3 doser",
         "offsetgroup": "Andel 3 doser",
         "orientation": "v",
         "showlegend": true,
         "textposition": "auto",
         "type": "bar",
         "x": [
          "Stockholms län",
          "Västra Götalands län"
         ],
         "xaxis": "x",
         "y": [
          56.995657178211324,
          58.14661960680048
         ],
         "yaxis": "y"
        },
        {
         "alignmentgroup": "True",
         "hovertemplate": "variable=Andel 4 doser<br>Län=%{x}<br>Procent av befolkning=%{y}<extra></extra>",
         "legendgroup": "Andel 4 doser",
         "marker": {
          "color": "#ab63fa",
          "pattern": {
           "shape": ""
          }
         },
         "name": "Andel 4 doser",
         "offsetgroup": "Andel 4 doser",
         "orientation": "v",
         "showlegend": true,
         "textposition": "auto",
         "type": "bar",
         "x": [
          "Stockholms län",
          "Västra Götalands län"
         ],
         "xaxis": "x",
         "y": [
          11.316495132287308,
          14.105718853057256
         ],
         "yaxis": "y"
        }
       ],
       "layout": {
        "barmode": "group",
        "legend": {
         "title": {
          "text": "variable"
         },
         "tracegroupgap": 0
        },
        "template": {
         "data": {
          "bar": [
           {
            "error_x": {
             "color": "#2a3f5f"
            },
            "error_y": {
             "color": "#2a3f5f"
            },
            "marker": {
             "line": {
              "color": "#E5ECF6",
              "width": 0.5
             },
             "pattern": {
              "fillmode": "overlay",
              "size": 10,
              "solidity": 0.2
             }
            },
            "type": "bar"
           }
          ],
          "barpolar": [
           {
            "marker": {
             "line": {
              "color": "#E5ECF6",
              "width": 0.5
             },
             "pattern": {
              "fillmode": "overlay",
              "size": 10,
              "solidity": 0.2
             }
            },
            "type": "barpolar"
           }
          ],
          "carpet": [
           {
            "aaxis": {
             "endlinecolor": "#2a3f5f",
             "gridcolor": "white",
             "linecolor": "white",
             "minorgridcolor": "white",
             "startlinecolor": "#2a3f5f"
            },
            "baxis": {
             "endlinecolor": "#2a3f5f",
             "gridcolor": "white",
             "linecolor": "white",
             "minorgridcolor": "white",
             "startlinecolor": "#2a3f5f"
            },
            "type": "carpet"
           }
          ],
          "choropleth": [
           {
            "colorbar": {
             "outlinewidth": 0,
             "ticks": ""
            },
            "type": "choropleth"
           }
          ],
          "contour": [
           {
            "colorbar": {
             "outlinewidth": 0,
             "ticks": ""
            },
            "colorscale": [
             [
              0,
              "#0d0887"
             ],
             [
              0.1111111111111111,
              "#46039f"
             ],
             [
              0.2222222222222222,
              "#7201a8"
             ],
             [
              0.3333333333333333,
              "#9c179e"
             ],
             [
              0.4444444444444444,
              "#bd3786"
             ],
             [
              0.5555555555555556,
              "#d8576b"
             ],
             [
              0.6666666666666666,
              "#ed7953"
             ],
             [
              0.7777777777777778,
              "#fb9f3a"
             ],
             [
              0.8888888888888888,
              "#fdca26"
             ],
             [
              1,
              "#f0f921"
             ]
            ],
            "type": "contour"
           }
          ],
          "contourcarpet": [
           {
            "colorbar": {
             "outlinewidth": 0,
             "ticks": ""
            },
            "type": "contourcarpet"
           }
          ],
          "heatmap": [
           {
            "colorbar": {
             "outlinewidth": 0,
             "ticks": ""
            },
            "colorscale": [
             [
              0,
              "#0d0887"
             ],
             [
              0.1111111111111111,
              "#46039f"
             ],
             [
              0.2222222222222222,
              "#7201a8"
             ],
             [
              0.3333333333333333,
              "#9c179e"
             ],
             [
              0.4444444444444444,
              "#bd3786"
             ],
             [
              0.5555555555555556,
              "#d8576b"
             ],
             [
              0.6666666666666666,
              "#ed7953"
             ],
             [
              0.7777777777777778,
              "#fb9f3a"
             ],
             [
              0.8888888888888888,
              "#fdca26"
             ],
             [
              1,
              "#f0f921"
             ]
            ],
            "type": "heatmap"
           }
          ],
          "heatmapgl": [
           {
            "colorbar": {
             "outlinewidth": 0,
             "ticks": ""
            },
            "colorscale": [
             [
              0,
              "#0d0887"
             ],
             [
              0.1111111111111111,
              "#46039f"
             ],
             [
              0.2222222222222222,
              "#7201a8"
             ],
             [
              0.3333333333333333,
              "#9c179e"
             ],
             [
              0.4444444444444444,
              "#bd3786"
             ],
             [
              0.5555555555555556,
              "#d8576b"
             ],
             [
              0.6666666666666666,
              "#ed7953"
             ],
             [
              0.7777777777777778,
              "#fb9f3a"
             ],
             [
              0.8888888888888888,
              "#fdca26"
             ],
             [
              1,
              "#f0f921"
             ]
            ],
            "type": "heatmapgl"
           }
          ],
          "histogram": [
           {
            "marker": {
             "pattern": {
              "fillmode": "overlay",
              "size": 10,
              "solidity": 0.2
             }
            },
            "type": "histogram"
           }
          ],
          "histogram2d": [
           {
            "colorbar": {
             "outlinewidth": 0,
             "ticks": ""
            },
            "colorscale": [
             [
              0,
              "#0d0887"
             ],
             [
              0.1111111111111111,
              "#46039f"
             ],
             [
              0.2222222222222222,
              "#7201a8"
             ],
             [
              0.3333333333333333,
              "#9c179e"
             ],
             [
              0.4444444444444444,
              "#bd3786"
             ],
             [
              0.5555555555555556,
              "#d8576b"
             ],
             [
              0.6666666666666666,
              "#ed7953"
             ],
             [
              0.7777777777777778,
              "#fb9f3a"
             ],
             [
              0.8888888888888888,
              "#fdca26"
             ],
             [
              1,
              "#f0f921"
             ]
            ],
            "type": "histogram2d"
           }
          ],
          "histogram2dcontour": [
           {
            "colorbar": {
             "outlinewidth": 0,
             "ticks": ""
            },
            "colorscale": [
             [
              0,
              "#0d0887"
             ],
             [
              0.1111111111111111,
              "#46039f"
             ],
             [
              0.2222222222222222,
              "#7201a8"
             ],
             [
              0.3333333333333333,
              "#9c179e"
             ],
             [
              0.4444444444444444,
              "#bd3786"
             ],
             [
              0.5555555555555556,
              "#d8576b"
             ],
             [
              0.6666666666666666,
              "#ed7953"
             ],
             [
              0.7777777777777778,
              "#fb9f3a"
             ],
             [
              0.8888888888888888,
              "#fdca26"
             ],
             [
              1,
              "#f0f921"
             ]
            ],
            "type": "histogram2dcontour"
           }
          ],
          "mesh3d": [
           {
            "colorbar": {
             "outlinewidth": 0,
             "ticks": ""
            },
            "type": "mesh3d"
           }
          ],
          "parcoords": [
           {
            "line": {
             "colorbar": {
              "outlinewidth": 0,
              "ticks": ""
             }
            },
            "type": "parcoords"
           }
          ],
          "pie": [
           {
            "automargin": true,
            "type": "pie"
           }
          ],
          "scatter": [
           {
            "fillpattern": {
             "fillmode": "overlay",
             "size": 10,
             "solidity": 0.2
            },
            "type": "scatter"
           }
          ],
          "scatter3d": [
           {
            "line": {
             "colorbar": {
              "outlinewidth": 0,
              "ticks": ""
             }
            },
            "marker": {
             "colorbar": {
              "outlinewidth": 0,
              "ticks": ""
             }
            },
            "type": "scatter3d"
           }
          ],
          "scattercarpet": [
           {
            "marker": {
             "colorbar": {
              "outlinewidth": 0,
              "ticks": ""
             }
            },
            "type": "scattercarpet"
           }
          ],
          "scattergeo": [
           {
            "marker": {
             "colorbar": {
              "outlinewidth": 0,
              "ticks": ""
             }
            },
            "type": "scattergeo"
           }
          ],
          "scattergl": [
           {
            "marker": {
             "colorbar": {
              "outlinewidth": 0,
              "ticks": ""
             }
            },
            "type": "scattergl"
           }
          ],
          "scattermapbox": [
           {
            "marker": {
             "colorbar": {
              "outlinewidth": 0,
              "ticks": ""
             }
            },
            "type": "scattermapbox"
           }
          ],
          "scatterpolar": [
           {
            "marker": {
             "colorbar": {
              "outlinewidth": 0,
              "ticks": ""
             }
            },
            "type": "scatterpolar"
           }
          ],
          "scatterpolargl": [
           {
            "marker": {
             "colorbar": {
              "outlinewidth": 0,
              "ticks": ""
             }
            },
            "type": "scatterpolargl"
           }
          ],
          "scatterternary": [
           {
            "marker": {
             "colorbar": {
              "outlinewidth": 0,
              "ticks": ""
             }
            },
            "type": "scatterternary"
           }
          ],
          "surface": [
           {
            "colorbar": {
             "outlinewidth": 0,
             "ticks": ""
            },
            "colorscale": [
             [
              0,
              "#0d0887"
             ],
             [
              0.1111111111111111,
              "#46039f"
             ],
             [
              0.2222222222222222,
              "#7201a8"
             ],
             [
              0.3333333333333333,
              "#9c179e"
             ],
             [
              0.4444444444444444,
              "#bd3786"
             ],
             [
              0.5555555555555556,
              "#d8576b"
             ],
             [
              0.6666666666666666,
              "#ed7953"
             ],
             [
              0.7777777777777778,
              "#fb9f3a"
             ],
             [
              0.8888888888888888,
              "#fdca26"
             ],
             [
              1,
              "#f0f921"
             ]
            ],
            "type": "surface"
           }
          ],
          "table": [
           {
            "cells": {
             "fill": {
              "color": "#EBF0F8"
             },
             "line": {
              "color": "white"
             }
            },
            "header": {
             "fill": {
              "color": "#C8D4E3"
             },
             "line": {
              "color": "white"
             }
            },
            "type": "table"
           }
          ]
         },
         "layout": {
          "annotationdefaults": {
           "arrowcolor": "#2a3f5f",
           "arrowhead": 0,
           "arrowwidth": 1
          },
          "autotypenumbers": "strict",
          "coloraxis": {
           "colorbar": {
            "outlinewidth": 0,
            "ticks": ""
           }
          },
          "colorscale": {
           "diverging": [
            [
             0,
             "#8e0152"
            ],
            [
             0.1,
             "#c51b7d"
            ],
            [
             0.2,
             "#de77ae"
            ],
            [
             0.3,
             "#f1b6da"
            ],
            [
             0.4,
             "#fde0ef"
            ],
            [
             0.5,
             "#f7f7f7"
            ],
            [
             0.6,
             "#e6f5d0"
            ],
            [
             0.7,
             "#b8e186"
            ],
            [
             0.8,
             "#7fbc41"
            ],
            [
             0.9,
             "#4d9221"
            ],
            [
             1,
             "#276419"
            ]
           ],
           "sequential": [
            [
             0,
             "#0d0887"
            ],
            [
             0.1111111111111111,
             "#46039f"
            ],
            [
             0.2222222222222222,
             "#7201a8"
            ],
            [
             0.3333333333333333,
             "#9c179e"
            ],
            [
             0.4444444444444444,
             "#bd3786"
            ],
            [
             0.5555555555555556,
             "#d8576b"
            ],
            [
             0.6666666666666666,
             "#ed7953"
            ],
            [
             0.7777777777777778,
             "#fb9f3a"
            ],
            [
             0.8888888888888888,
             "#fdca26"
            ],
            [
             1,
             "#f0f921"
            ]
           ],
           "sequentialminus": [
            [
             0,
             "#0d0887"
            ],
            [
             0.1111111111111111,
             "#46039f"
            ],
            [
             0.2222222222222222,
             "#7201a8"
            ],
            [
             0.3333333333333333,
             "#9c179e"
            ],
            [
             0.4444444444444444,
             "#bd3786"
            ],
            [
             0.5555555555555556,
             "#d8576b"
            ],
            [
             0.6666666666666666,
             "#ed7953"
            ],
            [
             0.7777777777777778,
             "#fb9f3a"
            ],
            [
             0.8888888888888888,
             "#fdca26"
            ],
            [
             1,
             "#f0f921"
            ]
           ]
          },
          "colorway": [
           "#636efa",
           "#EF553B",
           "#00cc96",
           "#ab63fa",
           "#FFA15A",
           "#19d3f3",
           "#FF6692",
           "#B6E880",
           "#FF97FF",
           "#FECB52"
          ],
          "font": {
           "color": "#2a3f5f"
          },
          "geo": {
           "bgcolor": "white",
           "lakecolor": "white",
           "landcolor": "#E5ECF6",
           "showlakes": true,
           "showland": true,
           "subunitcolor": "white"
          },
          "hoverlabel": {
           "align": "left"
          },
          "hovermode": "closest",
          "mapbox": {
           "style": "light"
          },
          "paper_bgcolor": "white",
          "plot_bgcolor": "#E5ECF6",
          "polar": {
           "angularaxis": {
            "gridcolor": "white",
            "linecolor": "white",
            "ticks": ""
           },
           "bgcolor": "#E5ECF6",
           "radialaxis": {
            "gridcolor": "white",
            "linecolor": "white",
            "ticks": ""
           }
          },
          "scene": {
           "xaxis": {
            "backgroundcolor": "#E5ECF6",
            "gridcolor": "white",
            "gridwidth": 2,
            "linecolor": "white",
            "showbackground": true,
            "ticks": "",
            "zerolinecolor": "white"
           },
           "yaxis": {
            "backgroundcolor": "#E5ECF6",
            "gridcolor": "white",
            "gridwidth": 2,
            "linecolor": "white",
            "showbackground": true,
            "ticks": "",
            "zerolinecolor": "white"
           },
           "zaxis": {
            "backgroundcolor": "#E5ECF6",
            "gridcolor": "white",
            "gridwidth": 2,
            "linecolor": "white",
            "showbackground": true,
            "ticks": "",
            "zerolinecolor": "white"
           }
          },
          "shapedefaults": {
           "line": {
            "color": "#2a3f5f"
           }
          },
          "ternary": {
           "aaxis": {
            "gridcolor": "white",
            "linecolor": "white",
            "ticks": ""
           },
           "baxis": {
            "gridcolor": "white",
            "linecolor": "white",
            "ticks": ""
           },
           "bgcolor": "#E5ECF6",
           "caxis": {
            "gridcolor": "white",
            "linecolor": "white",
            "ticks": ""
           }
          },
          "title": {
           "x": 0.05
          },
          "xaxis": {
           "automargin": true,
           "gridcolor": "white",
           "linecolor": "white",
           "ticks": "",
           "title": {
            "standoff": 15
           },
           "zerolinecolor": "white",
           "zerolinewidth": 2
          },
          "yaxis": {
           "automargin": true,
           "gridcolor": "white",
           "linecolor": "white",
           "ticks": "",
           "title": {
            "standoff": 15
           },
           "zerolinecolor": "white",
           "zerolinewidth": 2
          }
         }
        },
        "title": {
         "text": "Vaccin doseringar i%, Stockholm & Västra Götaland"
        },
        "xaxis": {
         "anchor": "y",
         "domain": [
          0,
          1
         ],
         "title": {
          "text": "Län"
         }
        },
        "yaxis": {
         "anchor": "x",
         "domain": [
          0,
          1
         ],
         "range": [
          0,
          100
         ],
         "title": {
          "text": "Procent av befolkning"
         }
        }
       }
      }
     },
     "metadata": {},
     "output_type": "display_data"
    }
   ],
   "source": [
    "fig = px.bar(\n",
    "    data_by_county.loc[[\"Stockholms län\", \"Västra Götalands län\"]],\n",
    "    y=[\"Andel minst 1 dos\", \"Andel minst 2 doser\", \"Andel 3 doser\", \"Andel 4 doser\"],\n",
    "    barmode=\"group\",\n",
    "    title=\"Vaccin doseringar i%, Stockholm & Västra Götaland\",\n",
    "    labels={\"value\":\"Procent av befolkning\", \"Län_namn\":\"Län\"}\n",
    ")\n",
    "fig.update_layout(yaxis_range=[0,100])\n",
    "fig.show()\n",
    "fig.write_html(\"Visualiseringar/Vaccin_dosering_Stockholm_Västra_Götaland.html\")"
   ]
  },
  {
   "cell_type": "code",
   "execution_count": null,
   "metadata": {},
   "outputs": [],
   "source": []
  }
 ],
 "metadata": {
  "kernelspec": {
   "display_name": "Python 3.9.13 ('Databehandling-Rasmus-Johansson-WFlJ2LV8')",
   "language": "python",
   "name": "python3"
  },
  "language_info": {
   "codemirror_mode": {
    "name": "ipython",
    "version": 3
   },
   "file_extension": ".py",
   "mimetype": "text/x-python",
   "name": "python",
   "nbconvert_exporter": "python",
   "pygments_lexer": "ipython3",
   "version": "3.9.13"
  },
  "orig_nbformat": 4,
  "vscode": {
   "interpreter": {
    "hash": "565a4fb94d27978a249d0ec763122eb60501a54d6fc07465494bdbc40fd8eb13"
   }
  }
 },
 "nbformat": 4,
 "nbformat_minor": 2
}
