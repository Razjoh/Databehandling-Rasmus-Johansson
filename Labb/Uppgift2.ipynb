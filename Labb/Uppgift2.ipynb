{
 "cells": [
  {
   "cell_type": "markdown",
   "metadata": {},
   "source": [
    "# Uppgift 2 - uppvärmning vaccindata"
   ]
  },
  {
   "cell_type": "code",
   "execution_count": 3,
   "metadata": {},
   "outputs": [
    {
     "data": {
      "text/html": [
       "<div>\n",
       "<style scoped>\n",
       "    .dataframe tbody tr th:only-of-type {\n",
       "        vertical-align: middle;\n",
       "    }\n",
       "\n",
       "    .dataframe tbody tr th {\n",
       "        vertical-align: top;\n",
       "    }\n",
       "\n",
       "    .dataframe thead th {\n",
       "        text-align: right;\n",
       "    }\n",
       "</style>\n",
       "<table border=\"1\" class=\"dataframe\">\n",
       "  <thead>\n",
       "    <tr style=\"text-align: right;\">\n",
       "      <th></th>\n",
       "      <th>Län</th>\n",
       "      <th>Län_namn</th>\n",
       "      <th>Kommun</th>\n",
       "      <th>Kommun_namn</th>\n",
       "      <th>Ålder</th>\n",
       "      <th>Befolkning</th>\n",
       "      <th>Antal minst 1 dos</th>\n",
       "      <th>Antal minst 2 doser</th>\n",
       "      <th>Antal 3 doser</th>\n",
       "      <th>Antal 4 doser</th>\n",
       "      <th>Andel minst 1 dos</th>\n",
       "      <th>Andel minst 2 doser</th>\n",
       "      <th>Andel 3 doser</th>\n",
       "      <th>Andel 4 doser</th>\n",
       "    </tr>\n",
       "  </thead>\n",
       "  <tbody>\n",
       "    <tr>\n",
       "      <th>0</th>\n",
       "      <td>1</td>\n",
       "      <td>Stockholms län</td>\n",
       "      <td>114</td>\n",
       "      <td>Upplands Väsby</td>\n",
       "      <td>12-15</td>\n",
       "      <td>2422</td>\n",
       "      <td>1206</td>\n",
       "      <td>1046</td>\n",
       "      <td>NaN</td>\n",
       "      <td>NaN</td>\n",
       "      <td>0.497936</td>\n",
       "      <td>0.431874</td>\n",
       "      <td>NaN</td>\n",
       "      <td>NaN</td>\n",
       "    </tr>\n",
       "    <tr>\n",
       "      <th>1</th>\n",
       "      <td>1</td>\n",
       "      <td>Stockholms län</td>\n",
       "      <td>114</td>\n",
       "      <td>Upplands Väsby</td>\n",
       "      <td>16-17</td>\n",
       "      <td>1203</td>\n",
       "      <td>836</td>\n",
       "      <td>753</td>\n",
       "      <td>NaN</td>\n",
       "      <td>NaN</td>\n",
       "      <td>0.694929</td>\n",
       "      <td>0.625935</td>\n",
       "      <td>NaN</td>\n",
       "      <td>NaN</td>\n",
       "    </tr>\n",
       "    <tr>\n",
       "      <th>2</th>\n",
       "      <td>1</td>\n",
       "      <td>Stockholms län</td>\n",
       "      <td>114</td>\n",
       "      <td>Upplands Väsby</td>\n",
       "      <td>18-29</td>\n",
       "      <td>6692</td>\n",
       "      <td>4883</td>\n",
       "      <td>4464</td>\n",
       "      <td>1957.0</td>\n",
       "      <td>NaN</td>\n",
       "      <td>0.729677</td>\n",
       "      <td>0.667065</td>\n",
       "      <td>0.292439</td>\n",
       "      <td>NaN</td>\n",
       "    </tr>\n",
       "    <tr>\n",
       "      <th>3</th>\n",
       "      <td>1</td>\n",
       "      <td>Stockholms län</td>\n",
       "      <td>114</td>\n",
       "      <td>Upplands Väsby</td>\n",
       "      <td>30-39</td>\n",
       "      <td>7332</td>\n",
       "      <td>5550</td>\n",
       "      <td>5249</td>\n",
       "      <td>2881.0</td>\n",
       "      <td>NaN</td>\n",
       "      <td>0.756956</td>\n",
       "      <td>0.715903</td>\n",
       "      <td>0.392935</td>\n",
       "      <td>NaN</td>\n",
       "    </tr>\n",
       "    <tr>\n",
       "      <th>4</th>\n",
       "      <td>1</td>\n",
       "      <td>Stockholms län</td>\n",
       "      <td>114</td>\n",
       "      <td>Upplands Väsby</td>\n",
       "      <td>40-49</td>\n",
       "      <td>6946</td>\n",
       "      <td>5587</td>\n",
       "      <td>5425</td>\n",
       "      <td>3720.0</td>\n",
       "      <td>NaN</td>\n",
       "      <td>0.804348</td>\n",
       "      <td>0.781025</td>\n",
       "      <td>0.535560</td>\n",
       "      <td>NaN</td>\n",
       "    </tr>\n",
       "  </tbody>\n",
       "</table>\n",
       "</div>"
      ],
      "text/plain": [
       "   Län        Län_namn  Kommun     Kommun_namn  Ålder  Befolkning  \\\n",
       "0    1  Stockholms län     114  Upplands Väsby  12-15        2422   \n",
       "1    1  Stockholms län     114  Upplands Väsby  16-17        1203   \n",
       "2    1  Stockholms län     114  Upplands Väsby  18-29        6692   \n",
       "3    1  Stockholms län     114  Upplands Väsby  30-39        7332   \n",
       "4    1  Stockholms län     114  Upplands Väsby  40-49        6946   \n",
       "\n",
       "   Antal minst 1 dos  Antal minst 2 doser  Antal 3 doser  Antal 4 doser  \\\n",
       "0               1206                 1046            NaN            NaN   \n",
       "1                836                  753            NaN            NaN   \n",
       "2               4883                 4464         1957.0            NaN   \n",
       "3               5550                 5249         2881.0            NaN   \n",
       "4               5587                 5425         3720.0            NaN   \n",
       "\n",
       "   Andel minst 1 dos  Andel minst 2 doser  Andel 3 doser  Andel 4 doser  \n",
       "0           0.497936             0.431874            NaN            NaN  \n",
       "1           0.694929             0.625935            NaN            NaN  \n",
       "2           0.729677             0.667065       0.292439            NaN  \n",
       "3           0.756956             0.715903       0.392935            NaN  \n",
       "4           0.804348             0.781025       0.535560            NaN  "
      ]
     },
     "execution_count": 3,
     "metadata": {},
     "output_type": "execute_result"
    }
   ],
   "source": [
    "import pandas as pd\n",
    "import matplotlib.pyplot as plt\n",
    "import numpy as np\n",
    "import plotly.express as px\n",
    "\n",
    "\n",
    "df = pd.read_excel(\"Folkhalsomyndigheten_Covid19_Vaccine.xlsx\", sheet_name= \"Vaccinerade kommun och ålder\")\n",
    "df.head()"
   ]
  },
  {
   "cell_type": "code",
   "execution_count": 11,
   "metadata": {},
   "outputs": [
    {
     "name": "stdout",
     "output_type": "stream",
     "text": [
      "<class 'pandas.core.frame.DataFrame'>\n",
      "RangeIndex: 2900 entries, 0 to 2899\n",
      "Data columns (total 14 columns):\n",
      " #   Column               Non-Null Count  Dtype  \n",
      "---  ------               --------------  -----  \n",
      " 0   Län                  2900 non-null   int64  \n",
      " 1   Län_namn             2900 non-null   object \n",
      " 2   Kommun               2900 non-null   int64  \n",
      " 3   Kommun_namn          2900 non-null   object \n",
      " 4   Ålder                2900 non-null   object \n",
      " 5   Befolkning           2900 non-null   int64  \n",
      " 6   Antal minst 1 dos    2900 non-null   int64  \n",
      " 7   Antal minst 2 doser  2900 non-null   int64  \n",
      " 8   Antal 3 doser        2320 non-null   float64\n",
      " 9   Antal 4 doser        870 non-null    float64\n",
      " 10  Andel minst 1 dos    2900 non-null   float64\n",
      " 11  Andel minst 2 doser  2900 non-null   float64\n",
      " 12  Andel 3 doser        2320 non-null   float64\n",
      " 13  Andel 4 doser        870 non-null    float64\n",
      "dtypes: float64(6), int64(5), object(3)\n",
      "memory usage: 317.3+ KB\n"
     ]
    }
   ],
   "source": [
    "# explored the data set with info, describe, index, etc\n",
    "df.info()"
   ]
  },
  {
   "cell_type": "code",
   "execution_count": 27,
   "metadata": {},
   "outputs": [
    {
     "name": "stdout",
     "output_type": "stream",
     "text": [
      "countys in data: ['Stockholms län' 'Uppsala län' 'Södermanlands län' 'Östergötlands län'\n",
      " 'Jönköpings län' 'Kronobergs län' 'Kalmar län' 'Gotlands län'\n",
      " 'Blekinge län' 'Skåne län' 'Hallands län' 'Västra Götalands län'\n",
      " 'Värmlands län' 'Örebro län' 'Västmanlands län' 'Dalarnas län'\n",
      " 'Gävleborgs län' 'Västernorrlands län' 'Jämtlands län'\n",
      " 'Västerbottens län' 'Norrbottens län'] \n",
      "Total: 21\n"
     ]
    }
   ],
   "source": [
    "county_name = df[\"Län_namn\"].unique()\n",
    "print(f\"countys in data: {county_name} \\nTotal: {len(county_name)}\")"
   ]
  },
  {
   "cell_type": "code",
   "execution_count": 28,
   "metadata": {},
   "outputs": [
    {
     "name": "stdout",
     "output_type": "stream",
     "text": [
      "countys in data: ['Upplands Väsby' 'Vallentuna' 'Österåker' 'Värmdö' 'Järfälla' 'Ekerö'\n",
      " 'Huddinge' 'Botkyrka' 'Salem' 'Haninge' 'Tyresö' 'Upplands-Bro' 'Nykvarn'\n",
      " 'Täby' 'Danderyd' 'Sollentuna' 'Stockholm' 'Södertälje' 'Nacka'\n",
      " 'Sundbyberg' 'Solna' 'Lidingö' 'Vaxholm' 'Norrtälje' 'Sigtuna'\n",
      " 'Nynäshamn' 'Håbo' 'Älvkarleby' 'Knivsta' 'Heby' 'Tierp' 'Uppsala'\n",
      " 'Enköping' 'Östhammar' 'Vingåker' 'Gnesta' 'Nyköping' 'Oxelösund' 'Flen'\n",
      " 'Katrineholm' 'Eskilstuna' 'Strängnäs' 'Trosa' 'Ödeshög' 'Ydre' 'Kinda'\n",
      " 'Boxholm' 'Åtvidaberg' 'Finspång' 'Valdemarsvik' 'Linköping' 'Norrköping'\n",
      " 'Söderköping' 'Motala' 'Vadstena' 'Mjölby' 'Aneby' 'Gnosjö' 'Mullsjö'\n",
      " 'Habo' 'Gislaved' 'Vaggeryd' 'Jönköping' 'Nässjö' 'Värnamo' 'Sävsjö'\n",
      " 'Vetlanda' 'Eksjö' 'Tranås' 'Uppvidinge' 'Lessebo' 'Tingsryd' 'Alvesta'\n",
      " 'Älmhult' 'Markaryd' 'Växjö' 'Ljungby' 'Högsby' 'Torsås' 'Mörbylånga'\n",
      " 'Hultsfred' 'Mönsterås' 'Emmaboda' 'Kalmar' 'Nybro' 'Oskarshamn'\n",
      " 'Västervik' 'Vimmerby' 'Borgholm' 'Gotland' 'Olofström' 'Karlskrona'\n",
      " 'Ronneby' 'Karlshamn' 'Sölvesborg' 'Svalöv' 'Staffanstorp' 'Burlöv'\n",
      " 'Vellinge' 'Östra Göinge' 'Örkelljunga' 'Bjuv' 'Kävlinge' 'Lomma'\n",
      " 'Svedala' 'Skurup' 'Sjöbo' 'Hörby' 'Höör' 'Tomelilla' 'Bromölla' 'Osby'\n",
      " 'Perstorp' 'Klippan' 'Åstorp' 'Båstad' 'Malmö' 'Lund' 'Landskrona'\n",
      " 'Helsingborg' 'Höganäs' 'Eslöv' 'Ystad' 'Trelleborg' 'Kristianstad'\n",
      " 'Simrishamn' 'Ängelholm' 'Hässleholm' 'Hylte' 'Halmstad' 'Laholm'\n",
      " 'Falkenberg' 'Varberg' 'Kungsbacka' 'Härryda' 'Partille' 'Öckerö'\n",
      " 'Stenungsund' 'Tjörn' 'Orust' 'Sotenäs' 'Munkedal' 'Tanum' 'Dals-Ed'\n",
      " 'Färgelanda' 'Ale' 'Lerum' 'Vårgårda' 'Bollebygd' 'Grästorp' 'Essunga'\n",
      " 'Karlsborg' 'Gullspång' 'Tranemo' 'Bengtsfors' 'Mellerud' 'Lilla Edet'\n",
      " 'Mark' 'Svenljunga' 'Herrljunga' 'Vara' 'Götene' 'Tibro' 'Töreboda'\n",
      " 'Göteborg' 'Mölndal' 'Kungälv' 'Lysekil' 'Uddevalla' 'Strömstad'\n",
      " 'Vänersborg' 'Trollhättan' 'Alingsås' 'Borås' 'Ulricehamn' 'Åmål'\n",
      " 'Mariestad' 'Lidköping' 'Skara' 'Skövde' 'Hjo' 'Tidaholm' 'Falköping'\n",
      " 'Kil' 'Eda' 'Torsby' 'Storfors' 'Hammarö' 'Munkfors' 'Forshaga' 'Grums'\n",
      " 'Årjäng' 'Sunne' 'Karlstad' 'Kristinehamn' 'Filipstad' 'Hagfors' 'Arvika'\n",
      " 'Säffle' 'Lekeberg' 'Laxå' 'Hallsberg' 'Degerfors' 'Hällefors'\n",
      " 'Ljusnarsberg' 'Örebro' 'Kumla' 'Askersund' 'Karlskoga' 'Nora'\n",
      " 'Lindesberg' 'Skinnskatteberg' 'Surahammar' 'Kungsör' 'Hallstahammar'\n",
      " 'Norberg' 'Västerås' 'Sala' 'Fagersta' 'Köping' 'Arboga' 'Vansbro'\n",
      " 'Malung-Sälen' 'Gagnef' 'Leksand' 'Rättvik' 'Orsa' 'Älvdalen'\n",
      " 'Smedjebacken' 'Mora' 'Falun' 'Borlänge' 'Säter' 'Hedemora' 'Avesta'\n",
      " 'Ludvika' 'Ockelbo' 'Hofors' 'Ovanåker' 'Nordanstig' 'Ljusdal' 'Gävle'\n",
      " 'Sandviken' 'Söderhamn' 'Bollnäs' 'Hudiksvall' 'Ånge' 'Timrå' 'Härnösand'\n",
      " 'Sundsvall' 'Kramfors' 'Sollefteå' 'Örnsköldsvik' 'Ragunda' 'Bräcke'\n",
      " 'Krokom' 'Strömsund' 'Åre' 'Berg' 'Härjedalen' 'Östersund' 'Nordmaling'\n",
      " 'Bjurholm' 'Vindeln' 'Robertsfors' 'Norsjö' 'Malå' 'Storuman' 'Sorsele'\n",
      " 'Dorotea' 'Vännäs' 'Vilhelmina' 'Åsele' 'Umeå' 'Lycksele' 'Skellefteå'\n",
      " 'Arvidsjaur' 'Arjeplog' 'Jokkmokk' 'Överkalix' 'Kalix' 'Övertorneå'\n",
      " 'Pajala' 'Gällivare' 'Älvsbyn' 'Luleå' 'Piteå' 'Boden' 'Haparanda'\n",
      " 'Kiruna'] \n",
      "Total: 290\n"
     ]
    }
   ],
   "source": [
    "city_name = df[\"Kommun_namn\"].unique()\n",
    "print(f\"countys in data: {city_name} \\nTotal: {len(city_name)}\")"
   ]
  },
  {
   "cell_type": "code",
   "execution_count": 55,
   "metadata": {},
   "outputs": [
    {
     "data": {
      "text/plain": [
       "9092790"
      ]
     },
     "execution_count": 55,
     "metadata": {},
     "output_type": "execute_result"
    }
   ],
   "source": [
    "population_tot = df[\"Befolkning\"].sum()\n",
    "population_tot"
   ]
  },
  {
   "cell_type": "code",
   "execution_count": 46,
   "metadata": {},
   "outputs": [
    {
     "data": {
      "text/plain": [
       "array(['12-15', '16-17', '18-29', '30-39', '40-49', '50-59', '60-69',\n",
       "       '70-79', '80-89', '90 eller äldre'], dtype=object)"
      ]
     },
     "execution_count": 46,
     "metadata": {},
     "output_type": "execute_result"
    }
   ],
   "source": [
    "df[\"Ålder\"].unique()"
   ]
  },
  {
   "cell_type": "code",
   "execution_count": 57,
   "metadata": {},
   "outputs": [
    {
     "data": {
      "text/plain": [
       "745370"
      ]
     },
     "execution_count": 57,
     "metadata": {},
     "output_type": "execute_result"
    }
   ],
   "source": [
    "under15 = df[df[\"Ålder\"] == \"12-15\"]\n",
    "under18 = df[df[\"Ålder\"] == \"16-17\"]\n",
    "population_12_to_17 = under15[\"Befolkning\"].sum() + under18[\"Befolkning\"].sum()\n",
    "population_12_to_17"
   ]
  },
  {
   "cell_type": "code",
   "execution_count": 61,
   "metadata": {},
   "outputs": [
    {
     "name": "stdout",
     "output_type": "stream",
     "text": [
      "there are 2165400 number of kids in sweden\n"
     ]
    }
   ],
   "source": [
    "# Data is from 2022 according to scb swedens population at the time is equal to 10 512 820\n",
    "population = 10512820\n",
    "# The data only contains people who are 12 and up meaning that the difference between the data population and real population are kids below 12\n",
    "under12 = population - population_tot\n",
    "# According to the data the population under 18 in sweden is \n",
    "population_kids = under12 + population_12_to_17\n",
    "print(f\"there are {population_kids} number of kids in sweden\")"
   ]
  },
  {
   "cell_type": "code",
   "execution_count": 83,
   "metadata": {},
   "outputs": [
    {
     "data": {
      "text/plain": [
       "1420030"
      ]
     },
     "execution_count": 83,
     "metadata": {},
     "output_type": "execute_result"
    }
   ],
   "source": [
    "under12"
   ]
  },
  {
   "cell_type": "code",
   "execution_count": 99,
   "metadata": {},
   "outputs": [
    {
     "data": {
      "text/html": [
       "<div>\n",
       "<style scoped>\n",
       "    .dataframe tbody tr th:only-of-type {\n",
       "        vertical-align: middle;\n",
       "    }\n",
       "\n",
       "    .dataframe tbody tr th {\n",
       "        vertical-align: top;\n",
       "    }\n",
       "\n",
       "    .dataframe thead th {\n",
       "        text-align: right;\n",
       "    }\n",
       "</style>\n",
       "<table border=\"1\" class=\"dataframe\">\n",
       "  <thead>\n",
       "    <tr style=\"text-align: right;\">\n",
       "      <th></th>\n",
       "      <th>Ålder</th>\n",
       "      <th>Län</th>\n",
       "      <th>Kommun</th>\n",
       "      <th>Befolkning</th>\n",
       "      <th>Antal minst 1 dos</th>\n",
       "      <th>Antal minst 2 doser</th>\n",
       "      <th>Antal 3 doser</th>\n",
       "      <th>Antal 4 doser</th>\n",
       "      <th>Andel minst 1 dos</th>\n",
       "      <th>Andel minst 2 doser</th>\n",
       "      <th>Andel 3 doser</th>\n",
       "      <th>Andel 4 doser</th>\n",
       "    </tr>\n",
       "  </thead>\n",
       "  <tbody>\n",
       "    <tr>\n",
       "      <th>0</th>\n",
       "      <td>12-15</td>\n",
       "      <td>3836</td>\n",
       "      <td>400806</td>\n",
       "      <td>503831</td>\n",
       "      <td>278472</td>\n",
       "      <td>255794</td>\n",
       "      <td>0.0</td>\n",
       "      <td>0.0</td>\n",
       "      <td>162.461377</td>\n",
       "      <td>151.136554</td>\n",
       "      <td>0.000000</td>\n",
       "      <td>0.000000</td>\n",
       "    </tr>\n",
       "    <tr>\n",
       "      <th>1</th>\n",
       "      <td>16-17</td>\n",
       "      <td>3836</td>\n",
       "      <td>400806</td>\n",
       "      <td>241539</td>\n",
       "      <td>187095</td>\n",
       "      <td>175511</td>\n",
       "      <td>0.0</td>\n",
       "      <td>0.0</td>\n",
       "      <td>228.713948</td>\n",
       "      <td>216.427558</td>\n",
       "      <td>0.000000</td>\n",
       "      <td>0.000000</td>\n",
       "    </tr>\n",
       "    <tr>\n",
       "      <th>2</th>\n",
       "      <td>18-29</td>\n",
       "      <td>3836</td>\n",
       "      <td>400806</td>\n",
       "      <td>1475950</td>\n",
       "      <td>1201738</td>\n",
       "      <td>1145101</td>\n",
       "      <td>574562.0</td>\n",
       "      <td>0.0</td>\n",
       "      <td>233.569585</td>\n",
       "      <td>223.683116</td>\n",
       "      <td>104.611213</td>\n",
       "      <td>0.000000</td>\n",
       "    </tr>\n",
       "    <tr>\n",
       "      <th>3</th>\n",
       "      <td>30-39</td>\n",
       "      <td>3836</td>\n",
       "      <td>400806</td>\n",
       "      <td>1467590</td>\n",
       "      <td>1190268</td>\n",
       "      <td>1148565</td>\n",
       "      <td>690602.0</td>\n",
       "      <td>0.0</td>\n",
       "      <td>236.943323</td>\n",
       "      <td>230.016848</td>\n",
       "      <td>135.587366</td>\n",
       "      <td>0.000000</td>\n",
       "    </tr>\n",
       "    <tr>\n",
       "      <th>4</th>\n",
       "      <td>40-49</td>\n",
       "      <td>3836</td>\n",
       "      <td>400806</td>\n",
       "      <td>1298156</td>\n",
       "      <td>1117748</td>\n",
       "      <td>1095919</td>\n",
       "      <td>792005.0</td>\n",
       "      <td>0.0</td>\n",
       "      <td>250.907955</td>\n",
       "      <td>246.871268</td>\n",
       "      <td>179.341058</td>\n",
       "      <td>0.000000</td>\n",
       "    </tr>\n",
       "    <tr>\n",
       "      <th>5</th>\n",
       "      <td>50-59</td>\n",
       "      <td>3836</td>\n",
       "      <td>400806</td>\n",
       "      <td>1339798</td>\n",
       "      <td>1210867</td>\n",
       "      <td>1197484</td>\n",
       "      <td>1001154.0</td>\n",
       "      <td>0.0</td>\n",
       "      <td>262.621936</td>\n",
       "      <td>260.184576</td>\n",
       "      <td>220.247945</td>\n",
       "      <td>0.000000</td>\n",
       "    </tr>\n",
       "    <tr>\n",
       "      <th>6</th>\n",
       "      <td>60-69</td>\n",
       "      <td>3836</td>\n",
       "      <td>400806</td>\n",
       "      <td>1121922</td>\n",
       "      <td>1044122</td>\n",
       "      <td>1036108</td>\n",
       "      <td>949834.0</td>\n",
       "      <td>0.0</td>\n",
       "      <td>271.173866</td>\n",
       "      <td>269.487791</td>\n",
       "      <td>249.675523</td>\n",
       "      <td>0.000000</td>\n",
       "    </tr>\n",
       "    <tr>\n",
       "      <th>7</th>\n",
       "      <td>70-79</td>\n",
       "      <td>3836</td>\n",
       "      <td>400806</td>\n",
       "      <td>1033113</td>\n",
       "      <td>990492</td>\n",
       "      <td>985802</td>\n",
       "      <td>952169.0</td>\n",
       "      <td>831778.0</td>\n",
       "      <td>278.752912</td>\n",
       "      <td>277.696766</td>\n",
       "      <td>269.185995</td>\n",
       "      <td>236.109163</td>\n",
       "    </tr>\n",
       "    <tr>\n",
       "      <th>8</th>\n",
       "      <td>80-89</td>\n",
       "      <td>3836</td>\n",
       "      <td>400806</td>\n",
       "      <td>496750</td>\n",
       "      <td>480683</td>\n",
       "      <td>479059</td>\n",
       "      <td>468246.0</td>\n",
       "      <td>429909.0</td>\n",
       "      <td>281.314190</td>\n",
       "      <td>280.538641</td>\n",
       "      <td>274.857269</td>\n",
       "      <td>253.921971</td>\n",
       "    </tr>\n",
       "    <tr>\n",
       "      <th>9</th>\n",
       "      <td>90 eller äldre</td>\n",
       "      <td>3836</td>\n",
       "      <td>400806</td>\n",
       "      <td>114141</td>\n",
       "      <td>109623</td>\n",
       "      <td>109242</td>\n",
       "      <td>106746.0</td>\n",
       "      <td>97724.0</td>\n",
       "      <td>278.912084</td>\n",
       "      <td>278.103529</td>\n",
       "      <td>272.714532</td>\n",
       "      <td>251.555000</td>\n",
       "    </tr>\n",
       "  </tbody>\n",
       "</table>\n",
       "</div>"
      ],
      "text/plain": [
       "            Ålder   Län  Kommun  Befolkning  Antal minst 1 dos  \\\n",
       "0           12-15  3836  400806      503831             278472   \n",
       "1           16-17  3836  400806      241539             187095   \n",
       "2           18-29  3836  400806     1475950            1201738   \n",
       "3           30-39  3836  400806     1467590            1190268   \n",
       "4           40-49  3836  400806     1298156            1117748   \n",
       "5           50-59  3836  400806     1339798            1210867   \n",
       "6           60-69  3836  400806     1121922            1044122   \n",
       "7           70-79  3836  400806     1033113             990492   \n",
       "8           80-89  3836  400806      496750             480683   \n",
       "9  90 eller äldre  3836  400806      114141             109623   \n",
       "\n",
       "   Antal minst 2 doser  Antal 3 doser  Antal 4 doser  Andel minst 1 dos  \\\n",
       "0               255794            0.0            0.0         162.461377   \n",
       "1               175511            0.0            0.0         228.713948   \n",
       "2              1145101       574562.0            0.0         233.569585   \n",
       "3              1148565       690602.0            0.0         236.943323   \n",
       "4              1095919       792005.0            0.0         250.907955   \n",
       "5              1197484      1001154.0            0.0         262.621936   \n",
       "6              1036108       949834.0            0.0         271.173866   \n",
       "7               985802       952169.0       831778.0         278.752912   \n",
       "8               479059       468246.0       429909.0         281.314190   \n",
       "9               109242       106746.0        97724.0         278.912084   \n",
       "\n",
       "   Andel minst 2 doser  Andel 3 doser  Andel 4 doser  \n",
       "0           151.136554       0.000000       0.000000  \n",
       "1           216.427558       0.000000       0.000000  \n",
       "2           223.683116     104.611213       0.000000  \n",
       "3           230.016848     135.587366       0.000000  \n",
       "4           246.871268     179.341058       0.000000  \n",
       "5           260.184576     220.247945       0.000000  \n",
       "6           269.487791     249.675523       0.000000  \n",
       "7           277.696766     269.185995     236.109163  \n",
       "8           280.538641     274.857269     253.921971  \n",
       "9           278.103529     272.714532     251.555000  "
      ]
     },
     "execution_count": 99,
     "metadata": {},
     "output_type": "execute_result"
    }
   ],
   "source": [
    "age = df.groupby(\"Ålder\").sum(\"Befolkning\").reset_index()\n",
    "age\n"
   ]
  },
  {
   "cell_type": "code",
   "execution_count": 97,
   "metadata": {},
   "outputs": [
    {
     "data": {
      "application/vnd.plotly.v1+json": {
       "config": {
        "plotlyServerURL": "https://plot.ly"
       },
       "data": [
        {
         "alignmentgroup": "True",
         "hovertemplate": "Ålder=%{x}<br>Befolkning=%{y}<extra></extra>",
         "legendgroup": "",
         "marker": {
          "color": "#636efa",
          "pattern": {
           "shape": ""
          }
         },
         "name": "",
         "offsetgroup": "",
         "orientation": "v",
         "showlegend": false,
         "textposition": "auto",
         "type": "bar",
         "x": [
          "12-15",
          "16-17",
          "18-29",
          "30-39",
          "40-49",
          "50-59",
          "60-69",
          "70-79",
          "80-89",
          "90 eller äldre"
         ],
         "xaxis": "x",
         "y": [
          503831,
          241539,
          1475950,
          1467590,
          1298156,
          1339798,
          1121922,
          1033113,
          496750,
          114141
         ],
         "yaxis": "y"
        }
       ],
       "layout": {
        "barmode": "relative",
        "legend": {
         "tracegroupgap": 0
        },
        "margin": {
         "t": 60
        },
        "template": {
         "data": {
          "bar": [
           {
            "error_x": {
             "color": "#2a3f5f"
            },
            "error_y": {
             "color": "#2a3f5f"
            },
            "marker": {
             "line": {
              "color": "#E5ECF6",
              "width": 0.5
             },
             "pattern": {
              "fillmode": "overlay",
              "size": 10,
              "solidity": 0.2
             }
            },
            "type": "bar"
           }
          ],
          "barpolar": [
           {
            "marker": {
             "line": {
              "color": "#E5ECF6",
              "width": 0.5
             },
             "pattern": {
              "fillmode": "overlay",
              "size": 10,
              "solidity": 0.2
             }
            },
            "type": "barpolar"
           }
          ],
          "carpet": [
           {
            "aaxis": {
             "endlinecolor": "#2a3f5f",
             "gridcolor": "white",
             "linecolor": "white",
             "minorgridcolor": "white",
             "startlinecolor": "#2a3f5f"
            },
            "baxis": {
             "endlinecolor": "#2a3f5f",
             "gridcolor": "white",
             "linecolor": "white",
             "minorgridcolor": "white",
             "startlinecolor": "#2a3f5f"
            },
            "type": "carpet"
           }
          ],
          "choropleth": [
           {
            "colorbar": {
             "outlinewidth": 0,
             "ticks": ""
            },
            "type": "choropleth"
           }
          ],
          "contour": [
           {
            "colorbar": {
             "outlinewidth": 0,
             "ticks": ""
            },
            "colorscale": [
             [
              0,
              "#0d0887"
             ],
             [
              0.1111111111111111,
              "#46039f"
             ],
             [
              0.2222222222222222,
              "#7201a8"
             ],
             [
              0.3333333333333333,
              "#9c179e"
             ],
             [
              0.4444444444444444,
              "#bd3786"
             ],
             [
              0.5555555555555556,
              "#d8576b"
             ],
             [
              0.6666666666666666,
              "#ed7953"
             ],
             [
              0.7777777777777778,
              "#fb9f3a"
             ],
             [
              0.8888888888888888,
              "#fdca26"
             ],
             [
              1,
              "#f0f921"
             ]
            ],
            "type": "contour"
           }
          ],
          "contourcarpet": [
           {
            "colorbar": {
             "outlinewidth": 0,
             "ticks": ""
            },
            "type": "contourcarpet"
           }
          ],
          "heatmap": [
           {
            "colorbar": {
             "outlinewidth": 0,
             "ticks": ""
            },
            "colorscale": [
             [
              0,
              "#0d0887"
             ],
             [
              0.1111111111111111,
              "#46039f"
             ],
             [
              0.2222222222222222,
              "#7201a8"
             ],
             [
              0.3333333333333333,
              "#9c179e"
             ],
             [
              0.4444444444444444,
              "#bd3786"
             ],
             [
              0.5555555555555556,
              "#d8576b"
             ],
             [
              0.6666666666666666,
              "#ed7953"
             ],
             [
              0.7777777777777778,
              "#fb9f3a"
             ],
             [
              0.8888888888888888,
              "#fdca26"
             ],
             [
              1,
              "#f0f921"
             ]
            ],
            "type": "heatmap"
           }
          ],
          "heatmapgl": [
           {
            "colorbar": {
             "outlinewidth": 0,
             "ticks": ""
            },
            "colorscale": [
             [
              0,
              "#0d0887"
             ],
             [
              0.1111111111111111,
              "#46039f"
             ],
             [
              0.2222222222222222,
              "#7201a8"
             ],
             [
              0.3333333333333333,
              "#9c179e"
             ],
             [
              0.4444444444444444,
              "#bd3786"
             ],
             [
              0.5555555555555556,
              "#d8576b"
             ],
             [
              0.6666666666666666,
              "#ed7953"
             ],
             [
              0.7777777777777778,
              "#fb9f3a"
             ],
             [
              0.8888888888888888,
              "#fdca26"
             ],
             [
              1,
              "#f0f921"
             ]
            ],
            "type": "heatmapgl"
           }
          ],
          "histogram": [
           {
            "marker": {
             "pattern": {
              "fillmode": "overlay",
              "size": 10,
              "solidity": 0.2
             }
            },
            "type": "histogram"
           }
          ],
          "histogram2d": [
           {
            "colorbar": {
             "outlinewidth": 0,
             "ticks": ""
            },
            "colorscale": [
             [
              0,
              "#0d0887"
             ],
             [
              0.1111111111111111,
              "#46039f"
             ],
             [
              0.2222222222222222,
              "#7201a8"
             ],
             [
              0.3333333333333333,
              "#9c179e"
             ],
             [
              0.4444444444444444,
              "#bd3786"
             ],
             [
              0.5555555555555556,
              "#d8576b"
             ],
             [
              0.6666666666666666,
              "#ed7953"
             ],
             [
              0.7777777777777778,
              "#fb9f3a"
             ],
             [
              0.8888888888888888,
              "#fdca26"
             ],
             [
              1,
              "#f0f921"
             ]
            ],
            "type": "histogram2d"
           }
          ],
          "histogram2dcontour": [
           {
            "colorbar": {
             "outlinewidth": 0,
             "ticks": ""
            },
            "colorscale": [
             [
              0,
              "#0d0887"
             ],
             [
              0.1111111111111111,
              "#46039f"
             ],
             [
              0.2222222222222222,
              "#7201a8"
             ],
             [
              0.3333333333333333,
              "#9c179e"
             ],
             [
              0.4444444444444444,
              "#bd3786"
             ],
             [
              0.5555555555555556,
              "#d8576b"
             ],
             [
              0.6666666666666666,
              "#ed7953"
             ],
             [
              0.7777777777777778,
              "#fb9f3a"
             ],
             [
              0.8888888888888888,
              "#fdca26"
             ],
             [
              1,
              "#f0f921"
             ]
            ],
            "type": "histogram2dcontour"
           }
          ],
          "mesh3d": [
           {
            "colorbar": {
             "outlinewidth": 0,
             "ticks": ""
            },
            "type": "mesh3d"
           }
          ],
          "parcoords": [
           {
            "line": {
             "colorbar": {
              "outlinewidth": 0,
              "ticks": ""
             }
            },
            "type": "parcoords"
           }
          ],
          "pie": [
           {
            "automargin": true,
            "type": "pie"
           }
          ],
          "scatter": [
           {
            "fillpattern": {
             "fillmode": "overlay",
             "size": 10,
             "solidity": 0.2
            },
            "type": "scatter"
           }
          ],
          "scatter3d": [
           {
            "line": {
             "colorbar": {
              "outlinewidth": 0,
              "ticks": ""
             }
            },
            "marker": {
             "colorbar": {
              "outlinewidth": 0,
              "ticks": ""
             }
            },
            "type": "scatter3d"
           }
          ],
          "scattercarpet": [
           {
            "marker": {
             "colorbar": {
              "outlinewidth": 0,
              "ticks": ""
             }
            },
            "type": "scattercarpet"
           }
          ],
          "scattergeo": [
           {
            "marker": {
             "colorbar": {
              "outlinewidth": 0,
              "ticks": ""
             }
            },
            "type": "scattergeo"
           }
          ],
          "scattergl": [
           {
            "marker": {
             "colorbar": {
              "outlinewidth": 0,
              "ticks": ""
             }
            },
            "type": "scattergl"
           }
          ],
          "scattermapbox": [
           {
            "marker": {
             "colorbar": {
              "outlinewidth": 0,
              "ticks": ""
             }
            },
            "type": "scattermapbox"
           }
          ],
          "scatterpolar": [
           {
            "marker": {
             "colorbar": {
              "outlinewidth": 0,
              "ticks": ""
             }
            },
            "type": "scatterpolar"
           }
          ],
          "scatterpolargl": [
           {
            "marker": {
             "colorbar": {
              "outlinewidth": 0,
              "ticks": ""
             }
            },
            "type": "scatterpolargl"
           }
          ],
          "scatterternary": [
           {
            "marker": {
             "colorbar": {
              "outlinewidth": 0,
              "ticks": ""
             }
            },
            "type": "scatterternary"
           }
          ],
          "surface": [
           {
            "colorbar": {
             "outlinewidth": 0,
             "ticks": ""
            },
            "colorscale": [
             [
              0,
              "#0d0887"
             ],
             [
              0.1111111111111111,
              "#46039f"
             ],
             [
              0.2222222222222222,
              "#7201a8"
             ],
             [
              0.3333333333333333,
              "#9c179e"
             ],
             [
              0.4444444444444444,
              "#bd3786"
             ],
             [
              0.5555555555555556,
              "#d8576b"
             ],
             [
              0.6666666666666666,
              "#ed7953"
             ],
             [
              0.7777777777777778,
              "#fb9f3a"
             ],
             [
              0.8888888888888888,
              "#fdca26"
             ],
             [
              1,
              "#f0f921"
             ]
            ],
            "type": "surface"
           }
          ],
          "table": [
           {
            "cells": {
             "fill": {
              "color": "#EBF0F8"
             },
             "line": {
              "color": "white"
             }
            },
            "header": {
             "fill": {
              "color": "#C8D4E3"
             },
             "line": {
              "color": "white"
             }
            },
            "type": "table"
           }
          ]
         },
         "layout": {
          "annotationdefaults": {
           "arrowcolor": "#2a3f5f",
           "arrowhead": 0,
           "arrowwidth": 1
          },
          "autotypenumbers": "strict",
          "coloraxis": {
           "colorbar": {
            "outlinewidth": 0,
            "ticks": ""
           }
          },
          "colorscale": {
           "diverging": [
            [
             0,
             "#8e0152"
            ],
            [
             0.1,
             "#c51b7d"
            ],
            [
             0.2,
             "#de77ae"
            ],
            [
             0.3,
             "#f1b6da"
            ],
            [
             0.4,
             "#fde0ef"
            ],
            [
             0.5,
             "#f7f7f7"
            ],
            [
             0.6,
             "#e6f5d0"
            ],
            [
             0.7,
             "#b8e186"
            ],
            [
             0.8,
             "#7fbc41"
            ],
            [
             0.9,
             "#4d9221"
            ],
            [
             1,
             "#276419"
            ]
           ],
           "sequential": [
            [
             0,
             "#0d0887"
            ],
            [
             0.1111111111111111,
             "#46039f"
            ],
            [
             0.2222222222222222,
             "#7201a8"
            ],
            [
             0.3333333333333333,
             "#9c179e"
            ],
            [
             0.4444444444444444,
             "#bd3786"
            ],
            [
             0.5555555555555556,
             "#d8576b"
            ],
            [
             0.6666666666666666,
             "#ed7953"
            ],
            [
             0.7777777777777778,
             "#fb9f3a"
            ],
            [
             0.8888888888888888,
             "#fdca26"
            ],
            [
             1,
             "#f0f921"
            ]
           ],
           "sequentialminus": [
            [
             0,
             "#0d0887"
            ],
            [
             0.1111111111111111,
             "#46039f"
            ],
            [
             0.2222222222222222,
             "#7201a8"
            ],
            [
             0.3333333333333333,
             "#9c179e"
            ],
            [
             0.4444444444444444,
             "#bd3786"
            ],
            [
             0.5555555555555556,
             "#d8576b"
            ],
            [
             0.6666666666666666,
             "#ed7953"
            ],
            [
             0.7777777777777778,
             "#fb9f3a"
            ],
            [
             0.8888888888888888,
             "#fdca26"
            ],
            [
             1,
             "#f0f921"
            ]
           ]
          },
          "colorway": [
           "#636efa",
           "#EF553B",
           "#00cc96",
           "#ab63fa",
           "#FFA15A",
           "#19d3f3",
           "#FF6692",
           "#B6E880",
           "#FF97FF",
           "#FECB52"
          ],
          "font": {
           "color": "#2a3f5f"
          },
          "geo": {
           "bgcolor": "white",
           "lakecolor": "white",
           "landcolor": "#E5ECF6",
           "showlakes": true,
           "showland": true,
           "subunitcolor": "white"
          },
          "hoverlabel": {
           "align": "left"
          },
          "hovermode": "closest",
          "mapbox": {
           "style": "light"
          },
          "paper_bgcolor": "white",
          "plot_bgcolor": "#E5ECF6",
          "polar": {
           "angularaxis": {
            "gridcolor": "white",
            "linecolor": "white",
            "ticks": ""
           },
           "bgcolor": "#E5ECF6",
           "radialaxis": {
            "gridcolor": "white",
            "linecolor": "white",
            "ticks": ""
           }
          },
          "scene": {
           "xaxis": {
            "backgroundcolor": "#E5ECF6",
            "gridcolor": "white",
            "gridwidth": 2,
            "linecolor": "white",
            "showbackground": true,
            "ticks": "",
            "zerolinecolor": "white"
           },
           "yaxis": {
            "backgroundcolor": "#E5ECF6",
            "gridcolor": "white",
            "gridwidth": 2,
            "linecolor": "white",
            "showbackground": true,
            "ticks": "",
            "zerolinecolor": "white"
           },
           "zaxis": {
            "backgroundcolor": "#E5ECF6",
            "gridcolor": "white",
            "gridwidth": 2,
            "linecolor": "white",
            "showbackground": true,
            "ticks": "",
            "zerolinecolor": "white"
           }
          },
          "shapedefaults": {
           "line": {
            "color": "#2a3f5f"
           }
          },
          "ternary": {
           "aaxis": {
            "gridcolor": "white",
            "linecolor": "white",
            "ticks": ""
           },
           "baxis": {
            "gridcolor": "white",
            "linecolor": "white",
            "ticks": ""
           },
           "bgcolor": "#E5ECF6",
           "caxis": {
            "gridcolor": "white",
            "linecolor": "white",
            "ticks": ""
           }
          },
          "title": {
           "x": 0.05
          },
          "xaxis": {
           "automargin": true,
           "gridcolor": "white",
           "linecolor": "white",
           "ticks": "",
           "title": {
            "standoff": 15
           },
           "zerolinecolor": "white",
           "zerolinewidth": 2
          },
          "yaxis": {
           "automargin": true,
           "gridcolor": "white",
           "linecolor": "white",
           "ticks": "",
           "title": {
            "standoff": 15
           },
           "zerolinecolor": "white",
           "zerolinewidth": 2
          }
         }
        },
        "xaxis": {
         "anchor": "y",
         "domain": [
          0,
          1
         ],
         "title": {
          "text": "Ålder"
         }
        },
        "yaxis": {
         "anchor": "x",
         "domain": [
          0,
          1
         ],
         "title": {
          "text": "Befolkning"
         }
        }
       }
      }
     },
     "metadata": {},
     "output_type": "display_data"
    }
   ],
   "source": [
    "fig = px.bar(age, x = \"Ålder\", y = \"Befolkning\")\n",
    "fig.show()"
   ]
  },
  {
   "cell_type": "code",
   "execution_count": null,
   "metadata": {},
   "outputs": [],
   "source": []
  }
 ],
 "metadata": {
  "kernelspec": {
   "display_name": "Python 3.9.13 ('Databehandling-Rasmus-Johansson-WFlJ2LV8')",
   "language": "python",
   "name": "python3"
  },
  "language_info": {
   "codemirror_mode": {
    "name": "ipython",
    "version": 3
   },
   "file_extension": ".py",
   "mimetype": "text/x-python",
   "name": "python",
   "nbconvert_exporter": "python",
   "pygments_lexer": "ipython3",
   "version": "3.9.13"
  },
  "orig_nbformat": 4,
  "vscode": {
   "interpreter": {
    "hash": "565a4fb94d27978a249d0ec763122eb60501a54d6fc07465494bdbc40fd8eb13"
   }
  }
 },
 "nbformat": 4,
 "nbformat_minor": 2
}
